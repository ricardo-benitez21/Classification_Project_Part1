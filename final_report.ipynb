{
 "cells": [
  {
   "cell_type": "markdown",
   "id": "fef66416-249c-4704-90c8-ae6dc60927d3",
   "metadata": {
    "tags": []
   },
   "source": [
    "# Telco Customers Churning Analysis"
   ]
  },
  {
   "cell_type": "markdown",
   "id": "e8acd616-8e05-4143-9dee-422dfc81e6ee",
   "metadata": {},
   "source": [
    "## Goal :"
   ]
  },
  {
   "cell_type": "markdown",
   "id": "4f3e31af-085d-4033-87b4-3cbae2b7846e",
   "metadata": {},
   "source": [
    "* Find out what are the drivers that are leading to customers churning\n",
    "* Use the drivers to develop a machine learning model to see if features chosen result in churning"
   ]
  },
  {
   "cell_type": "code",
   "execution_count": 1,
   "id": "fa25a2e4-609f-49d6-b707-f32911bb1c22",
   "metadata": {
    "tags": []
   },
   "outputs": [],
   "source": [
    "# Standard imports\n",
    "import pandas as pd\n",
    "import numpy as np\n",
    "\n",
    "# Visualization imports\n",
    "import matplotlib.pyplot as plt\n",
    "import seaborn as sns\n",
    "\n",
    "# Modeling imports\n",
    "from sklearn.tree import DecisionTreeClassifier\n",
    "from sklearn.ensemble import RandomForestClassifier\n",
    "from sklearn.linear_model import LogisticRegression\n",
    "from sklearn.neighbors import KNeighborsClassifier\n",
    "\n",
    "\n",
    "# Prepping data imports\n",
    "from sklearn.model_selection import train_test_split\n",
    "from sklearn.preprocessing import OneHotEncoder\n",
    "\n",
    "# Evaulation imports\n",
    "from sklearn.metrics import classification_report\n",
    "from sklearn.metrics import confusion_matrix\n",
    "from sklearn.metrics import accuracy_score\n",
    "\n",
    "# Stats imports\n",
    "from scipy import stats\n",
    "\n",
    "# My own imports\n",
    "import acquire as a\n",
    "import prepare\n",
    "import explore as e\n",
    "import model as m\n",
    "\n",
    "# Time import\n",
    "import time\n",
    "\n",
    "# Itertools imports\n",
    "import itertools\n",
    "import operator"
   ]
  },
  {
   "cell_type": "markdown",
   "id": "c8e5b7e4-3c1c-4bb1-b258-0e0f8acddeea",
   "metadata": {
    "tags": []
   },
   "source": [
    "## Acquire"
   ]
  },
  {
   "cell_type": "markdown",
   "id": "8648e29b-7e84-4276-86d0-e78e06686fa5",
   "metadata": {},
   "source": [
    "* Data was acquired from MySql database using telco_churn\n",
    "* The datframe had 7043 rows and 24 columns before it was cleaned\n",
    "* Rows represent telco customers \n",
    "* Columns are features that describe the customer"
   ]
  },
  {
   "cell_type": "code",
   "execution_count": 2,
   "id": "091635c1-eb05-4a59-8d87-a30bc222b3c0",
   "metadata": {
    "tags": []
   },
   "outputs": [
    {
     "name": "stdout",
     "output_type": "stream",
     "text": [
      "this file exists, reading csv\n"
     ]
    }
   ],
   "source": [
    "# using my acquire.py file\n",
    "\n",
    "df = a.get_telco_data()"
   ]
  },
  {
   "cell_type": "markdown",
   "id": "9693ad57-2f33-4f26-b102-19bb26270050",
   "metadata": {},
   "source": [
    "## Prepare"
   ]
  },
  {
   "cell_type": "markdown",
   "id": "1a8903e8-ef56-47d0-ade6-c74654560d88",
   "metadata": {},
   "source": [
    "* Drops unnecessary columns\n",
    "* Replace empty space values with 0.0 so it can have a value,\n",
    "* Filled in null values in internet_service_type\n",
    "* Split into train, validate, and test dataframes"
   ]
  },
  {
   "cell_type": "code",
   "execution_count": 3,
   "id": "8e93c986-37dc-4f8f-a41b-528755d05208",
   "metadata": {
    "tags": []
   },
   "outputs": [],
   "source": [
    "# using my prepare.py file to clean the data with the transformations mentioned above\n",
    "df = prepare.prep_telco(df)"
   ]
  },
  {
   "cell_type": "code",
   "execution_count": 4,
   "id": "de8e6f39-9a75-4b78-8d7f-0bad41dcf44f",
   "metadata": {
    "tags": []
   },
   "outputs": [],
   "source": [
    "# using my prepare.py file to split the data into train, validate, and test dataframes with churn as the stratifying column\n",
    "train, validate, test = prepare.splitting_data(df, 'churn')"
   ]
  },
  {
   "cell_type": "code",
   "execution_count": 5,
   "id": "e020ef65-60b9-45fe-aafd-174e54157721",
   "metadata": {
    "tags": []
   },
   "outputs": [
    {
     "data": {
      "text/html": [
       "<div>\n",
       "<style scoped>\n",
       "    .dataframe tbody tr th:only-of-type {\n",
       "        vertical-align: middle;\n",
       "    }\n",
       "\n",
       "    .dataframe tbody tr th {\n",
       "        vertical-align: top;\n",
       "    }\n",
       "\n",
       "    .dataframe thead th {\n",
       "        text-align: right;\n",
       "    }\n",
       "</style>\n",
       "<table border=\"1\" class=\"dataframe\">\n",
       "  <thead>\n",
       "    <tr style=\"text-align: right;\">\n",
       "      <th></th>\n",
       "      <th>gender</th>\n",
       "      <th>senior_citizen</th>\n",
       "      <th>partner</th>\n",
       "      <th>dependents</th>\n",
       "      <th>tenure</th>\n",
       "      <th>phone_service</th>\n",
       "      <th>multiple_lines</th>\n",
       "      <th>online_security</th>\n",
       "      <th>online_backup</th>\n",
       "      <th>device_protection</th>\n",
       "      <th>tech_support</th>\n",
       "      <th>streaming_tv</th>\n",
       "      <th>streaming_movies</th>\n",
       "      <th>paperless_billing</th>\n",
       "      <th>monthly_charges</th>\n",
       "      <th>total_charges</th>\n",
       "      <th>churn</th>\n",
       "      <th>contract_type</th>\n",
       "      <th>internet_service_type</th>\n",
       "      <th>payment_type</th>\n",
       "    </tr>\n",
       "    <tr>\n",
       "      <th>customer_id</th>\n",
       "      <th></th>\n",
       "      <th></th>\n",
       "      <th></th>\n",
       "      <th></th>\n",
       "      <th></th>\n",
       "      <th></th>\n",
       "      <th></th>\n",
       "      <th></th>\n",
       "      <th></th>\n",
       "      <th></th>\n",
       "      <th></th>\n",
       "      <th></th>\n",
       "      <th></th>\n",
       "      <th></th>\n",
       "      <th></th>\n",
       "      <th></th>\n",
       "      <th></th>\n",
       "      <th></th>\n",
       "      <th></th>\n",
       "      <th></th>\n",
       "    </tr>\n",
       "  </thead>\n",
       "  <tbody>\n",
       "    <tr>\n",
       "      <th>4083-BFNYK</th>\n",
       "      <td>Female</td>\n",
       "      <td>1</td>\n",
       "      <td>Yes</td>\n",
       "      <td>No</td>\n",
       "      <td>38</td>\n",
       "      <td>Yes</td>\n",
       "      <td>Yes</td>\n",
       "      <td>Yes</td>\n",
       "      <td>Yes</td>\n",
       "      <td>No</td>\n",
       "      <td>No</td>\n",
       "      <td>No</td>\n",
       "      <td>Yes</td>\n",
       "      <td>No</td>\n",
       "      <td>95.00</td>\n",
       "      <td>3591.25</td>\n",
       "      <td>No</td>\n",
       "      <td>One year</td>\n",
       "      <td>Fiber optic</td>\n",
       "      <td>Credit card (automatic)</td>\n",
       "    </tr>\n",
       "    <tr>\n",
       "      <th>5804-LEPIM</th>\n",
       "      <td>Female</td>\n",
       "      <td>1</td>\n",
       "      <td>No</td>\n",
       "      <td>No</td>\n",
       "      <td>2</td>\n",
       "      <td>Yes</td>\n",
       "      <td>No</td>\n",
       "      <td>No</td>\n",
       "      <td>No</td>\n",
       "      <td>No</td>\n",
       "      <td>No</td>\n",
       "      <td>No</td>\n",
       "      <td>No</td>\n",
       "      <td>Yes</td>\n",
       "      <td>70.35</td>\n",
       "      <td>139.05</td>\n",
       "      <td>Yes</td>\n",
       "      <td>Month-to-month</td>\n",
       "      <td>Fiber optic</td>\n",
       "      <td>Electronic check</td>\n",
       "    </tr>\n",
       "    <tr>\n",
       "      <th>4895-TMWIR</th>\n",
       "      <td>Male</td>\n",
       "      <td>1</td>\n",
       "      <td>Yes</td>\n",
       "      <td>No</td>\n",
       "      <td>11</td>\n",
       "      <td>Yes</td>\n",
       "      <td>No</td>\n",
       "      <td>No internet service</td>\n",
       "      <td>No internet service</td>\n",
       "      <td>No internet service</td>\n",
       "      <td>No internet service</td>\n",
       "      <td>No internet service</td>\n",
       "      <td>No internet service</td>\n",
       "      <td>No</td>\n",
       "      <td>19.95</td>\n",
       "      <td>214.75</td>\n",
       "      <td>Yes</td>\n",
       "      <td>Month-to-month</td>\n",
       "      <td>None</td>\n",
       "      <td>Mailed check</td>\n",
       "    </tr>\n",
       "    <tr>\n",
       "      <th>1342-JPNKI</th>\n",
       "      <td>Male</td>\n",
       "      <td>0</td>\n",
       "      <td>No</td>\n",
       "      <td>No</td>\n",
       "      <td>10</td>\n",
       "      <td>Yes</td>\n",
       "      <td>Yes</td>\n",
       "      <td>No</td>\n",
       "      <td>No</td>\n",
       "      <td>No</td>\n",
       "      <td>No</td>\n",
       "      <td>Yes</td>\n",
       "      <td>No</td>\n",
       "      <td>Yes</td>\n",
       "      <td>86.05</td>\n",
       "      <td>834.10</td>\n",
       "      <td>Yes</td>\n",
       "      <td>Month-to-month</td>\n",
       "      <td>Fiber optic</td>\n",
       "      <td>Bank transfer (automatic)</td>\n",
       "    </tr>\n",
       "    <tr>\n",
       "      <th>3397-AVTKU</th>\n",
       "      <td>Male</td>\n",
       "      <td>0</td>\n",
       "      <td>No</td>\n",
       "      <td>No</td>\n",
       "      <td>43</td>\n",
       "      <td>Yes</td>\n",
       "      <td>No</td>\n",
       "      <td>No</td>\n",
       "      <td>Yes</td>\n",
       "      <td>No</td>\n",
       "      <td>No</td>\n",
       "      <td>No</td>\n",
       "      <td>Yes</td>\n",
       "      <td>Yes</td>\n",
       "      <td>60.00</td>\n",
       "      <td>2548.55</td>\n",
       "      <td>No</td>\n",
       "      <td>Two year</td>\n",
       "      <td>DSL</td>\n",
       "      <td>Electronic check</td>\n",
       "    </tr>\n",
       "  </tbody>\n",
       "</table>\n",
       "</div>"
      ],
      "text/plain": [
       "             gender  senior_citizen partner dependents  tenure phone_service  \\\n",
       "customer_id                                                                    \n",
       "4083-BFNYK   Female               1     Yes         No      38           Yes   \n",
       "5804-LEPIM   Female               1      No         No       2           Yes   \n",
       "4895-TMWIR     Male               1     Yes         No      11           Yes   \n",
       "1342-JPNKI     Male               0      No         No      10           Yes   \n",
       "3397-AVTKU     Male               0      No         No      43           Yes   \n",
       "\n",
       "            multiple_lines      online_security        online_backup  \\\n",
       "customer_id                                                            \n",
       "4083-BFNYK             Yes                  Yes                  Yes   \n",
       "5804-LEPIM              No                   No                   No   \n",
       "4895-TMWIR              No  No internet service  No internet service   \n",
       "1342-JPNKI             Yes                   No                   No   \n",
       "3397-AVTKU              No                   No                  Yes   \n",
       "\n",
       "               device_protection         tech_support         streaming_tv  \\\n",
       "customer_id                                                                  \n",
       "4083-BFNYK                    No                   No                   No   \n",
       "5804-LEPIM                    No                   No                   No   \n",
       "4895-TMWIR   No internet service  No internet service  No internet service   \n",
       "1342-JPNKI                    No                   No                  Yes   \n",
       "3397-AVTKU                    No                   No                   No   \n",
       "\n",
       "                streaming_movies paperless_billing  monthly_charges  \\\n",
       "customer_id                                                           \n",
       "4083-BFNYK                   Yes                No            95.00   \n",
       "5804-LEPIM                    No               Yes            70.35   \n",
       "4895-TMWIR   No internet service                No            19.95   \n",
       "1342-JPNKI                    No               Yes            86.05   \n",
       "3397-AVTKU                   Yes               Yes            60.00   \n",
       "\n",
       "             total_charges churn   contract_type internet_service_type  \\\n",
       "customer_id                                                              \n",
       "4083-BFNYK         3591.25    No        One year           Fiber optic   \n",
       "5804-LEPIM          139.05   Yes  Month-to-month           Fiber optic   \n",
       "4895-TMWIR          214.75   Yes  Month-to-month                  None   \n",
       "1342-JPNKI          834.10   Yes  Month-to-month           Fiber optic   \n",
       "3397-AVTKU         2548.55    No        Two year                   DSL   \n",
       "\n",
       "                          payment_type  \n",
       "customer_id                             \n",
       "4083-BFNYK     Credit card (automatic)  \n",
       "5804-LEPIM            Electronic check  \n",
       "4895-TMWIR                Mailed check  \n",
       "1342-JPNKI   Bank transfer (automatic)  \n",
       "3397-AVTKU            Electronic check  "
      ]
     },
     "execution_count": 5,
     "metadata": {},
     "output_type": "execute_result"
    }
   ],
   "source": [
    "# Taking a quick look at the df\n",
    "train.head()"
   ]
  },
  {
   "cell_type": "code",
   "execution_count": 6,
   "id": "44a6c5af-763e-423b-8423-2a89ae32bb7e",
   "metadata": {
    "tags": []
   },
   "outputs": [
    {
     "data": {
      "text/plain": [
       "((4225, 20), (1409, 20), (1409, 20))"
      ]
     },
     "execution_count": 6,
     "metadata": {},
     "output_type": "execute_result"
    }
   ],
   "source": [
    "# Checking the shapes of the new df's\n",
    "train.shape, validate.shape, test.shape"
   ]
  },
  {
   "cell_type": "markdown",
   "id": "6f15d596-08a5-415b-9719-f58520829b72",
   "metadata": {
    "tags": []
   },
   "source": [
    "## Explore"
   ]
  },
  {
   "cell_type": "markdown",
   "id": "c74c1caa-76b0-42f7-9a3d-c9144e1c4a00",
   "metadata": {},
   "source": [
    "I asked the following questions during the explore phase"
   ]
  },
  {
   "cell_type": "markdown",
   "id": "e8e63703-ad7f-4d45-b1a8-0091285d0e49",
   "metadata": {},
   "source": [
    "Q1: Does being a senior citizen affect churn?\n",
    "\n",
    "Q2: Does being a female affect churn?\n",
    "    \n",
    "Q3: Does monthly charges affect churn?\n",
    "    \n",
    "Q4: Does having dependents affect churn?"
   ]
  },
  {
   "cell_type": "markdown",
   "id": "726429cb-dc71-43a6-995e-2c7974249b46",
   "metadata": {},
   "source": [
    "Getting the answers to these questions can help us find what is contributing to customer churn."
   ]
  },
  {
   "cell_type": "markdown",
   "id": "93685e7c-5355-4c05-86df-20ea368f7128",
   "metadata": {},
   "source": [
    "Lets see how many customers are churning"
   ]
  },
  {
   "cell_type": "code",
   "execution_count": 7,
   "id": "a2802075-5ad8-41c3-a279-a9efeb829a9f",
   "metadata": {
    "tags": []
   },
   "outputs": [
    {
     "data": {
      "text/plain": [
       "churn\n",
       "No     0.734675\n",
       "Yes    0.265325\n",
       "Name: proportion, dtype: float64"
      ]
     },
     "execution_count": 7,
     "metadata": {},
     "output_type": "execute_result"
    }
   ],
   "source": [
    "train.churn.value_counts(normalize=True)"
   ]
  },
  {
   "cell_type": "markdown",
   "id": "40c26475-e9f1-4999-934f-42079adc3643",
   "metadata": {
    "tags": []
   },
   "source": [
    "> We can see that 27% of customers have churned"
   ]
  },
  {
   "cell_type": "code",
   "execution_count": 8,
   "id": "56986e74-1790-4ac1-b0e0-9bc6eb8f05e9",
   "metadata": {
    "tags": []
   },
   "outputs": [
    {
     "data": {
      "image/png": "[encoded data removed]",
      "text/plain": [
       "<Figure size 640x480 with 1 Axes>"
      ]
     },
     "metadata": {},
     "output_type": "display_data"
    }
   ],
   "source": [
    "e.countplot_churn(train)"
   ]
  },
  {
   "cell_type": "markdown",
   "id": "20965547-f5d4-4a7e-97b1-6094c2d49d02",
   "metadata": {},
   "source": [
    "### Question 1 : Does being a senior citizen affect whether or not a customer churns?"
   ]
  },
  {
   "cell_type": "code",
   "execution_count": 9,
   "id": "82a93c5d-97a8-4127-bef7-aab0cfdb3f63",
   "metadata": {
    "tags": []
   },
   "outputs": [
    {
     "data": {
      "image/png": "[encoded data removed]",
      "text/plain": [
       "<Figure size 640x480 with 1 Axes>"
      ]
     },
     "metadata": {},
     "output_type": "display_data"
    }
   ],
   "source": [
    "e.barplot_senior_citizen(train)"
   ]
  },
  {
   "cell_type": "markdown",
   "id": "742bcc8e-ac4a-4bc2-a57c-ec4b0a68f3dc",
   "metadata": {},
   "source": [
    "> As we can see, senior citizens have a higher churn rate than non senior citizens, so lets analyze that."
   ]
  },
  {
   "cell_type": "markdown",
   "id": "530ba005-6910-42a0-906d-0df59cf39491",
   "metadata": {
    "tags": []
   },
   "source": [
    "## Stats test"
   ]
  },
  {
   "cell_type": "markdown",
   "id": "ebec637f-d929-4a0b-8a12-eee71583ff32",
   "metadata": {
    "tags": []
   },
   "source": [
    "null and alternative hypothesis\n",
    "\n",
    "$H_o$ : There is NO relationship between being a senior citizen or not and a customer churning.\n",
    "\n",
    "$H_a$ : There is a relationship between someone being a senior citzien or not and a customer churning."
   ]
  },
  {
   "cell_type": "code",
   "execution_count": 10,
   "id": "91e3b916-a671-4c2b-b0a2-2a0a6cbee5ee",
   "metadata": {
    "tags": []
   },
   "outputs": [],
   "source": [
    "# before we start we have to set the confidence level or the alpha\n",
    "alpha = 0.05"
   ]
  },
  {
   "cell_type": "code",
   "execution_count": 11,
   "id": "d691ea29-3ecb-4048-96e3-cbece1257463",
   "metadata": {
    "tags": []
   },
   "outputs": [
    {
     "name": "stdout",
     "output_type": "stream",
     "text": [
      "p-value: 1.5271938515844278e-21\n",
      "We can reject our null hypothesis and say that there is a relationship between being a senior citizen and churn\n"
     ]
    }
   ],
   "source": [
    "# using a chi2 test since they are catergorical variables\n",
    "e.chi2_senior_citizen(train)"
   ]
  },
  {
   "cell_type": "markdown",
   "id": "09a42251-4ab3-474e-9128-71bf6d84e1ec",
   "metadata": {},
   "source": [
    "### Summarize "
   ]
  },
  {
   "cell_type": "markdown",
   "id": "5e1d0198-d498-460e-89f4-67475acc941a",
   "metadata": {
    "tags": []
   },
   "source": [
    "There is a relationship between being a senior citizen and churning."
   ]
  },
  {
   "cell_type": "markdown",
   "id": "cba6c29d-c69a-4309-8679-b53d2558ee7f",
   "metadata": {},
   "source": [
    "### Question 2: Is there a relationship between being female and churn?"
   ]
  },
  {
   "cell_type": "code",
   "execution_count": 12,
   "id": "6a8fd731-3d2b-4aef-80d6-b99391d98dc1",
   "metadata": {
    "tags": []
   },
   "outputs": [
    {
     "data": {
      "image/png": "[encoded data removed]",
      "text/plain": [
       "<Figure size 640x480 with 1 Axes>"
      ]
     },
     "metadata": {},
     "output_type": "display_data"
    }
   ],
   "source": [
    "e.countplot_gender(train)"
   ]
  },
  {
   "cell_type": "markdown",
   "id": "5daacfa6-1d45-4764-810e-67303664649c",
   "metadata": {
    "tags": []
   },
   "source": [
    "> We can see that both genders are similar when it comes to churning, but lets do a stats test just to make sure."
   ]
  },
  {
   "cell_type": "markdown",
   "id": "18efd3ae-8658-4eca-a941-3456fca5c2a3",
   "metadata": {},
   "source": [
    "## Stats test"
   ]
  },
  {
   "cell_type": "markdown",
   "id": "3a38a3ef-2e95-469c-a1e3-e7a63f5b7ba0",
   "metadata": {},
   "source": [
    "$H_o$ : There is NO relationship between being female and churn\n",
    "\n",
    "$H_a$: There is a relationship between being female and churn"
   ]
  },
  {
   "cell_type": "code",
   "execution_count": 13,
   "id": "bc500bb9-d191-465c-a873-850d63ceda1b",
   "metadata": {
    "tags": []
   },
   "outputs": [
    {
     "name": "stdout",
     "output_type": "stream",
     "text": [
      "p-value: 0.996031931504371\n",
      "We fail to reject our null hypothesis and say that there is NO relationship between being a female and churn\n"
     ]
    }
   ],
   "source": [
    "# Using the function in my explre.py file\n",
    "e.chi2_gender(train)"
   ]
  },
  {
   "cell_type": "markdown",
   "id": "1f1fcf26-7371-4554-a65a-da27ec0cb492",
   "metadata": {},
   "source": [
    "### Summarize"
   ]
  },
  {
   "cell_type": "markdown",
   "id": "c63b6f57-15dd-4db0-92db-18681d0d76f9",
   "metadata": {},
   "source": [
    "There is no relationship between being a female and churn."
   ]
  },
  {
   "cell_type": "markdown",
   "id": "fd730836-b75e-4a5c-bdc0-1e2994764a17",
   "metadata": {
    "tags": []
   },
   "source": [
    "## Question 3: Does monthly charges affect churn?"
   ]
  },
  {
   "cell_type": "code",
   "execution_count": 14,
   "id": "0ea57836-ea4b-4a62-a900-86b95bad2699",
   "metadata": {
    "tags": []
   },
   "outputs": [
    {
     "data": {
      "image/png": "[encoded data removed]",
      "text/plain": [
       "<Figure size 640x480 with 1 Axes>"
      ]
     },
     "metadata": {},
     "output_type": "display_data"
    }
   ],
   "source": [
    "e.boxplot_monthly_charges(train)"
   ]
  },
  {
   "cell_type": "markdown",
   "id": "1bb28a93-34de-418c-a4c9-451e86e95e31",
   "metadata": {},
   "source": [
    "> The median monthly charge is higher for customers that churned compared to the customers that have not churned."
   ]
  },
  {
   "cell_type": "markdown",
   "id": "3523396d-7286-41d5-b863-f6c12adb3dda",
   "metadata": {},
   "source": [
    "## Stats test"
   ]
  },
  {
   "cell_type": "markdown",
   "id": "9140b94d-0d14-4aa4-a3b3-856aa2c9b8be",
   "metadata": {
    "tags": []
   },
   "source": [
    "$H_o$ : There is NO relationship between monthly charges and churn\n",
    "\n",
    "$H_a$ : There IS a relationship between monthly charges and churn"
   ]
  },
  {
   "cell_type": "code",
   "execution_count": 15,
   "id": "f1a3bd4f-761d-40db-96a3-23302f507d80",
   "metadata": {
    "tags": []
   },
   "outputs": [
    {
     "name": "stdout",
     "output_type": "stream",
     "text": [
      "p-value: 5.279235952338065e-34\n",
      "We reject the null hypothesis\n"
     ]
    }
   ],
   "source": [
    "e.ttest_monthly_charges(train)"
   ]
  },
  {
   "cell_type": "markdown",
   "id": "1f2b7a30-857d-4516-aa58-81e880dcb36a",
   "metadata": {},
   "source": [
    "## Summarize"
   ]
  },
  {
   "cell_type": "markdown",
   "id": "28f973d8-17ac-4480-94ba-f6291be3c6ad",
   "metadata": {},
   "source": [
    "We can conclude that monthly charges does affect churn."
   ]
  },
  {
   "cell_type": "markdown",
   "id": "78b59e7a-111f-4730-a358-6b0f855ee20b",
   "metadata": {
    "tags": []
   },
   "source": [
    "### Question 4: Does having dependents affect churn?"
   ]
  },
  {
   "cell_type": "code",
   "execution_count": 16,
   "id": "014d39c6-0e76-4f22-8f3b-ea9b29866dcc",
   "metadata": {
    "tags": []
   },
   "outputs": [
    {
     "data": {
      "image/png": "[encoded data removed]",
      "text/plain": [
       "<Figure size 640x480 with 1 Axes>"
      ]
     },
     "metadata": {},
     "output_type": "display_data"
    }
   ],
   "source": [
    "e.countplot_dependents(train)"
   ]
  },
  {
   "cell_type": "markdown",
   "id": "f43158ca-c824-4b0c-88ff-fd26336c5349",
   "metadata": {},
   "source": [
    "> Customers with no dependents churn more than customers who do have dependents"
   ]
  },
  {
   "cell_type": "markdown",
   "id": "f8c66dea-a165-4c5b-b6bb-c2deb156452d",
   "metadata": {},
   "source": [
    "## Stats test"
   ]
  },
  {
   "cell_type": "markdown",
   "id": "0fafec18-2cec-4eeb-98aa-287625894e2c",
   "metadata": {},
   "source": [
    "My null and alternative hypothesis\n",
    "\n",
    "$H_o$ : There is NO relationship between having dependents and churn.\n",
    "\n",
    "$H_a$: There IS a relationship between dependents and churn."
   ]
  },
  {
   "cell_type": "code",
   "execution_count": 17,
   "id": "365bb1c4-97bc-4d57-ae9b-fbecfb926619",
   "metadata": {
    "tags": []
   },
   "outputs": [
    {
     "name": "stdout",
     "output_type": "stream",
     "text": [
      "p-value: 8.298049251133243e-156\n",
      "We can reject our null hypothesis and say that there is a relationship between dependents and churn\n"
     ]
    }
   ],
   "source": [
    "e.chi2_dependents(train)"
   ]
  },
  {
   "cell_type": "markdown",
   "id": "31c11b75-1367-4056-9c72-cb74d8562d51",
   "metadata": {},
   "source": [
    "### Modeling"
   ]
  },
  {
   "cell_type": "markdown",
   "id": "51d83305-72e8-4093-9c49-638dcf633dff",
   "metadata": {
    "tags": []
   },
   "source": [
    "> Lets start by getting the baseline"
   ]
  },
  {
   "cell_type": "code",
   "execution_count": 18,
   "id": "03835fa1-2a9a-4d91-94a1-0d5f55d26dae",
   "metadata": {
    "tags": []
   },
   "outputs": [
    {
     "data": {
      "text/plain": [
       "churn\n",
       "No     0.734675\n",
       "Yes    0.265325\n",
       "Name: proportion, dtype: float64"
      ]
     },
     "execution_count": 18,
     "metadata": {},
     "output_type": "execute_result"
    }
   ],
   "source": [
    "# Get the baseline\n",
    "train.churn.value_counts(normalize=True)"
   ]
  },
  {
   "cell_type": "markdown",
   "id": "cde26d88-ba79-4a1f-8b01-6b8bbb0c6984",
   "metadata": {},
   "source": [
    "> baseline accuracy is 73%"
   ]
  },
  {
   "cell_type": "code",
   "execution_count": 19,
   "id": "38fd50b0-fc08-48c6-9ef5-33f6e4103827",
   "metadata": {
    "tags": []
   },
   "outputs": [],
   "source": [
    "# Time to encode \n",
    "\n",
    "train_encoded, validate_encoded, test_encoded = prepare.preprocess_telco(train, validate, test)"
   ]
  },
  {
   "cell_type": "code",
   "execution_count": 20,
   "id": "737c0286-2ef3-4a14-949d-6b9fc42fc9b7",
   "metadata": {
    "tags": []
   },
   "outputs": [
    {
     "data": {
      "text/html": [
       "<div>\n",
       "<style scoped>\n",
       "    .dataframe tbody tr th:only-of-type {\n",
       "        vertical-align: middle;\n",
       "    }\n",
       "\n",
       "    .dataframe tbody tr th {\n",
       "        vertical-align: top;\n",
       "    }\n",
       "\n",
       "    .dataframe thead th {\n",
       "        text-align: right;\n",
       "    }\n",
       "</style>\n",
       "<table border=\"1\" class=\"dataframe\">\n",
       "  <thead>\n",
       "    <tr style=\"text-align: right;\">\n",
       "      <th></th>\n",
       "      <th>senior_citizen</th>\n",
       "      <th>tenure</th>\n",
       "      <th>monthly_charges</th>\n",
       "      <th>total_charges</th>\n",
       "      <th>gender_Male</th>\n",
       "      <th>partner_Yes</th>\n",
       "      <th>dependents_Yes</th>\n",
       "      <th>phone_service_Yes</th>\n",
       "      <th>multiple_lines_No phone service</th>\n",
       "      <th>multiple_lines_Yes</th>\n",
       "      <th>...</th>\n",
       "      <th>streaming_movies_Yes</th>\n",
       "      <th>paperless_billing_Yes</th>\n",
       "      <th>churn_Yes</th>\n",
       "      <th>contract_type_One year</th>\n",
       "      <th>contract_type_Two year</th>\n",
       "      <th>internet_service_type_Fiber optic</th>\n",
       "      <th>internet_service_type_None</th>\n",
       "      <th>payment_type_Credit card (automatic)</th>\n",
       "      <th>payment_type_Electronic check</th>\n",
       "      <th>payment_type_Mailed check</th>\n",
       "    </tr>\n",
       "    <tr>\n",
       "      <th>customer_id</th>\n",
       "      <th></th>\n",
       "      <th></th>\n",
       "      <th></th>\n",
       "      <th></th>\n",
       "      <th></th>\n",
       "      <th></th>\n",
       "      <th></th>\n",
       "      <th></th>\n",
       "      <th></th>\n",
       "      <th></th>\n",
       "      <th></th>\n",
       "      <th></th>\n",
       "      <th></th>\n",
       "      <th></th>\n",
       "      <th></th>\n",
       "      <th></th>\n",
       "      <th></th>\n",
       "      <th></th>\n",
       "      <th></th>\n",
       "      <th></th>\n",
       "      <th></th>\n",
       "    </tr>\n",
       "  </thead>\n",
       "  <tbody>\n",
       "    <tr>\n",
       "      <th>4083-BFNYK</th>\n",
       "      <td>1</td>\n",
       "      <td>38</td>\n",
       "      <td>95.00</td>\n",
       "      <td>3591.25</td>\n",
       "      <td>0</td>\n",
       "      <td>1</td>\n",
       "      <td>0</td>\n",
       "      <td>1</td>\n",
       "      <td>0</td>\n",
       "      <td>1</td>\n",
       "      <td>...</td>\n",
       "      <td>1</td>\n",
       "      <td>0</td>\n",
       "      <td>0</td>\n",
       "      <td>1</td>\n",
       "      <td>0</td>\n",
       "      <td>1</td>\n",
       "      <td>0</td>\n",
       "      <td>1</td>\n",
       "      <td>0</td>\n",
       "      <td>0</td>\n",
       "    </tr>\n",
       "    <tr>\n",
       "      <th>5804-LEPIM</th>\n",
       "      <td>1</td>\n",
       "      <td>2</td>\n",
       "      <td>70.35</td>\n",
       "      <td>139.05</td>\n",
       "      <td>0</td>\n",
       "      <td>0</td>\n",
       "      <td>0</td>\n",
       "      <td>1</td>\n",
       "      <td>0</td>\n",
       "      <td>0</td>\n",
       "      <td>...</td>\n",
       "      <td>0</td>\n",
       "      <td>1</td>\n",
       "      <td>1</td>\n",
       "      <td>0</td>\n",
       "      <td>0</td>\n",
       "      <td>1</td>\n",
       "      <td>0</td>\n",
       "      <td>0</td>\n",
       "      <td>1</td>\n",
       "      <td>0</td>\n",
       "    </tr>\n",
       "    <tr>\n",
       "      <th>4895-TMWIR</th>\n",
       "      <td>1</td>\n",
       "      <td>11</td>\n",
       "      <td>19.95</td>\n",
       "      <td>214.75</td>\n",
       "      <td>1</td>\n",
       "      <td>1</td>\n",
       "      <td>0</td>\n",
       "      <td>1</td>\n",
       "      <td>0</td>\n",
       "      <td>0</td>\n",
       "      <td>...</td>\n",
       "      <td>0</td>\n",
       "      <td>0</td>\n",
       "      <td>1</td>\n",
       "      <td>0</td>\n",
       "      <td>0</td>\n",
       "      <td>0</td>\n",
       "      <td>1</td>\n",
       "      <td>0</td>\n",
       "      <td>0</td>\n",
       "      <td>1</td>\n",
       "    </tr>\n",
       "    <tr>\n",
       "      <th>1342-JPNKI</th>\n",
       "      <td>0</td>\n",
       "      <td>10</td>\n",
       "      <td>86.05</td>\n",
       "      <td>834.10</td>\n",
       "      <td>1</td>\n",
       "      <td>0</td>\n",
       "      <td>0</td>\n",
       "      <td>1</td>\n",
       "      <td>0</td>\n",
       "      <td>1</td>\n",
       "      <td>...</td>\n",
       "      <td>0</td>\n",
       "      <td>1</td>\n",
       "      <td>1</td>\n",
       "      <td>0</td>\n",
       "      <td>0</td>\n",
       "      <td>1</td>\n",
       "      <td>0</td>\n",
       "      <td>0</td>\n",
       "      <td>0</td>\n",
       "      <td>0</td>\n",
       "    </tr>\n",
       "    <tr>\n",
       "      <th>3397-AVTKU</th>\n",
       "      <td>0</td>\n",
       "      <td>43</td>\n",
       "      <td>60.00</td>\n",
       "      <td>2548.55</td>\n",
       "      <td>1</td>\n",
       "      <td>0</td>\n",
       "      <td>0</td>\n",
       "      <td>1</td>\n",
       "      <td>0</td>\n",
       "      <td>0</td>\n",
       "      <td>...</td>\n",
       "      <td>1</td>\n",
       "      <td>1</td>\n",
       "      <td>0</td>\n",
       "      <td>0</td>\n",
       "      <td>1</td>\n",
       "      <td>0</td>\n",
       "      <td>0</td>\n",
       "      <td>0</td>\n",
       "      <td>1</td>\n",
       "      <td>0</td>\n",
       "    </tr>\n",
       "  </tbody>\n",
       "</table>\n",
       "<p>5 rows × 31 columns</p>\n",
       "</div>"
      ],
      "text/plain": [
       "             senior_citizen  tenure  monthly_charges  total_charges  \\\n",
       "customer_id                                                           \n",
       "4083-BFNYK                1      38            95.00        3591.25   \n",
       "5804-LEPIM                1       2            70.35         139.05   \n",
       "4895-TMWIR                1      11            19.95         214.75   \n",
       "1342-JPNKI                0      10            86.05         834.10   \n",
       "3397-AVTKU                0      43            60.00        2548.55   \n",
       "\n",
       "             gender_Male  partner_Yes  dependents_Yes  phone_service_Yes  \\\n",
       "customer_id                                                                \n",
       "4083-BFNYK             0            1               0                  1   \n",
       "5804-LEPIM             0            0               0                  1   \n",
       "4895-TMWIR             1            1               0                  1   \n",
       "1342-JPNKI             1            0               0                  1   \n",
       "3397-AVTKU             1            0               0                  1   \n",
       "\n",
       "             multiple_lines_No phone service  multiple_lines_Yes  ...  \\\n",
       "customer_id                                                       ...   \n",
       "4083-BFNYK                                 0                   1  ...   \n",
       "5804-LEPIM                                 0                   0  ...   \n",
       "4895-TMWIR                                 0                   0  ...   \n",
       "1342-JPNKI                                 0                   1  ...   \n",
       "3397-AVTKU                                 0                   0  ...   \n",
       "\n",
       "             streaming_movies_Yes  paperless_billing_Yes  churn_Yes  \\\n",
       "customer_id                                                           \n",
       "4083-BFNYK                      1                      0          0   \n",
       "5804-LEPIM                      0                      1          1   \n",
       "4895-TMWIR                      0                      0          1   \n",
       "1342-JPNKI                      0                      1          1   \n",
       "3397-AVTKU                      1                      1          0   \n",
       "\n",
       "             contract_type_One year  contract_type_Two year  \\\n",
       "customer_id                                                   \n",
       "4083-BFNYK                        1                       0   \n",
       "5804-LEPIM                        0                       0   \n",
       "4895-TMWIR                        0                       0   \n",
       "1342-JPNKI                        0                       0   \n",
       "3397-AVTKU                        0                       1   \n",
       "\n",
       "             internet_service_type_Fiber optic  internet_service_type_None  \\\n",
       "customer_id                                                                  \n",
       "4083-BFNYK                                   1                           0   \n",
       "5804-LEPIM                                   1                           0   \n",
       "4895-TMWIR                                   0                           1   \n",
       "1342-JPNKI                                   1                           0   \n",
       "3397-AVTKU                                   0                           0   \n",
       "\n",
       "             payment_type_Credit card (automatic)  \\\n",
       "customer_id                                         \n",
       "4083-BFNYK                                      1   \n",
       "5804-LEPIM                                      0   \n",
       "4895-TMWIR                                      0   \n",
       "1342-JPNKI                                      0   \n",
       "3397-AVTKU                                      0   \n",
       "\n",
       "             payment_type_Electronic check  payment_type_Mailed check  \n",
       "customer_id                                                            \n",
       "4083-BFNYK                               0                          0  \n",
       "5804-LEPIM                               1                          0  \n",
       "4895-TMWIR                               0                          1  \n",
       "1342-JPNKI                               0                          0  \n",
       "3397-AVTKU                               1                          0  \n",
       "\n",
       "[5 rows x 31 columns]"
      ]
     },
     "execution_count": 20,
     "metadata": {},
     "output_type": "execute_result"
    }
   ],
   "source": [
    "# Taking a peek at the new df\n",
    "\n",
    "train_encoded.head()"
   ]
  },
  {
   "cell_type": "markdown",
   "id": "69cb9607-d344-4dbf-9a69-e1ecb67176c0",
   "metadata": {
    "tags": []
   },
   "source": [
    "#### Defining X and y"
   ]
  },
  {
   "cell_type": "code",
   "execution_count": 21,
   "id": "4d4cfb54-efc4-4390-a4f8-0c7f2f653694",
   "metadata": {
    "tags": []
   },
   "outputs": [],
   "source": [
    "# Determine X (also means determine the features)\n",
    "\n",
    "X_train = train_encoded.drop(columns='churn_Yes')\n",
    "X_validate = validate_encoded.drop(columns='churn_Yes')\n",
    "X_test = test_encoded.drop(columns='churn_Yes')"
   ]
  },
  {
   "cell_type": "code",
   "execution_count": 22,
   "id": "a4f3f114-a395-4f34-a012-5936f34ab8fc",
   "metadata": {
    "tags": []
   },
   "outputs": [],
   "source": [
    "# Determine y (also mean determine the target variable)\n",
    "\n",
    "y_train = train_encoded.churn_Yes\n",
    "y_validate = validate_encoded.churn_Yes\n",
    "y_test = test_encoded.churn_Yes"
   ]
  },
  {
   "cell_type": "markdown",
   "id": "c7dd8bc0-5f2a-46ed-992a-b07fa6e38eda",
   "metadata": {
    "tags": []
   },
   "source": [
    "### Let's start with Logistic Regression"
   ]
  },
  {
   "cell_type": "code",
   "execution_count": 23,
   "id": "aa9795c6-7d8b-4ca6-b27e-29bb939cc26c",
   "metadata": {
    "tags": []
   },
   "outputs": [
    {
     "data": {
      "text/html": [
       "<div>\n",
       "<style scoped>\n",
       "    .dataframe tbody tr th:only-of-type {\n",
       "        vertical-align: middle;\n",
       "    }\n",
       "\n",
       "    .dataframe tbody tr th {\n",
       "        vertical-align: top;\n",
       "    }\n",
       "\n",
       "    .dataframe thead th {\n",
       "        text-align: right;\n",
       "    }\n",
       "</style>\n",
       "<table border=\"1\" class=\"dataframe\">\n",
       "  <thead>\n",
       "    <tr style=\"text-align: right;\">\n",
       "      <th></th>\n",
       "      <th>senior_citizen</th>\n",
       "      <th>monthly_charges</th>\n",
       "      <th>dependents_Yes</th>\n",
       "    </tr>\n",
       "    <tr>\n",
       "      <th>customer_id</th>\n",
       "      <th></th>\n",
       "      <th></th>\n",
       "      <th></th>\n",
       "    </tr>\n",
       "  </thead>\n",
       "  <tbody>\n",
       "    <tr>\n",
       "      <th>4083-BFNYK</th>\n",
       "      <td>1</td>\n",
       "      <td>95.00</td>\n",
       "      <td>0</td>\n",
       "    </tr>\n",
       "    <tr>\n",
       "      <th>5804-LEPIM</th>\n",
       "      <td>1</td>\n",
       "      <td>70.35</td>\n",
       "      <td>0</td>\n",
       "    </tr>\n",
       "    <tr>\n",
       "      <th>4895-TMWIR</th>\n",
       "      <td>1</td>\n",
       "      <td>19.95</td>\n",
       "      <td>0</td>\n",
       "    </tr>\n",
       "    <tr>\n",
       "      <th>1342-JPNKI</th>\n",
       "      <td>0</td>\n",
       "      <td>86.05</td>\n",
       "      <td>0</td>\n",
       "    </tr>\n",
       "    <tr>\n",
       "      <th>3397-AVTKU</th>\n",
       "      <td>0</td>\n",
       "      <td>60.00</td>\n",
       "      <td>0</td>\n",
       "    </tr>\n",
       "  </tbody>\n",
       "</table>\n",
       "</div>"
      ],
      "text/plain": [
       "             senior_citizen  monthly_charges  dependents_Yes\n",
       "customer_id                                                 \n",
       "4083-BFNYK                1            95.00               0\n",
       "5804-LEPIM                1            70.35               0\n",
       "4895-TMWIR                1            19.95               0\n",
       "1342-JPNKI                0            86.05               0\n",
       "3397-AVTKU                0            60.00               0"
      ]
     },
     "execution_count": 23,
     "metadata": {},
     "output_type": "execute_result"
    }
   ],
   "source": [
    "# The features that are going to be modeled\n",
    "\n",
    "features = ['senior_citizen', 'monthly_charges', 'dependents_Yes']\n",
    "X_train[features].head()"
   ]
  },
  {
   "cell_type": "code",
   "execution_count": 24,
   "id": "d442232a-2465-4409-a3f0-bf8a8cf59ff4",
   "metadata": {
    "tags": []
   },
   "outputs": [
    {
     "data": {
      "text/html": [
       "<style>#sk-container-id-1 {color: black;}#sk-container-id-1 pre{padding: 0;}#sk-container-id-1 div.sk-toggleable {background-color: white;}#sk-container-id-1 label.sk-toggleable__label {cursor: pointer;display: block;width: 100%;margin-bottom: 0;padding: 0.3em;box-sizing: border-box;text-align: center;}#sk-container-id-1 label.sk-toggleable__label-arrow:before {content: \"▸\";float: left;margin-right: 0.25em;color: #696969;}#sk-container-id-1 label.sk-toggleable__label-arrow:hover:before {color: black;}#sk-container-id-1 div.sk-estimator:hover label.sk-toggleable__label-arrow:before {color: black;}#sk-container-id-1 div.sk-toggleable__content {max-height: 0;max-width: 0;overflow: hidden;text-align: left;background-color: #f0f8ff;}#sk-container-id-1 div.sk-toggleable__content pre {margin: 0.2em;color: black;border-radius: 0.25em;background-color: #f0f8ff;}#sk-container-id-1 input.sk-toggleable__control:checked~div.sk-toggleable__content {max-height: 200px;max-width: 100%;overflow: auto;}#sk-container-id-1 input.sk-toggleable__control:checked~label.sk-toggleable__label-arrow:before {content: \"▾\";}#sk-container-id-1 div.sk-estimator input.sk-toggleable__control:checked~label.sk-toggleable__label {background-color: #d4ebff;}#sk-container-id-1 div.sk-label input.sk-toggleable__control:checked~label.sk-toggleable__label {background-color: #d4ebff;}#sk-container-id-1 input.sk-hidden--visually {border: 0;clip: rect(1px 1px 1px 1px);clip: rect(1px, 1px, 1px, 1px);height: 1px;margin: -1px;overflow: hidden;padding: 0;position: absolute;width: 1px;}#sk-container-id-1 div.sk-estimator {font-family: monospace;background-color: #f0f8ff;border: 1px dotted black;border-radius: 0.25em;box-sizing: border-box;margin-bottom: 0.5em;}#sk-container-id-1 div.sk-estimator:hover {background-color: #d4ebff;}#sk-container-id-1 div.sk-parallel-item::after {content: \"\";width: 100%;border-bottom: 1px solid gray;flex-grow: 1;}#sk-container-id-1 div.sk-label:hover label.sk-toggleable__label {background-color: #d4ebff;}#sk-container-id-1 div.sk-serial::before {content: \"\";position: absolute;border-left: 1px solid gray;box-sizing: border-box;top: 0;bottom: 0;left: 50%;z-index: 0;}#sk-container-id-1 div.sk-serial {display: flex;flex-direction: column;align-items: center;background-color: white;padding-right: 0.2em;padding-left: 0.2em;position: relative;}#sk-container-id-1 div.sk-item {position: relative;z-index: 1;}#sk-container-id-1 div.sk-parallel {display: flex;align-items: stretch;justify-content: center;background-color: white;position: relative;}#sk-container-id-1 div.sk-item::before, #sk-container-id-1 div.sk-parallel-item::before {content: \"\";position: absolute;border-left: 1px solid gray;box-sizing: border-box;top: 0;bottom: 0;left: 50%;z-index: -1;}#sk-container-id-1 div.sk-parallel-item {display: flex;flex-direction: column;z-index: 1;position: relative;background-color: white;}#sk-container-id-1 div.sk-parallel-item:first-child::after {align-self: flex-end;width: 50%;}#sk-container-id-1 div.sk-parallel-item:last-child::after {align-self: flex-start;width: 50%;}#sk-container-id-1 div.sk-parallel-item:only-child::after {width: 0;}#sk-container-id-1 div.sk-dashed-wrapped {border: 1px dashed gray;margin: 0 0.4em 0.5em 0.4em;box-sizing: border-box;padding-bottom: 0.4em;background-color: white;}#sk-container-id-1 div.sk-label label {font-family: monospace;font-weight: bold;display: inline-block;line-height: 1.2em;}#sk-container-id-1 div.sk-label-container {text-align: center;}#sk-container-id-1 div.sk-container {/* jupyter's `normalize.less` sets `[hidden] { display: none; }` but bootstrap.min.css set `[hidden] { display: none !important; }` so we also need the `!important` here to be able to override the default hidden behavior on the sphinx rendered scikit-learn.org. See: https://github.com/scikit-learn/scikit-learn/issues/21755 */display: inline-block !important;position: relative;}#sk-container-id-1 div.sk-text-repr-fallback {display: none;}</style><div id=\"sk-container-id-1\" class=\"sk-top-container\"><div class=\"sk-text-repr-fallback\"><pre>LogisticRegression()</pre><b>In a Jupyter environment, please rerun this cell to show the HTML representation or trust the notebook. <br />On GitHub, the HTML representation is unable to render, please try loading this page with nbviewer.org.</b></div><div class=\"sk-container\" hidden><div class=\"sk-item\"><div class=\"sk-estimator sk-toggleable\"><input class=\"sk-toggleable__control sk-hidden--visually\" id=\"sk-estimator-id-1\" type=\"checkbox\" checked><label for=\"sk-estimator-id-1\" class=\"sk-toggleable__label sk-toggleable__label-arrow\">LogisticRegression</label><div class=\"sk-toggleable__content\"><pre>LogisticRegression()</pre></div></div></div></div></div>"
      ],
      "text/plain": [
       "LogisticRegression()"
      ]
     },
     "execution_count": 24,
     "metadata": {},
     "output_type": "execute_result"
    }
   ],
   "source": [
    "# Make and fit the model\n",
    "\n",
    "logr = LogisticRegression()\n",
    "\n",
    "logr.fit(X_train[features], y_train)"
   ]
  },
  {
   "cell_type": "code",
   "execution_count": 25,
   "id": "ee9704cb-cf83-4d1f-a48b-cee9957176d6",
   "metadata": {
    "tags": []
   },
   "outputs": [
    {
     "data": {
      "text/plain": [
       "0.7256804733727811"
      ]
     },
     "execution_count": 25,
     "metadata": {},
     "output_type": "execute_result"
    }
   ],
   "source": [
    "# Calculate and return the accuracy score of the Logistic Regression \n",
    "\n",
    "logr.score(X_train[features], y_train)"
   ]
  },
  {
   "cell_type": "markdown",
   "id": "5897e764-b270-47f1-a809-77e2b91ea946",
   "metadata": {},
   "source": [
    "> Since the model's accuracy score is close to our baseline, we will not use this model."
   ]
  },
  {
   "cell_type": "markdown",
   "id": "15765478-65f2-4611-8aad-5f2296e73aa1",
   "metadata": {
    "tags": []
   },
   "source": [
    "### Random Forest"
   ]
  },
  {
   "cell_type": "code",
   "execution_count": 26,
   "id": "11c0306b-9004-46d4-b4ab-8cd4ab5d12ff",
   "metadata": {
    "tags": []
   },
   "outputs": [
    {
     "name": "stdout",
     "output_type": "stream",
     "text": [
      "min_leaf_samples = 1, max_depth = 20, accuracy train = 0.998, val = 0.789\n",
      "min_leaf_samples = 2, max_depth = 19, accuracy train = 0.928, val = 0.801\n",
      "min_leaf_samples = 3, max_depth = 18, accuracy train = 0.89, val = 0.801\n",
      "min_leaf_samples = 4, max_depth = 17, accuracy train = 0.868, val = 0.806\n",
      "min_leaf_samples = 5, max_depth = 16, accuracy train = 0.859, val = 0.808\n",
      "min_leaf_samples = 6, max_depth = 15, accuracy train = 0.849, val = 0.809\n",
      "min_leaf_samples = 7, max_depth = 14, accuracy train = 0.843, val = 0.801\n",
      "min_leaf_samples = 8, max_depth = 13, accuracy train = 0.839, val = 0.801\n",
      "min_leaf_samples = 9, max_depth = 12, accuracy train = 0.835, val = 0.803\n",
      "min_leaf_samples = 10, max_depth = 11, accuracy train = 0.83, val = 0.804\n",
      "min_leaf_samples = 11, max_depth = 10, accuracy train = 0.827, val = 0.804\n",
      "min_leaf_samples = 12, max_depth = 9, accuracy train = 0.823, val = 0.808\n",
      "min_leaf_samples = 13, max_depth = 8, accuracy train = 0.817, val = 0.806\n",
      "min_leaf_samples = 14, max_depth = 7, accuracy train = 0.81, val = 0.801\n",
      "min_leaf_samples = 15, max_depth = 6, accuracy train = 0.805, val = 0.801\n",
      "min_leaf_samples = 16, max_depth = 5, accuracy train = 0.8, val = 0.796\n",
      "min_leaf_samples = 17, max_depth = 4, accuracy train = 0.796, val = 0.792\n",
      "min_leaf_samples = 18, max_depth = 3, accuracy train = 0.782, val = 0.777\n",
      "min_leaf_samples = 19, max_depth = 2, accuracy train = 0.745, val = 0.742\n",
      "min_leaf_samples = 20, max_depth = 1, accuracy train = 0.735, val = 0.735\n"
     ]
    }
   ],
   "source": [
    "# initializes an empty list named stats. Creates a for-loop that iterates 10 times each time changing max depth and min leaf samples. Then appends to the list and prints out results.\n",
    "stats = []\n",
    "\n",
    "for x in range(1,21):\n",
    "    rf = RandomForestClassifier(min_samples_leaf=x, max_depth=21-x, random_state=123)\n",
    "\n",
    "    rf.fit(X_train, y_train)\n",
    "\n",
    "    y_pred = rf.predict(X_train)\n",
    "\n",
    "    acc = rf.score(X_train, y_train)\n",
    "    acc_val = rf.score(X_validate, y_validate)\n",
    "    \n",
    "    stats.append([x,21-x,round(acc,2),round(acc_val,2) ]) \n",
    "    \n",
    "    print(f'min_leaf_samples = {x}, max_depth = {21-x}, accuracy train = {round(acc,3)}, val = {round(acc_val,3)}')"
   ]
  },
  {
   "cell_type": "code",
   "execution_count": 27,
   "id": "0abcf9a0-5f94-43d2-8bb1-9a593a0fd02b",
   "metadata": {
    "tags": []
   },
   "outputs": [
    {
     "data": {
      "text/html": [
       "<div>\n",
       "<style scoped>\n",
       "    .dataframe tbody tr th:only-of-type {\n",
       "        vertical-align: middle;\n",
       "    }\n",
       "\n",
       "    .dataframe tbody tr th {\n",
       "        vertical-align: top;\n",
       "    }\n",
       "\n",
       "    .dataframe thead th {\n",
       "        text-align: right;\n",
       "    }\n",
       "</style>\n",
       "<table border=\"1\" class=\"dataframe\">\n",
       "  <thead>\n",
       "    <tr style=\"text-align: right;\">\n",
       "      <th></th>\n",
       "      <th>min_leaf</th>\n",
       "      <th>max_depth</th>\n",
       "      <th>train_acc</th>\n",
       "      <th>val_acc</th>\n",
       "    </tr>\n",
       "  </thead>\n",
       "  <tbody>\n",
       "    <tr>\n",
       "      <th>0</th>\n",
       "      <td>1</td>\n",
       "      <td>20</td>\n",
       "      <td>1.00</td>\n",
       "      <td>0.79</td>\n",
       "    </tr>\n",
       "    <tr>\n",
       "      <th>1</th>\n",
       "      <td>2</td>\n",
       "      <td>19</td>\n",
       "      <td>0.93</td>\n",
       "      <td>0.80</td>\n",
       "    </tr>\n",
       "    <tr>\n",
       "      <th>2</th>\n",
       "      <td>3</td>\n",
       "      <td>18</td>\n",
       "      <td>0.89</td>\n",
       "      <td>0.80</td>\n",
       "    </tr>\n",
       "    <tr>\n",
       "      <th>3</th>\n",
       "      <td>4</td>\n",
       "      <td>17</td>\n",
       "      <td>0.87</td>\n",
       "      <td>0.81</td>\n",
       "    </tr>\n",
       "    <tr>\n",
       "      <th>4</th>\n",
       "      <td>5</td>\n",
       "      <td>16</td>\n",
       "      <td>0.86</td>\n",
       "      <td>0.81</td>\n",
       "    </tr>\n",
       "    <tr>\n",
       "      <th>5</th>\n",
       "      <td>6</td>\n",
       "      <td>15</td>\n",
       "      <td>0.85</td>\n",
       "      <td>0.81</td>\n",
       "    </tr>\n",
       "    <tr>\n",
       "      <th>6</th>\n",
       "      <td>7</td>\n",
       "      <td>14</td>\n",
       "      <td>0.84</td>\n",
       "      <td>0.80</td>\n",
       "    </tr>\n",
       "    <tr>\n",
       "      <th>7</th>\n",
       "      <td>8</td>\n",
       "      <td>13</td>\n",
       "      <td>0.84</td>\n",
       "      <td>0.80</td>\n",
       "    </tr>\n",
       "    <tr>\n",
       "      <th>8</th>\n",
       "      <td>9</td>\n",
       "      <td>12</td>\n",
       "      <td>0.83</td>\n",
       "      <td>0.80</td>\n",
       "    </tr>\n",
       "    <tr>\n",
       "      <th>9</th>\n",
       "      <td>10</td>\n",
       "      <td>11</td>\n",
       "      <td>0.83</td>\n",
       "      <td>0.80</td>\n",
       "    </tr>\n",
       "    <tr>\n",
       "      <th>10</th>\n",
       "      <td>11</td>\n",
       "      <td>10</td>\n",
       "      <td>0.83</td>\n",
       "      <td>0.80</td>\n",
       "    </tr>\n",
       "    <tr>\n",
       "      <th>11</th>\n",
       "      <td>12</td>\n",
       "      <td>9</td>\n",
       "      <td>0.82</td>\n",
       "      <td>0.81</td>\n",
       "    </tr>\n",
       "    <tr>\n",
       "      <th>12</th>\n",
       "      <td>13</td>\n",
       "      <td>8</td>\n",
       "      <td>0.82</td>\n",
       "      <td>0.81</td>\n",
       "    </tr>\n",
       "    <tr>\n",
       "      <th>13</th>\n",
       "      <td>14</td>\n",
       "      <td>7</td>\n",
       "      <td>0.81</td>\n",
       "      <td>0.80</td>\n",
       "    </tr>\n",
       "    <tr>\n",
       "      <th>14</th>\n",
       "      <td>15</td>\n",
       "      <td>6</td>\n",
       "      <td>0.81</td>\n",
       "      <td>0.80</td>\n",
       "    </tr>\n",
       "    <tr>\n",
       "      <th>15</th>\n",
       "      <td>16</td>\n",
       "      <td>5</td>\n",
       "      <td>0.80</td>\n",
       "      <td>0.80</td>\n",
       "    </tr>\n",
       "    <tr>\n",
       "      <th>16</th>\n",
       "      <td>17</td>\n",
       "      <td>4</td>\n",
       "      <td>0.80</td>\n",
       "      <td>0.79</td>\n",
       "    </tr>\n",
       "    <tr>\n",
       "      <th>17</th>\n",
       "      <td>18</td>\n",
       "      <td>3</td>\n",
       "      <td>0.78</td>\n",
       "      <td>0.78</td>\n",
       "    </tr>\n",
       "    <tr>\n",
       "      <th>18</th>\n",
       "      <td>19</td>\n",
       "      <td>2</td>\n",
       "      <td>0.74</td>\n",
       "      <td>0.74</td>\n",
       "    </tr>\n",
       "    <tr>\n",
       "      <th>19</th>\n",
       "      <td>20</td>\n",
       "      <td>1</td>\n",
       "      <td>0.73</td>\n",
       "      <td>0.73</td>\n",
       "    </tr>\n",
       "  </tbody>\n",
       "</table>\n",
       "</div>"
      ],
      "text/plain": [
       "    min_leaf  max_depth  train_acc  val_acc\n",
       "0          1         20       1.00     0.79\n",
       "1          2         19       0.93     0.80\n",
       "2          3         18       0.89     0.80\n",
       "3          4         17       0.87     0.81\n",
       "4          5         16       0.86     0.81\n",
       "5          6         15       0.85     0.81\n",
       "6          7         14       0.84     0.80\n",
       "7          8         13       0.84     0.80\n",
       "8          9         12       0.83     0.80\n",
       "9         10         11       0.83     0.80\n",
       "10        11         10       0.83     0.80\n",
       "11        12          9       0.82     0.81\n",
       "12        13          8       0.82     0.81\n",
       "13        14          7       0.81     0.80\n",
       "14        15          6       0.81     0.80\n",
       "15        16          5       0.80     0.80\n",
       "16        17          4       0.80     0.79\n",
       "17        18          3       0.78     0.78\n",
       "18        19          2       0.74     0.74\n",
       "19        20          1       0.73     0.73"
      ]
     },
     "execution_count": 27,
     "metadata": {},
     "output_type": "execute_result"
    }
   ],
   "source": [
    "# Creating a new df to get a better look \n",
    "\n",
    "stats_df = pd.DataFrame(stats, columns = ['min_leaf', 'max_depth', 'train_acc', 'val_acc'])\n",
    "stats_df                                       "
   ]
  },
  {
   "cell_type": "code",
   "execution_count": 28,
   "id": "8ea3a7e5-0b89-4992-8282-4c4d95f10ae3",
   "metadata": {
    "tags": []
   },
   "outputs": [
    {
     "data": {
      "text/html": [
       "<div>\n",
       "<style scoped>\n",
       "    .dataframe tbody tr th:only-of-type {\n",
       "        vertical-align: middle;\n",
       "    }\n",
       "\n",
       "    .dataframe tbody tr th {\n",
       "        vertical-align: top;\n",
       "    }\n",
       "\n",
       "    .dataframe thead th {\n",
       "        text-align: right;\n",
       "    }\n",
       "</style>\n",
       "<table border=\"1\" class=\"dataframe\">\n",
       "  <thead>\n",
       "    <tr style=\"text-align: right;\">\n",
       "      <th></th>\n",
       "      <th>min_leaf</th>\n",
       "      <th>max_depth</th>\n",
       "      <th>train_acc</th>\n",
       "      <th>val_acc</th>\n",
       "    </tr>\n",
       "  </thead>\n",
       "  <tbody>\n",
       "    <tr>\n",
       "      <th>3</th>\n",
       "      <td>4</td>\n",
       "      <td>17</td>\n",
       "      <td>0.87</td>\n",
       "      <td>0.81</td>\n",
       "    </tr>\n",
       "    <tr>\n",
       "      <th>4</th>\n",
       "      <td>5</td>\n",
       "      <td>16</td>\n",
       "      <td>0.86</td>\n",
       "      <td>0.81</td>\n",
       "    </tr>\n",
       "    <tr>\n",
       "      <th>5</th>\n",
       "      <td>6</td>\n",
       "      <td>15</td>\n",
       "      <td>0.85</td>\n",
       "      <td>0.81</td>\n",
       "    </tr>\n",
       "    <tr>\n",
       "      <th>11</th>\n",
       "      <td>12</td>\n",
       "      <td>9</td>\n",
       "      <td>0.82</td>\n",
       "      <td>0.81</td>\n",
       "    </tr>\n",
       "    <tr>\n",
       "      <th>12</th>\n",
       "      <td>13</td>\n",
       "      <td>8</td>\n",
       "      <td>0.82</td>\n",
       "      <td>0.81</td>\n",
       "    </tr>\n",
       "    <tr>\n",
       "      <th>10</th>\n",
       "      <td>11</td>\n",
       "      <td>10</td>\n",
       "      <td>0.83</td>\n",
       "      <td>0.80</td>\n",
       "    </tr>\n",
       "    <tr>\n",
       "      <th>2</th>\n",
       "      <td>3</td>\n",
       "      <td>18</td>\n",
       "      <td>0.89</td>\n",
       "      <td>0.80</td>\n",
       "    </tr>\n",
       "    <tr>\n",
       "      <th>6</th>\n",
       "      <td>7</td>\n",
       "      <td>14</td>\n",
       "      <td>0.84</td>\n",
       "      <td>0.80</td>\n",
       "    </tr>\n",
       "    <tr>\n",
       "      <th>7</th>\n",
       "      <td>8</td>\n",
       "      <td>13</td>\n",
       "      <td>0.84</td>\n",
       "      <td>0.80</td>\n",
       "    </tr>\n",
       "    <tr>\n",
       "      <th>8</th>\n",
       "      <td>9</td>\n",
       "      <td>12</td>\n",
       "      <td>0.83</td>\n",
       "      <td>0.80</td>\n",
       "    </tr>\n",
       "    <tr>\n",
       "      <th>9</th>\n",
       "      <td>10</td>\n",
       "      <td>11</td>\n",
       "      <td>0.83</td>\n",
       "      <td>0.80</td>\n",
       "    </tr>\n",
       "    <tr>\n",
       "      <th>1</th>\n",
       "      <td>2</td>\n",
       "      <td>19</td>\n",
       "      <td>0.93</td>\n",
       "      <td>0.80</td>\n",
       "    </tr>\n",
       "    <tr>\n",
       "      <th>13</th>\n",
       "      <td>14</td>\n",
       "      <td>7</td>\n",
       "      <td>0.81</td>\n",
       "      <td>0.80</td>\n",
       "    </tr>\n",
       "    <tr>\n",
       "      <th>14</th>\n",
       "      <td>15</td>\n",
       "      <td>6</td>\n",
       "      <td>0.81</td>\n",
       "      <td>0.80</td>\n",
       "    </tr>\n",
       "    <tr>\n",
       "      <th>15</th>\n",
       "      <td>16</td>\n",
       "      <td>5</td>\n",
       "      <td>0.80</td>\n",
       "      <td>0.80</td>\n",
       "    </tr>\n",
       "    <tr>\n",
       "      <th>16</th>\n",
       "      <td>17</td>\n",
       "      <td>4</td>\n",
       "      <td>0.80</td>\n",
       "      <td>0.79</td>\n",
       "    </tr>\n",
       "    <tr>\n",
       "      <th>0</th>\n",
       "      <td>1</td>\n",
       "      <td>20</td>\n",
       "      <td>1.00</td>\n",
       "      <td>0.79</td>\n",
       "    </tr>\n",
       "    <tr>\n",
       "      <th>17</th>\n",
       "      <td>18</td>\n",
       "      <td>3</td>\n",
       "      <td>0.78</td>\n",
       "      <td>0.78</td>\n",
       "    </tr>\n",
       "    <tr>\n",
       "      <th>18</th>\n",
       "      <td>19</td>\n",
       "      <td>2</td>\n",
       "      <td>0.74</td>\n",
       "      <td>0.74</td>\n",
       "    </tr>\n",
       "    <tr>\n",
       "      <th>19</th>\n",
       "      <td>20</td>\n",
       "      <td>1</td>\n",
       "      <td>0.73</td>\n",
       "      <td>0.73</td>\n",
       "    </tr>\n",
       "  </tbody>\n",
       "</table>\n",
       "</div>"
      ],
      "text/plain": [
       "    min_leaf  max_depth  train_acc  val_acc\n",
       "3          4         17       0.87     0.81\n",
       "4          5         16       0.86     0.81\n",
       "5          6         15       0.85     0.81\n",
       "11        12          9       0.82     0.81\n",
       "12        13          8       0.82     0.81\n",
       "10        11         10       0.83     0.80\n",
       "2          3         18       0.89     0.80\n",
       "6          7         14       0.84     0.80\n",
       "7          8         13       0.84     0.80\n",
       "8          9         12       0.83     0.80\n",
       "9         10         11       0.83     0.80\n",
       "1          2         19       0.93     0.80\n",
       "13        14          7       0.81     0.80\n",
       "14        15          6       0.81     0.80\n",
       "15        16          5       0.80     0.80\n",
       "16        17          4       0.80     0.79\n",
       "0          1         20       1.00     0.79\n",
       "17        18          3       0.78     0.78\n",
       "18        19          2       0.74     0.74\n",
       "19        20          1       0.73     0.73"
      ]
     },
     "execution_count": 28,
     "metadata": {},
     "output_type": "execute_result"
    }
   ],
   "source": [
    "stats_df.sort_values('val_acc', ascending=False)"
   ]
  },
  {
   "cell_type": "markdown",
   "id": "2a2be608-ce0a-44df-a1ee-0915b91ab79d",
   "metadata": {},
   "source": [
    "> Choosing to go with min_leaf of 6 with a max_depth of 15 to be conservative of not being overfit"
   ]
  },
  {
   "cell_type": "markdown",
   "id": "4e07f72e-77de-4b02-870a-1a6aff816131",
   "metadata": {},
   "source": [
    "### Decision Tree"
   ]
  },
  {
   "cell_type": "code",
   "execution_count": 29,
   "id": "85de3215-e4f5-45a6-b16a-f2dc866284c6",
   "metadata": {
    "tags": []
   },
   "outputs": [
    {
     "name": "stdout",
     "output_type": "stream",
     "text": [
      "max depth of 1, the accuracy train = 0.7359, val = 0.7253\n",
      "max depth of 2, the accuracy train = 0.7837, val = 0.7878\n",
      "max depth of 3, the accuracy train = 0.7837, val = 0.7878\n",
      "max depth of 4, the accuracy train = 0.7927, val = 0.7771\n",
      "max depth of 5, the accuracy train = 0.8024, val = 0.7921\n",
      "max depth of 6, the accuracy train = 0.8107, val = 0.7892\n",
      "max depth of 7, the accuracy train = 0.826, val = 0.7857\n",
      "max depth of 8, the accuracy train = 0.8402, val = 0.7906\n",
      "max depth of 9, the accuracy train = 0.8601, val = 0.7821\n",
      "max depth of 10, the accuracy train = 0.8845, val = 0.7615\n",
      "max depth of 11, the accuracy train = 0.9041, val = 0.7573\n",
      "max depth of 12, the accuracy train = 0.9243, val = 0.758\n",
      "max depth of 13, the accuracy train = 0.9415, val = 0.7566\n",
      "max depth of 14, the accuracy train = 0.9529, val = 0.7502\n",
      "max depth of 15, the accuracy train = 0.9645, val = 0.7516\n",
      "max depth of 16, the accuracy train = 0.9723, val = 0.7367\n",
      "max depth of 17, the accuracy train = 0.977, val = 0.7424\n",
      "max depth of 18, the accuracy train = 0.9815, val = 0.7381\n",
      "max depth of 19, the accuracy train = 0.9846, val = 0.7346\n",
      "max depth of 20, the accuracy train = 0.9875, val = 0.7275\n"
     ]
    }
   ],
   "source": [
    "# creates a for loop iterating 20 times with a different max depth each iteration.\n",
    "for x in range(1,21):\n",
    "    #create the decision tree object\n",
    "    tree = DecisionTreeClassifier(max_depth=x)\n",
    "    \n",
    "    #fit the object only on TRAIN DATA!\n",
    "    tree.fit(X_train, y_train)\n",
    "    \n",
    "    #calculate the accuracy for train and validate\n",
    "    acc = tree.score(X_train, y_train)\n",
    "    acc_v = tree.score(X_validate, y_validate)\n",
    "    \n",
    "    print(f'max depth of {x}, the accuracy train = {round(acc,4)}, val = {round(acc_v,4)}')"
   ]
  },
  {
   "cell_type": "markdown",
   "id": "c31f509e-59a3-4796-9812-b3c2788f7a92",
   "metadata": {},
   "source": [
    "> Choosing to go with max depth of 3 to be conservative of not being overfit"
   ]
  },
  {
   "cell_type": "markdown",
   "id": "93c7ed4e-6107-429f-bac2-c14f67c38bb7",
   "metadata": {},
   "source": [
    "### Evaluation"
   ]
  },
  {
   "cell_type": "markdown",
   "id": "9e5fccc4-7d2a-4814-a6a7-1ee79272f92c",
   "metadata": {},
   "source": [
    "* After checking the accuracies of the the models, Random Forest was the best one\n",
    "\n",
    "* Random Forest will be used as our final model for the test data evaluation"
   ]
  },
  {
   "cell_type": "code",
   "execution_count": 30,
   "id": "a782559d-14fe-4353-9596-08db31817fb8",
   "metadata": {
    "tags": []
   },
   "outputs": [
    {
     "name": "stdout",
     "output_type": "stream",
     "text": [
      "min_leaf_samples = 6, max_depth = 15, accuracy test = 0.803\n"
     ]
    }
   ],
   "source": [
    "# creates the random forest object\n",
    "rf = RandomForestClassifier(min_samples_leaf=6, max_depth=15, random_state=123)\n",
    "\n",
    "# fits the object only on train data\n",
    "rf.fit(X_train, y_train)\n",
    "\n",
    "# saves the predictions of X_test to a variable y_pred\n",
    "y_pred = rf.predict(X_test)\n",
    "\n",
    "# calculates the accuracy for test\n",
    "acc_test = rf.score(X_test, y_test)\n",
    "\n",
    "print(f'min_leaf_samples = 6, max_depth = 15, accuracy test = {round(acc_test,3)}')"
   ]
  },
  {
   "cell_type": "markdown",
   "id": "c5cc623e-f508-431b-a26a-f79df79e64b7",
   "metadata": {
    "tags": []
   },
   "source": [
    "> The final model's score is 80%, which is higher than the baseline."
   ]
  },
  {
   "cell_type": "markdown",
   "id": "ea29b860-ac89-4244-aaac-0445126e86a3",
   "metadata": {},
   "source": [
    "### Conclusion"
   ]
  },
  {
   "cell_type": "markdown",
   "id": "247e207d-64c5-4c0a-97fd-f23e8ba5ed3f",
   "metadata": {},
   "source": [
    "#### Recommendations"
   ]
  },
  {
   "cell_type": "markdown",
   "id": "d086094f-3e7d-4aaf-ad2d-52510f9df7eb",
   "metadata": {},
   "source": [
    "> For customers who are have high monthly charges, I would recommened providing targeted retention offers, such as discounts or additional services, to incentivize them to stay.\n",
    "\n",
    "> For customers who do not have dependents, maybe creating customized offers or promotions that align with the lifestyle of individuals without dependents will encourage them to stay.\n",
    "\n",
    "> For customers who are senior citizens, Providing personalized and patient customer support that caters to the specific needs of senior citizens could help reduce the churn of customers who are senior citizens."
   ]
  },
  {
   "cell_type": "markdown",
   "id": "38903255-e222-408d-848b-affe59c43987",
   "metadata": {},
   "source": [
    "### Next Steps"
   ]
  },
  {
   "cell_type": "markdown",
   "id": "e7db0f3a-ef40-40f6-a1bd-1e3fc2b5915d",
   "metadata": {},
   "source": [
    "* With more time, I could look deeper into monthly charges and check to see what exactly is causing their high charges.\n",
    "\n",
    "* Come back to the model and update it with any new findings."
   ]
  }
 ],
 "metadata": {
  "kernelspec": {
   "display_name": "Python 3 (ipykernel)",
   "language": "python",
   "name": "python3"
  },
  "language_info": {
   "codemirror_mode": {
    "name": "ipython",
    "version": 3
   },
   "file_extension": ".py",
   "mimetype": "text/x-python",
   "name": "python",
   "nbconvert_exporter": "python",
   "pygments_lexer": "ipython3",
   "version": "3.11.5"
  }
 },
 "nbformat": 4,
 "nbformat_minor": 5
}
