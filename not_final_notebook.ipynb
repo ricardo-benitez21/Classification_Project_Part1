{
 "cells": [
  {
   "cell_type": "code",
   "execution_count": null,
   "id": "383ecc35-b6ff-4b77-9a70-1718a60bed86",
   "metadata": {},
   "outputs": [],
   "source": [
    "# Telco Customers Churning Analysis"
   ]
  },
  {
   "cell_type": "markdown",
   "id": "2455fd97-2177-4bef-bdb9-94024b084cbc",
   "metadata": {},
   "source": [
    "## Goal :"
   ]
  },
  {
   "cell_type": "markdown",
   "id": "9ad7b89b-e62b-41c6-92a3-2482ad6da458",
   "metadata": {},
   "source": [
    "* Find out what are the drivers that are leading to customers churning\n",
    "* Use the drivers to develop a machine learning model to see if features chosen result in churning"
   ]
  },
  {
   "cell_type": "markdown",
   "id": "22d0f461-73f7-42fd-a824-bb343bdb69d2",
   "metadata": {},
   "source": [
    "### Imports"
   ]
  },
  {
   "cell_type": "code",
   "execution_count": null,
   "id": "6396823e-2c2b-428a-aaed-22a94b9cc07a",
   "metadata": {
    "tags": []
   },
   "outputs": [],
   "source": [
    "# Standard imports\n",
    "import pandas as pd\n",
    "import numpy as np\n",
    "\n",
    "# Visualization imports\n",
    "import matplotlib.pyplot as plt\n",
    "import seaborn as sns\n",
    "\n",
    "# Modeling imports\n",
    "from sklearn.tree import DecisionTreeClassifier\n",
    "from sklearn.ensemble import RandomForestClassifier\n",
    "from sklearn.linear_model import LogisticRegression\n",
    "from sklearn.neighbors import KNeighborsClassifier\n",
    "\n",
    "\n",
    "# Prepping data imports\n",
    "from sklearn.model_selection import train_test_split\n",
    "from sklearn.preprocessing import OneHotEncoder\n",
    "\n",
    "# Evaulation imports\n",
    "from sklearn.metrics import classification_report\n",
    "from sklearn.metrics import confusion_matrix\n",
    "from sklearn.metrics import accuracy_score\n",
    "\n",
    "# Stats imports\n",
    "from scipy import stats\n",
    "\n",
    "# My own imports\n",
    "import acquire as a\n",
    "import prepare\n",
    "import explore as e\n",
    "import model as m\n",
    "\n",
    "# Time import\n",
    "import time\n",
    "\n",
    "# Itertools imports\n",
    "import itertools\n",
    "import operator"
   ]
  },
  {
   "cell_type": "markdown",
   "id": "c706c989-d378-432a-ac22-14bee7cf8ce8",
   "metadata": {},
   "source": [
    "## Acquire"
   ]
  },
  {
   "cell_type": "markdown",
   "id": "9c7a8749-6f05-485f-b191-3ac7befeae37",
   "metadata": {
    "tags": []
   },
   "source": [
    "* Data was acquired from MySql database using telco_churn\n",
    "* The datframe had 7043 rows and 24 columns before it was cleaned\n",
    "* Rows represent telco customers \n",
    "* Columns are features that describe the customer"
   ]
  },
  {
   "cell_type": "code",
   "execution_count": 2,
   "id": "8a018981-5a30-4be2-bea3-e4c41017558c",
   "metadata": {
    "tags": []
   },
   "outputs": [
    {
     "name": "stdout",
     "output_type": "stream",
     "text": [
      "this file exists, reading csv\n"
     ]
    }
   ],
   "source": [
    "# using my acquire.py file to run the acquire_data() function\n",
    "df = a.get_telco_data()"
   ]
  },
  {
   "cell_type": "code",
   "execution_count": 3,
   "id": "928eaefb-a2d0-4fbe-8b96-cba8b50efb8b",
   "metadata": {
    "tags": []
   },
   "outputs": [
    {
     "data": {
      "text/html": [
       "<div>\n",
       "<style scoped>\n",
       "    .dataframe tbody tr th:only-of-type {\n",
       "        vertical-align: middle;\n",
       "    }\n",
       "\n",
       "    .dataframe tbody tr th {\n",
       "        vertical-align: top;\n",
       "    }\n",
       "\n",
       "    .dataframe thead th {\n",
       "        text-align: right;\n",
       "    }\n",
       "</style>\n",
       "<table border=\"1\" class=\"dataframe\">\n",
       "  <thead>\n",
       "    <tr style=\"text-align: right;\">\n",
       "      <th></th>\n",
       "      <th>payment_type_id</th>\n",
       "      <th>internet_service_type_id</th>\n",
       "      <th>contract_type_id</th>\n",
       "      <th>customer_id</th>\n",
       "      <th>gender</th>\n",
       "      <th>senior_citizen</th>\n",
       "      <th>partner</th>\n",
       "      <th>dependents</th>\n",
       "      <th>tenure</th>\n",
       "      <th>phone_service</th>\n",
       "      <th>...</th>\n",
       "      <th>tech_support</th>\n",
       "      <th>streaming_tv</th>\n",
       "      <th>streaming_movies</th>\n",
       "      <th>paperless_billing</th>\n",
       "      <th>monthly_charges</th>\n",
       "      <th>total_charges</th>\n",
       "      <th>churn</th>\n",
       "      <th>contract_type</th>\n",
       "      <th>internet_service_type</th>\n",
       "      <th>payment_type</th>\n",
       "    </tr>\n",
       "  </thead>\n",
       "  <tbody>\n",
       "    <tr>\n",
       "      <th>0</th>\n",
       "      <td>2</td>\n",
       "      <td>1</td>\n",
       "      <td>2</td>\n",
       "      <td>0002-ORFBO</td>\n",
       "      <td>Female</td>\n",
       "      <td>0</td>\n",
       "      <td>Yes</td>\n",
       "      <td>Yes</td>\n",
       "      <td>9</td>\n",
       "      <td>Yes</td>\n",
       "      <td>...</td>\n",
       "      <td>Yes</td>\n",
       "      <td>Yes</td>\n",
       "      <td>No</td>\n",
       "      <td>Yes</td>\n",
       "      <td>65.6</td>\n",
       "      <td>593.3</td>\n",
       "      <td>No</td>\n",
       "      <td>One year</td>\n",
       "      <td>DSL</td>\n",
       "      <td>Mailed check</td>\n",
       "    </tr>\n",
       "    <tr>\n",
       "      <th>1</th>\n",
       "      <td>2</td>\n",
       "      <td>1</td>\n",
       "      <td>1</td>\n",
       "      <td>0003-MKNFE</td>\n",
       "      <td>Male</td>\n",
       "      <td>0</td>\n",
       "      <td>No</td>\n",
       "      <td>No</td>\n",
       "      <td>9</td>\n",
       "      <td>Yes</td>\n",
       "      <td>...</td>\n",
       "      <td>No</td>\n",
       "      <td>No</td>\n",
       "      <td>Yes</td>\n",
       "      <td>No</td>\n",
       "      <td>59.9</td>\n",
       "      <td>542.4</td>\n",
       "      <td>No</td>\n",
       "      <td>Month-to-month</td>\n",
       "      <td>DSL</td>\n",
       "      <td>Mailed check</td>\n",
       "    </tr>\n",
       "    <tr>\n",
       "      <th>2</th>\n",
       "      <td>1</td>\n",
       "      <td>2</td>\n",
       "      <td>1</td>\n",
       "      <td>0004-TLHLJ</td>\n",
       "      <td>Male</td>\n",
       "      <td>0</td>\n",
       "      <td>No</td>\n",
       "      <td>No</td>\n",
       "      <td>4</td>\n",
       "      <td>Yes</td>\n",
       "      <td>...</td>\n",
       "      <td>No</td>\n",
       "      <td>No</td>\n",
       "      <td>No</td>\n",
       "      <td>Yes</td>\n",
       "      <td>73.9</td>\n",
       "      <td>280.85</td>\n",
       "      <td>Yes</td>\n",
       "      <td>Month-to-month</td>\n",
       "      <td>Fiber optic</td>\n",
       "      <td>Electronic check</td>\n",
       "    </tr>\n",
       "    <tr>\n",
       "      <th>3</th>\n",
       "      <td>1</td>\n",
       "      <td>2</td>\n",
       "      <td>1</td>\n",
       "      <td>0011-IGKFF</td>\n",
       "      <td>Male</td>\n",
       "      <td>1</td>\n",
       "      <td>Yes</td>\n",
       "      <td>No</td>\n",
       "      <td>13</td>\n",
       "      <td>Yes</td>\n",
       "      <td>...</td>\n",
       "      <td>No</td>\n",
       "      <td>Yes</td>\n",
       "      <td>Yes</td>\n",
       "      <td>Yes</td>\n",
       "      <td>98.0</td>\n",
       "      <td>1237.85</td>\n",
       "      <td>Yes</td>\n",
       "      <td>Month-to-month</td>\n",
       "      <td>Fiber optic</td>\n",
       "      <td>Electronic check</td>\n",
       "    </tr>\n",
       "    <tr>\n",
       "      <th>4</th>\n",
       "      <td>2</td>\n",
       "      <td>2</td>\n",
       "      <td>1</td>\n",
       "      <td>0013-EXCHZ</td>\n",
       "      <td>Female</td>\n",
       "      <td>1</td>\n",
       "      <td>Yes</td>\n",
       "      <td>No</td>\n",
       "      <td>3</td>\n",
       "      <td>Yes</td>\n",
       "      <td>...</td>\n",
       "      <td>Yes</td>\n",
       "      <td>Yes</td>\n",
       "      <td>No</td>\n",
       "      <td>Yes</td>\n",
       "      <td>83.9</td>\n",
       "      <td>267.4</td>\n",
       "      <td>Yes</td>\n",
       "      <td>Month-to-month</td>\n",
       "      <td>Fiber optic</td>\n",
       "      <td>Mailed check</td>\n",
       "    </tr>\n",
       "  </tbody>\n",
       "</table>\n",
       "<p>5 rows × 24 columns</p>\n",
       "</div>"
      ],
      "text/plain": [
       "   payment_type_id  internet_service_type_id  contract_type_id customer_id  \\\n",
       "0                2                         1                 2  0002-ORFBO   \n",
       "1                2                         1                 1  0003-MKNFE   \n",
       "2                1                         2                 1  0004-TLHLJ   \n",
       "3                1                         2                 1  0011-IGKFF   \n",
       "4                2                         2                 1  0013-EXCHZ   \n",
       "\n",
       "   gender  senior_citizen partner dependents  tenure phone_service  ...  \\\n",
       "0  Female               0     Yes        Yes       9           Yes  ...   \n",
       "1    Male               0      No         No       9           Yes  ...   \n",
       "2    Male               0      No         No       4           Yes  ...   \n",
       "3    Male               1     Yes         No      13           Yes  ...   \n",
       "4  Female               1     Yes         No       3           Yes  ...   \n",
       "\n",
       "  tech_support streaming_tv streaming_movies paperless_billing  \\\n",
       "0          Yes          Yes               No               Yes   \n",
       "1           No           No              Yes                No   \n",
       "2           No           No               No               Yes   \n",
       "3           No          Yes              Yes               Yes   \n",
       "4          Yes          Yes               No               Yes   \n",
       "\n",
       "  monthly_charges total_charges churn   contract_type  internet_service_type  \\\n",
       "0            65.6         593.3    No        One year                    DSL   \n",
       "1            59.9         542.4    No  Month-to-month                    DSL   \n",
       "2            73.9        280.85   Yes  Month-to-month            Fiber optic   \n",
       "3            98.0       1237.85   Yes  Month-to-month            Fiber optic   \n",
       "4            83.9         267.4   Yes  Month-to-month            Fiber optic   \n",
       "\n",
       "       payment_type  \n",
       "0      Mailed check  \n",
       "1      Mailed check  \n",
       "2  Electronic check  \n",
       "3  Electronic check  \n",
       "4      Mailed check  \n",
       "\n",
       "[5 rows x 24 columns]"
      ]
     },
     "execution_count": 3,
     "metadata": {},
     "output_type": "execute_result"
    }
   ],
   "source": [
    "df.head()"
   ]
  },
  {
   "cell_type": "code",
   "execution_count": 4,
   "id": "d42e05d5-a147-4d89-be85-4cebd6ed277c",
   "metadata": {
    "tags": []
   },
   "outputs": [
    {
     "data": {
      "text/plain": [
       "(7043, 24)"
      ]
     },
     "execution_count": 4,
     "metadata": {},
     "output_type": "execute_result"
    }
   ],
   "source": [
    "df.shape"
   ]
  },
  {
   "cell_type": "markdown",
   "id": "0ca3628a-8e35-4c85-812b-394e718c52f7",
   "metadata": {
    "tags": []
   },
   "source": [
    "## Prepare"
   ]
  },
  {
   "cell_type": "markdown",
   "id": "5abd3d10-190b-4347-b223-ea00cad3ea98",
   "metadata": {},
   "source": [
    "* Drops unnecessary columns\n",
    "* Replace empty space values with 0.0 so it can have a value,\n",
    "* Filled in null values in internet_service_type\n",
    "* Split into train, validate, and test dataframes"
   ]
  },
  {
   "cell_type": "code",
   "execution_count": 5,
   "id": "6f76d609-f6bc-4c07-8530-517d0eadc20d",
   "metadata": {
    "tags": []
   },
   "outputs": [
    {
     "name": "stdout",
     "output_type": "stream",
     "text": [
      "this file exists, reading csv\n"
     ]
    }
   ],
   "source": [
    "fresh_telco = a.get_telco_data()"
   ]
  },
  {
   "cell_type": "code",
   "execution_count": 6,
   "id": "24a2ab27-d52c-47e1-b966-95bef1af3dea",
   "metadata": {
    "tags": []
   },
   "outputs": [
    {
     "data": {
      "text/html": [
       "<div>\n",
       "<style scoped>\n",
       "    .dataframe tbody tr th:only-of-type {\n",
       "        vertical-align: middle;\n",
       "    }\n",
       "\n",
       "    .dataframe tbody tr th {\n",
       "        vertical-align: top;\n",
       "    }\n",
       "\n",
       "    .dataframe thead th {\n",
       "        text-align: right;\n",
       "    }\n",
       "</style>\n",
       "<table border=\"1\" class=\"dataframe\">\n",
       "  <thead>\n",
       "    <tr style=\"text-align: right;\">\n",
       "      <th></th>\n",
       "      <th>payment_type_id</th>\n",
       "      <th>internet_service_type_id</th>\n",
       "      <th>contract_type_id</th>\n",
       "      <th>customer_id</th>\n",
       "      <th>gender</th>\n",
       "      <th>senior_citizen</th>\n",
       "      <th>partner</th>\n",
       "      <th>dependents</th>\n",
       "      <th>tenure</th>\n",
       "      <th>phone_service</th>\n",
       "      <th>...</th>\n",
       "      <th>tech_support</th>\n",
       "      <th>streaming_tv</th>\n",
       "      <th>streaming_movies</th>\n",
       "      <th>paperless_billing</th>\n",
       "      <th>monthly_charges</th>\n",
       "      <th>total_charges</th>\n",
       "      <th>churn</th>\n",
       "      <th>contract_type</th>\n",
       "      <th>internet_service_type</th>\n",
       "      <th>payment_type</th>\n",
       "    </tr>\n",
       "  </thead>\n",
       "  <tbody>\n",
       "    <tr>\n",
       "      <th>0</th>\n",
       "      <td>2</td>\n",
       "      <td>1</td>\n",
       "      <td>2</td>\n",
       "      <td>0002-ORFBO</td>\n",
       "      <td>Female</td>\n",
       "      <td>0</td>\n",
       "      <td>Yes</td>\n",
       "      <td>Yes</td>\n",
       "      <td>9</td>\n",
       "      <td>Yes</td>\n",
       "      <td>...</td>\n",
       "      <td>Yes</td>\n",
       "      <td>Yes</td>\n",
       "      <td>No</td>\n",
       "      <td>Yes</td>\n",
       "      <td>65.6</td>\n",
       "      <td>593.3</td>\n",
       "      <td>No</td>\n",
       "      <td>One year</td>\n",
       "      <td>DSL</td>\n",
       "      <td>Mailed check</td>\n",
       "    </tr>\n",
       "    <tr>\n",
       "      <th>1</th>\n",
       "      <td>2</td>\n",
       "      <td>1</td>\n",
       "      <td>1</td>\n",
       "      <td>0003-MKNFE</td>\n",
       "      <td>Male</td>\n",
       "      <td>0</td>\n",
       "      <td>No</td>\n",
       "      <td>No</td>\n",
       "      <td>9</td>\n",
       "      <td>Yes</td>\n",
       "      <td>...</td>\n",
       "      <td>No</td>\n",
       "      <td>No</td>\n",
       "      <td>Yes</td>\n",
       "      <td>No</td>\n",
       "      <td>59.9</td>\n",
       "      <td>542.4</td>\n",
       "      <td>No</td>\n",
       "      <td>Month-to-month</td>\n",
       "      <td>DSL</td>\n",
       "      <td>Mailed check</td>\n",
       "    </tr>\n",
       "    <tr>\n",
       "      <th>2</th>\n",
       "      <td>1</td>\n",
       "      <td>2</td>\n",
       "      <td>1</td>\n",
       "      <td>0004-TLHLJ</td>\n",
       "      <td>Male</td>\n",
       "      <td>0</td>\n",
       "      <td>No</td>\n",
       "      <td>No</td>\n",
       "      <td>4</td>\n",
       "      <td>Yes</td>\n",
       "      <td>...</td>\n",
       "      <td>No</td>\n",
       "      <td>No</td>\n",
       "      <td>No</td>\n",
       "      <td>Yes</td>\n",
       "      <td>73.9</td>\n",
       "      <td>280.85</td>\n",
       "      <td>Yes</td>\n",
       "      <td>Month-to-month</td>\n",
       "      <td>Fiber optic</td>\n",
       "      <td>Electronic check</td>\n",
       "    </tr>\n",
       "    <tr>\n",
       "      <th>3</th>\n",
       "      <td>1</td>\n",
       "      <td>2</td>\n",
       "      <td>1</td>\n",
       "      <td>0011-IGKFF</td>\n",
       "      <td>Male</td>\n",
       "      <td>1</td>\n",
       "      <td>Yes</td>\n",
       "      <td>No</td>\n",
       "      <td>13</td>\n",
       "      <td>Yes</td>\n",
       "      <td>...</td>\n",
       "      <td>No</td>\n",
       "      <td>Yes</td>\n",
       "      <td>Yes</td>\n",
       "      <td>Yes</td>\n",
       "      <td>98.0</td>\n",
       "      <td>1237.85</td>\n",
       "      <td>Yes</td>\n",
       "      <td>Month-to-month</td>\n",
       "      <td>Fiber optic</td>\n",
       "      <td>Electronic check</td>\n",
       "    </tr>\n",
       "    <tr>\n",
       "      <th>4</th>\n",
       "      <td>2</td>\n",
       "      <td>2</td>\n",
       "      <td>1</td>\n",
       "      <td>0013-EXCHZ</td>\n",
       "      <td>Female</td>\n",
       "      <td>1</td>\n",
       "      <td>Yes</td>\n",
       "      <td>No</td>\n",
       "      <td>3</td>\n",
       "      <td>Yes</td>\n",
       "      <td>...</td>\n",
       "      <td>Yes</td>\n",
       "      <td>Yes</td>\n",
       "      <td>No</td>\n",
       "      <td>Yes</td>\n",
       "      <td>83.9</td>\n",
       "      <td>267.4</td>\n",
       "      <td>Yes</td>\n",
       "      <td>Month-to-month</td>\n",
       "      <td>Fiber optic</td>\n",
       "      <td>Mailed check</td>\n",
       "    </tr>\n",
       "  </tbody>\n",
       "</table>\n",
       "<p>5 rows × 24 columns</p>\n",
       "</div>"
      ],
      "text/plain": [
       "   payment_type_id  internet_service_type_id  contract_type_id customer_id  \\\n",
       "0                2                         1                 2  0002-ORFBO   \n",
       "1                2                         1                 1  0003-MKNFE   \n",
       "2                1                         2                 1  0004-TLHLJ   \n",
       "3                1                         2                 1  0011-IGKFF   \n",
       "4                2                         2                 1  0013-EXCHZ   \n",
       "\n",
       "   gender  senior_citizen partner dependents  tenure phone_service  ...  \\\n",
       "0  Female               0     Yes        Yes       9           Yes  ...   \n",
       "1    Male               0      No         No       9           Yes  ...   \n",
       "2    Male               0      No         No       4           Yes  ...   \n",
       "3    Male               1     Yes         No      13           Yes  ...   \n",
       "4  Female               1     Yes         No       3           Yes  ...   \n",
       "\n",
       "  tech_support streaming_tv streaming_movies paperless_billing  \\\n",
       "0          Yes          Yes               No               Yes   \n",
       "1           No           No              Yes                No   \n",
       "2           No           No               No               Yes   \n",
       "3           No          Yes              Yes               Yes   \n",
       "4          Yes          Yes               No               Yes   \n",
       "\n",
       "  monthly_charges total_charges churn   contract_type  internet_service_type  \\\n",
       "0            65.6         593.3    No        One year                    DSL   \n",
       "1            59.9         542.4    No  Month-to-month                    DSL   \n",
       "2            73.9        280.85   Yes  Month-to-month            Fiber optic   \n",
       "3            98.0       1237.85   Yes  Month-to-month            Fiber optic   \n",
       "4            83.9         267.4   Yes  Month-to-month            Fiber optic   \n",
       "\n",
       "       payment_type  \n",
       "0      Mailed check  \n",
       "1      Mailed check  \n",
       "2  Electronic check  \n",
       "3  Electronic check  \n",
       "4      Mailed check  \n",
       "\n",
       "[5 rows x 24 columns]"
      ]
     },
     "execution_count": 6,
     "metadata": {},
     "output_type": "execute_result"
    }
   ],
   "source": [
    "fresh_telco.head()"
   ]
  },
  {
   "cell_type": "code",
   "execution_count": 7,
   "id": "1d387a69-6709-4c88-a182-0eb3bc9ffae6",
   "metadata": {
    "tags": []
   },
   "outputs": [],
   "source": [
    "# using my prepare.py file to clean the data with the transformations mentioned above\n",
    "df = prepare.prep_telco(fresh_telco)"
   ]
  },
  {
   "cell_type": "code",
   "execution_count": 8,
   "id": "38b043e9-9aef-45a3-9ca3-b7b0f1713b0a",
   "metadata": {
    "tags": []
   },
   "outputs": [
    {
     "data": {
      "text/html": [
       "<div>\n",
       "<style scoped>\n",
       "    .dataframe tbody tr th:only-of-type {\n",
       "        vertical-align: middle;\n",
       "    }\n",
       "\n",
       "    .dataframe tbody tr th {\n",
       "        vertical-align: top;\n",
       "    }\n",
       "\n",
       "    .dataframe thead th {\n",
       "        text-align: right;\n",
       "    }\n",
       "</style>\n",
       "<table border=\"1\" class=\"dataframe\">\n",
       "  <thead>\n",
       "    <tr style=\"text-align: right;\">\n",
       "      <th></th>\n",
       "      <th>gender</th>\n",
       "      <th>senior_citizen</th>\n",
       "      <th>partner</th>\n",
       "      <th>dependents</th>\n",
       "      <th>tenure</th>\n",
       "      <th>phone_service</th>\n",
       "      <th>multiple_lines</th>\n",
       "      <th>online_security</th>\n",
       "      <th>online_backup</th>\n",
       "      <th>device_protection</th>\n",
       "      <th>tech_support</th>\n",
       "      <th>streaming_tv</th>\n",
       "      <th>streaming_movies</th>\n",
       "      <th>paperless_billing</th>\n",
       "      <th>monthly_charges</th>\n",
       "      <th>total_charges</th>\n",
       "      <th>churn</th>\n",
       "      <th>contract_type</th>\n",
       "      <th>internet_service_type</th>\n",
       "      <th>payment_type</th>\n",
       "    </tr>\n",
       "    <tr>\n",
       "      <th>customer_id</th>\n",
       "      <th></th>\n",
       "      <th></th>\n",
       "      <th></th>\n",
       "      <th></th>\n",
       "      <th></th>\n",
       "      <th></th>\n",
       "      <th></th>\n",
       "      <th></th>\n",
       "      <th></th>\n",
       "      <th></th>\n",
       "      <th></th>\n",
       "      <th></th>\n",
       "      <th></th>\n",
       "      <th></th>\n",
       "      <th></th>\n",
       "      <th></th>\n",
       "      <th></th>\n",
       "      <th></th>\n",
       "      <th></th>\n",
       "      <th></th>\n",
       "    </tr>\n",
       "  </thead>\n",
       "  <tbody>\n",
       "    <tr>\n",
       "      <th>0002-ORFBO</th>\n",
       "      <td>Female</td>\n",
       "      <td>0</td>\n",
       "      <td>Yes</td>\n",
       "      <td>Yes</td>\n",
       "      <td>9</td>\n",
       "      <td>Yes</td>\n",
       "      <td>No</td>\n",
       "      <td>No</td>\n",
       "      <td>Yes</td>\n",
       "      <td>No</td>\n",
       "      <td>Yes</td>\n",
       "      <td>Yes</td>\n",
       "      <td>No</td>\n",
       "      <td>Yes</td>\n",
       "      <td>65.6</td>\n",
       "      <td>593.30</td>\n",
       "      <td>No</td>\n",
       "      <td>One year</td>\n",
       "      <td>DSL</td>\n",
       "      <td>Mailed check</td>\n",
       "    </tr>\n",
       "    <tr>\n",
       "      <th>0003-MKNFE</th>\n",
       "      <td>Male</td>\n",
       "      <td>0</td>\n",
       "      <td>No</td>\n",
       "      <td>No</td>\n",
       "      <td>9</td>\n",
       "      <td>Yes</td>\n",
       "      <td>Yes</td>\n",
       "      <td>No</td>\n",
       "      <td>No</td>\n",
       "      <td>No</td>\n",
       "      <td>No</td>\n",
       "      <td>No</td>\n",
       "      <td>Yes</td>\n",
       "      <td>No</td>\n",
       "      <td>59.9</td>\n",
       "      <td>542.40</td>\n",
       "      <td>No</td>\n",
       "      <td>Month-to-month</td>\n",
       "      <td>DSL</td>\n",
       "      <td>Mailed check</td>\n",
       "    </tr>\n",
       "    <tr>\n",
       "      <th>0004-TLHLJ</th>\n",
       "      <td>Male</td>\n",
       "      <td>0</td>\n",
       "      <td>No</td>\n",
       "      <td>No</td>\n",
       "      <td>4</td>\n",
       "      <td>Yes</td>\n",
       "      <td>No</td>\n",
       "      <td>No</td>\n",
       "      <td>No</td>\n",
       "      <td>Yes</td>\n",
       "      <td>No</td>\n",
       "      <td>No</td>\n",
       "      <td>No</td>\n",
       "      <td>Yes</td>\n",
       "      <td>73.9</td>\n",
       "      <td>280.85</td>\n",
       "      <td>Yes</td>\n",
       "      <td>Month-to-month</td>\n",
       "      <td>Fiber optic</td>\n",
       "      <td>Electronic check</td>\n",
       "    </tr>\n",
       "    <tr>\n",
       "      <th>0011-IGKFF</th>\n",
       "      <td>Male</td>\n",
       "      <td>1</td>\n",
       "      <td>Yes</td>\n",
       "      <td>No</td>\n",
       "      <td>13</td>\n",
       "      <td>Yes</td>\n",
       "      <td>No</td>\n",
       "      <td>No</td>\n",
       "      <td>Yes</td>\n",
       "      <td>Yes</td>\n",
       "      <td>No</td>\n",
       "      <td>Yes</td>\n",
       "      <td>Yes</td>\n",
       "      <td>Yes</td>\n",
       "      <td>98.0</td>\n",
       "      <td>1237.85</td>\n",
       "      <td>Yes</td>\n",
       "      <td>Month-to-month</td>\n",
       "      <td>Fiber optic</td>\n",
       "      <td>Electronic check</td>\n",
       "    </tr>\n",
       "    <tr>\n",
       "      <th>0013-EXCHZ</th>\n",
       "      <td>Female</td>\n",
       "      <td>1</td>\n",
       "      <td>Yes</td>\n",
       "      <td>No</td>\n",
       "      <td>3</td>\n",
       "      <td>Yes</td>\n",
       "      <td>No</td>\n",
       "      <td>No</td>\n",
       "      <td>No</td>\n",
       "      <td>No</td>\n",
       "      <td>Yes</td>\n",
       "      <td>Yes</td>\n",
       "      <td>No</td>\n",
       "      <td>Yes</td>\n",
       "      <td>83.9</td>\n",
       "      <td>267.40</td>\n",
       "      <td>Yes</td>\n",
       "      <td>Month-to-month</td>\n",
       "      <td>Fiber optic</td>\n",
       "      <td>Mailed check</td>\n",
       "    </tr>\n",
       "  </tbody>\n",
       "</table>\n",
       "</div>"
      ],
      "text/plain": [
       "             gender  senior_citizen partner dependents  tenure phone_service  \\\n",
       "customer_id                                                                    \n",
       "0002-ORFBO   Female               0     Yes        Yes       9           Yes   \n",
       "0003-MKNFE     Male               0      No         No       9           Yes   \n",
       "0004-TLHLJ     Male               0      No         No       4           Yes   \n",
       "0011-IGKFF     Male               1     Yes         No      13           Yes   \n",
       "0013-EXCHZ   Female               1     Yes         No       3           Yes   \n",
       "\n",
       "            multiple_lines online_security online_backup device_protection  \\\n",
       "customer_id                                                                  \n",
       "0002-ORFBO              No              No           Yes                No   \n",
       "0003-MKNFE             Yes              No            No                No   \n",
       "0004-TLHLJ              No              No            No               Yes   \n",
       "0011-IGKFF              No              No           Yes               Yes   \n",
       "0013-EXCHZ              No              No            No                No   \n",
       "\n",
       "            tech_support streaming_tv streaming_movies paperless_billing  \\\n",
       "customer_id                                                                \n",
       "0002-ORFBO           Yes          Yes               No               Yes   \n",
       "0003-MKNFE            No           No              Yes                No   \n",
       "0004-TLHLJ            No           No               No               Yes   \n",
       "0011-IGKFF            No          Yes              Yes               Yes   \n",
       "0013-EXCHZ           Yes          Yes               No               Yes   \n",
       "\n",
       "             monthly_charges  total_charges churn   contract_type  \\\n",
       "customer_id                                                         \n",
       "0002-ORFBO              65.6         593.30    No        One year   \n",
       "0003-MKNFE              59.9         542.40    No  Month-to-month   \n",
       "0004-TLHLJ              73.9         280.85   Yes  Month-to-month   \n",
       "0011-IGKFF              98.0        1237.85   Yes  Month-to-month   \n",
       "0013-EXCHZ              83.9         267.40   Yes  Month-to-month   \n",
       "\n",
       "            internet_service_type      payment_type  \n",
       "customer_id                                          \n",
       "0002-ORFBO                    DSL      Mailed check  \n",
       "0003-MKNFE                    DSL      Mailed check  \n",
       "0004-TLHLJ            Fiber optic  Electronic check  \n",
       "0011-IGKFF            Fiber optic  Electronic check  \n",
       "0013-EXCHZ            Fiber optic      Mailed check  "
      ]
     },
     "execution_count": 8,
     "metadata": {},
     "output_type": "execute_result"
    }
   ],
   "source": [
    "df.head()"
   ]
  },
  {
   "cell_type": "code",
   "execution_count": 9,
   "id": "5c600cfc-ab15-444d-bb74-5721e07ac1b7",
   "metadata": {
    "tags": []
   },
   "outputs": [],
   "source": [
    "# using my prepare.py file to split the data into train, validate, and test dataframes\n",
    "train, validate, test = prepare.splitting_data(df, 'churn')"
   ]
  },
  {
   "cell_type": "code",
   "execution_count": 10,
   "id": "755e4210-047a-4476-b772-a703599930ba",
   "metadata": {
    "tags": []
   },
   "outputs": [
    {
     "data": {
      "text/html": [
       "<div>\n",
       "<style scoped>\n",
       "    .dataframe tbody tr th:only-of-type {\n",
       "        vertical-align: middle;\n",
       "    }\n",
       "\n",
       "    .dataframe tbody tr th {\n",
       "        vertical-align: top;\n",
       "    }\n",
       "\n",
       "    .dataframe thead th {\n",
       "        text-align: right;\n",
       "    }\n",
       "</style>\n",
       "<table border=\"1\" class=\"dataframe\">\n",
       "  <thead>\n",
       "    <tr style=\"text-align: right;\">\n",
       "      <th></th>\n",
       "      <th>gender</th>\n",
       "      <th>senior_citizen</th>\n",
       "      <th>partner</th>\n",
       "      <th>dependents</th>\n",
       "      <th>tenure</th>\n",
       "      <th>phone_service</th>\n",
       "      <th>multiple_lines</th>\n",
       "      <th>online_security</th>\n",
       "      <th>online_backup</th>\n",
       "      <th>device_protection</th>\n",
       "      <th>tech_support</th>\n",
       "      <th>streaming_tv</th>\n",
       "      <th>streaming_movies</th>\n",
       "      <th>paperless_billing</th>\n",
       "      <th>monthly_charges</th>\n",
       "      <th>total_charges</th>\n",
       "      <th>churn</th>\n",
       "      <th>contract_type</th>\n",
       "      <th>internet_service_type</th>\n",
       "      <th>payment_type</th>\n",
       "    </tr>\n",
       "    <tr>\n",
       "      <th>customer_id</th>\n",
       "      <th></th>\n",
       "      <th></th>\n",
       "      <th></th>\n",
       "      <th></th>\n",
       "      <th></th>\n",
       "      <th></th>\n",
       "      <th></th>\n",
       "      <th></th>\n",
       "      <th></th>\n",
       "      <th></th>\n",
       "      <th></th>\n",
       "      <th></th>\n",
       "      <th></th>\n",
       "      <th></th>\n",
       "      <th></th>\n",
       "      <th></th>\n",
       "      <th></th>\n",
       "      <th></th>\n",
       "      <th></th>\n",
       "      <th></th>\n",
       "    </tr>\n",
       "  </thead>\n",
       "  <tbody>\n",
       "    <tr>\n",
       "      <th>4083-BFNYK</th>\n",
       "      <td>Female</td>\n",
       "      <td>1</td>\n",
       "      <td>Yes</td>\n",
       "      <td>No</td>\n",
       "      <td>38</td>\n",
       "      <td>Yes</td>\n",
       "      <td>Yes</td>\n",
       "      <td>Yes</td>\n",
       "      <td>Yes</td>\n",
       "      <td>No</td>\n",
       "      <td>No</td>\n",
       "      <td>No</td>\n",
       "      <td>Yes</td>\n",
       "      <td>No</td>\n",
       "      <td>95.00</td>\n",
       "      <td>3591.25</td>\n",
       "      <td>No</td>\n",
       "      <td>One year</td>\n",
       "      <td>Fiber optic</td>\n",
       "      <td>Credit card (automatic)</td>\n",
       "    </tr>\n",
       "    <tr>\n",
       "      <th>5804-LEPIM</th>\n",
       "      <td>Female</td>\n",
       "      <td>1</td>\n",
       "      <td>No</td>\n",
       "      <td>No</td>\n",
       "      <td>2</td>\n",
       "      <td>Yes</td>\n",
       "      <td>No</td>\n",
       "      <td>No</td>\n",
       "      <td>No</td>\n",
       "      <td>No</td>\n",
       "      <td>No</td>\n",
       "      <td>No</td>\n",
       "      <td>No</td>\n",
       "      <td>Yes</td>\n",
       "      <td>70.35</td>\n",
       "      <td>139.05</td>\n",
       "      <td>Yes</td>\n",
       "      <td>Month-to-month</td>\n",
       "      <td>Fiber optic</td>\n",
       "      <td>Electronic check</td>\n",
       "    </tr>\n",
       "    <tr>\n",
       "      <th>4895-TMWIR</th>\n",
       "      <td>Male</td>\n",
       "      <td>1</td>\n",
       "      <td>Yes</td>\n",
       "      <td>No</td>\n",
       "      <td>11</td>\n",
       "      <td>Yes</td>\n",
       "      <td>No</td>\n",
       "      <td>No internet service</td>\n",
       "      <td>No internet service</td>\n",
       "      <td>No internet service</td>\n",
       "      <td>No internet service</td>\n",
       "      <td>No internet service</td>\n",
       "      <td>No internet service</td>\n",
       "      <td>No</td>\n",
       "      <td>19.95</td>\n",
       "      <td>214.75</td>\n",
       "      <td>Yes</td>\n",
       "      <td>Month-to-month</td>\n",
       "      <td>None</td>\n",
       "      <td>Mailed check</td>\n",
       "    </tr>\n",
       "    <tr>\n",
       "      <th>1342-JPNKI</th>\n",
       "      <td>Male</td>\n",
       "      <td>0</td>\n",
       "      <td>No</td>\n",
       "      <td>No</td>\n",
       "      <td>10</td>\n",
       "      <td>Yes</td>\n",
       "      <td>Yes</td>\n",
       "      <td>No</td>\n",
       "      <td>No</td>\n",
       "      <td>No</td>\n",
       "      <td>No</td>\n",
       "      <td>Yes</td>\n",
       "      <td>No</td>\n",
       "      <td>Yes</td>\n",
       "      <td>86.05</td>\n",
       "      <td>834.10</td>\n",
       "      <td>Yes</td>\n",
       "      <td>Month-to-month</td>\n",
       "      <td>Fiber optic</td>\n",
       "      <td>Bank transfer (automatic)</td>\n",
       "    </tr>\n",
       "    <tr>\n",
       "      <th>3397-AVTKU</th>\n",
       "      <td>Male</td>\n",
       "      <td>0</td>\n",
       "      <td>No</td>\n",
       "      <td>No</td>\n",
       "      <td>43</td>\n",
       "      <td>Yes</td>\n",
       "      <td>No</td>\n",
       "      <td>No</td>\n",
       "      <td>Yes</td>\n",
       "      <td>No</td>\n",
       "      <td>No</td>\n",
       "      <td>No</td>\n",
       "      <td>Yes</td>\n",
       "      <td>Yes</td>\n",
       "      <td>60.00</td>\n",
       "      <td>2548.55</td>\n",
       "      <td>No</td>\n",
       "      <td>Two year</td>\n",
       "      <td>DSL</td>\n",
       "      <td>Electronic check</td>\n",
       "    </tr>\n",
       "  </tbody>\n",
       "</table>\n",
       "</div>"
      ],
      "text/plain": [
       "             gender  senior_citizen partner dependents  tenure phone_service  \\\n",
       "customer_id                                                                    \n",
       "4083-BFNYK   Female               1     Yes         No      38           Yes   \n",
       "5804-LEPIM   Female               1      No         No       2           Yes   \n",
       "4895-TMWIR     Male               1     Yes         No      11           Yes   \n",
       "1342-JPNKI     Male               0      No         No      10           Yes   \n",
       "3397-AVTKU     Male               0      No         No      43           Yes   \n",
       "\n",
       "            multiple_lines      online_security        online_backup  \\\n",
       "customer_id                                                            \n",
       "4083-BFNYK             Yes                  Yes                  Yes   \n",
       "5804-LEPIM              No                   No                   No   \n",
       "4895-TMWIR              No  No internet service  No internet service   \n",
       "1342-JPNKI             Yes                   No                   No   \n",
       "3397-AVTKU              No                   No                  Yes   \n",
       "\n",
       "               device_protection         tech_support         streaming_tv  \\\n",
       "customer_id                                                                  \n",
       "4083-BFNYK                    No                   No                   No   \n",
       "5804-LEPIM                    No                   No                   No   \n",
       "4895-TMWIR   No internet service  No internet service  No internet service   \n",
       "1342-JPNKI                    No                   No                  Yes   \n",
       "3397-AVTKU                    No                   No                   No   \n",
       "\n",
       "                streaming_movies paperless_billing  monthly_charges  \\\n",
       "customer_id                                                           \n",
       "4083-BFNYK                   Yes                No            95.00   \n",
       "5804-LEPIM                    No               Yes            70.35   \n",
       "4895-TMWIR   No internet service                No            19.95   \n",
       "1342-JPNKI                    No               Yes            86.05   \n",
       "3397-AVTKU                   Yes               Yes            60.00   \n",
       "\n",
       "             total_charges churn   contract_type internet_service_type  \\\n",
       "customer_id                                                              \n",
       "4083-BFNYK         3591.25    No        One year           Fiber optic   \n",
       "5804-LEPIM          139.05   Yes  Month-to-month           Fiber optic   \n",
       "4895-TMWIR          214.75   Yes  Month-to-month                  None   \n",
       "1342-JPNKI          834.10   Yes  Month-to-month           Fiber optic   \n",
       "3397-AVTKU         2548.55    No        Two year                   DSL   \n",
       "\n",
       "                          payment_type  \n",
       "customer_id                             \n",
       "4083-BFNYK     Credit card (automatic)  \n",
       "5804-LEPIM            Electronic check  \n",
       "4895-TMWIR                Mailed check  \n",
       "1342-JPNKI   Bank transfer (automatic)  \n",
       "3397-AVTKU            Electronic check  "
      ]
     },
     "execution_count": 10,
     "metadata": {},
     "output_type": "execute_result"
    }
   ],
   "source": [
    "train.head()"
   ]
  },
  {
   "cell_type": "code",
   "execution_count": 11,
   "id": "e671ce05-7efb-44bd-8992-cd9dcaf94a76",
   "metadata": {
    "tags": []
   },
   "outputs": [
    {
     "data": {
      "text/plain": [
       "(4225, 20)"
      ]
     },
     "execution_count": 11,
     "metadata": {},
     "output_type": "execute_result"
    }
   ],
   "source": [
    "train.shape"
   ]
  },
  {
   "cell_type": "code",
   "execution_count": 12,
   "id": "0fb24211-52cd-4a0e-975d-2674113168ae",
   "metadata": {
    "tags": []
   },
   "outputs": [
    {
     "data": {
      "text/plain": [
       "(1409, 20)"
      ]
     },
     "execution_count": 12,
     "metadata": {},
     "output_type": "execute_result"
    }
   ],
   "source": [
    "validate.shape"
   ]
  },
  {
   "cell_type": "code",
   "execution_count": 13,
   "id": "57d157e3-ed78-4af8-b8c5-295c0537d257",
   "metadata": {
    "tags": []
   },
   "outputs": [
    {
     "data": {
      "text/plain": [
       "(1409, 20)"
      ]
     },
     "execution_count": 13,
     "metadata": {},
     "output_type": "execute_result"
    }
   ],
   "source": [
    "test.shape"
   ]
  },
  {
   "cell_type": "markdown",
   "id": "459303ad-a148-4b52-96ca-be16570c2939",
   "metadata": {
    "tags": []
   },
   "source": [
    "## Explore"
   ]
  },
  {
   "cell_type": "code",
   "execution_count": 14,
   "id": "f32bc56a-272d-49c6-9e59-31ebc35a459a",
   "metadata": {
    "tags": []
   },
   "outputs": [
    {
     "data": {
      "text/html": [
       "<div>\n",
       "<style scoped>\n",
       "    .dataframe tbody tr th:only-of-type {\n",
       "        vertical-align: middle;\n",
       "    }\n",
       "\n",
       "    .dataframe tbody tr th {\n",
       "        vertical-align: top;\n",
       "    }\n",
       "\n",
       "    .dataframe thead th {\n",
       "        text-align: right;\n",
       "    }\n",
       "</style>\n",
       "<table border=\"1\" class=\"dataframe\">\n",
       "  <thead>\n",
       "    <tr style=\"text-align: right;\">\n",
       "      <th></th>\n",
       "      <th>gender</th>\n",
       "      <th>senior_citizen</th>\n",
       "      <th>partner</th>\n",
       "      <th>dependents</th>\n",
       "      <th>tenure</th>\n",
       "      <th>phone_service</th>\n",
       "      <th>multiple_lines</th>\n",
       "      <th>online_security</th>\n",
       "      <th>online_backup</th>\n",
       "      <th>device_protection</th>\n",
       "      <th>tech_support</th>\n",
       "      <th>streaming_tv</th>\n",
       "      <th>streaming_movies</th>\n",
       "      <th>paperless_billing</th>\n",
       "      <th>monthly_charges</th>\n",
       "      <th>total_charges</th>\n",
       "      <th>churn</th>\n",
       "      <th>contract_type</th>\n",
       "      <th>internet_service_type</th>\n",
       "      <th>payment_type</th>\n",
       "    </tr>\n",
       "    <tr>\n",
       "      <th>customer_id</th>\n",
       "      <th></th>\n",
       "      <th></th>\n",
       "      <th></th>\n",
       "      <th></th>\n",
       "      <th></th>\n",
       "      <th></th>\n",
       "      <th></th>\n",
       "      <th></th>\n",
       "      <th></th>\n",
       "      <th></th>\n",
       "      <th></th>\n",
       "      <th></th>\n",
       "      <th></th>\n",
       "      <th></th>\n",
       "      <th></th>\n",
       "      <th></th>\n",
       "      <th></th>\n",
       "      <th></th>\n",
       "      <th></th>\n",
       "      <th></th>\n",
       "    </tr>\n",
       "  </thead>\n",
       "  <tbody>\n",
       "    <tr>\n",
       "      <th>4083-BFNYK</th>\n",
       "      <td>Female</td>\n",
       "      <td>1</td>\n",
       "      <td>Yes</td>\n",
       "      <td>No</td>\n",
       "      <td>38</td>\n",
       "      <td>Yes</td>\n",
       "      <td>Yes</td>\n",
       "      <td>Yes</td>\n",
       "      <td>Yes</td>\n",
       "      <td>No</td>\n",
       "      <td>No</td>\n",
       "      <td>No</td>\n",
       "      <td>Yes</td>\n",
       "      <td>No</td>\n",
       "      <td>95.00</td>\n",
       "      <td>3591.25</td>\n",
       "      <td>No</td>\n",
       "      <td>One year</td>\n",
       "      <td>Fiber optic</td>\n",
       "      <td>Credit card (automatic)</td>\n",
       "    </tr>\n",
       "    <tr>\n",
       "      <th>5804-LEPIM</th>\n",
       "      <td>Female</td>\n",
       "      <td>1</td>\n",
       "      <td>No</td>\n",
       "      <td>No</td>\n",
       "      <td>2</td>\n",
       "      <td>Yes</td>\n",
       "      <td>No</td>\n",
       "      <td>No</td>\n",
       "      <td>No</td>\n",
       "      <td>No</td>\n",
       "      <td>No</td>\n",
       "      <td>No</td>\n",
       "      <td>No</td>\n",
       "      <td>Yes</td>\n",
       "      <td>70.35</td>\n",
       "      <td>139.05</td>\n",
       "      <td>Yes</td>\n",
       "      <td>Month-to-month</td>\n",
       "      <td>Fiber optic</td>\n",
       "      <td>Electronic check</td>\n",
       "    </tr>\n",
       "    <tr>\n",
       "      <th>4895-TMWIR</th>\n",
       "      <td>Male</td>\n",
       "      <td>1</td>\n",
       "      <td>Yes</td>\n",
       "      <td>No</td>\n",
       "      <td>11</td>\n",
       "      <td>Yes</td>\n",
       "      <td>No</td>\n",
       "      <td>No internet service</td>\n",
       "      <td>No internet service</td>\n",
       "      <td>No internet service</td>\n",
       "      <td>No internet service</td>\n",
       "      <td>No internet service</td>\n",
       "      <td>No internet service</td>\n",
       "      <td>No</td>\n",
       "      <td>19.95</td>\n",
       "      <td>214.75</td>\n",
       "      <td>Yes</td>\n",
       "      <td>Month-to-month</td>\n",
       "      <td>None</td>\n",
       "      <td>Mailed check</td>\n",
       "    </tr>\n",
       "    <tr>\n",
       "      <th>1342-JPNKI</th>\n",
       "      <td>Male</td>\n",
       "      <td>0</td>\n",
       "      <td>No</td>\n",
       "      <td>No</td>\n",
       "      <td>10</td>\n",
       "      <td>Yes</td>\n",
       "      <td>Yes</td>\n",
       "      <td>No</td>\n",
       "      <td>No</td>\n",
       "      <td>No</td>\n",
       "      <td>No</td>\n",
       "      <td>Yes</td>\n",
       "      <td>No</td>\n",
       "      <td>Yes</td>\n",
       "      <td>86.05</td>\n",
       "      <td>834.10</td>\n",
       "      <td>Yes</td>\n",
       "      <td>Month-to-month</td>\n",
       "      <td>Fiber optic</td>\n",
       "      <td>Bank transfer (automatic)</td>\n",
       "    </tr>\n",
       "    <tr>\n",
       "      <th>3397-AVTKU</th>\n",
       "      <td>Male</td>\n",
       "      <td>0</td>\n",
       "      <td>No</td>\n",
       "      <td>No</td>\n",
       "      <td>43</td>\n",
       "      <td>Yes</td>\n",
       "      <td>No</td>\n",
       "      <td>No</td>\n",
       "      <td>Yes</td>\n",
       "      <td>No</td>\n",
       "      <td>No</td>\n",
       "      <td>No</td>\n",
       "      <td>Yes</td>\n",
       "      <td>Yes</td>\n",
       "      <td>60.00</td>\n",
       "      <td>2548.55</td>\n",
       "      <td>No</td>\n",
       "      <td>Two year</td>\n",
       "      <td>DSL</td>\n",
       "      <td>Electronic check</td>\n",
       "    </tr>\n",
       "  </tbody>\n",
       "</table>\n",
       "</div>"
      ],
      "text/plain": [
       "             gender  senior_citizen partner dependents  tenure phone_service  \\\n",
       "customer_id                                                                    \n",
       "4083-BFNYK   Female               1     Yes         No      38           Yes   \n",
       "5804-LEPIM   Female               1      No         No       2           Yes   \n",
       "4895-TMWIR     Male               1     Yes         No      11           Yes   \n",
       "1342-JPNKI     Male               0      No         No      10           Yes   \n",
       "3397-AVTKU     Male               0      No         No      43           Yes   \n",
       "\n",
       "            multiple_lines      online_security        online_backup  \\\n",
       "customer_id                                                            \n",
       "4083-BFNYK             Yes                  Yes                  Yes   \n",
       "5804-LEPIM              No                   No                   No   \n",
       "4895-TMWIR              No  No internet service  No internet service   \n",
       "1342-JPNKI             Yes                   No                   No   \n",
       "3397-AVTKU              No                   No                  Yes   \n",
       "\n",
       "               device_protection         tech_support         streaming_tv  \\\n",
       "customer_id                                                                  \n",
       "4083-BFNYK                    No                   No                   No   \n",
       "5804-LEPIM                    No                   No                   No   \n",
       "4895-TMWIR   No internet service  No internet service  No internet service   \n",
       "1342-JPNKI                    No                   No                  Yes   \n",
       "3397-AVTKU                    No                   No                   No   \n",
       "\n",
       "                streaming_movies paperless_billing  monthly_charges  \\\n",
       "customer_id                                                           \n",
       "4083-BFNYK                   Yes                No            95.00   \n",
       "5804-LEPIM                    No               Yes            70.35   \n",
       "4895-TMWIR   No internet service                No            19.95   \n",
       "1342-JPNKI                    No               Yes            86.05   \n",
       "3397-AVTKU                   Yes               Yes            60.00   \n",
       "\n",
       "             total_charges churn   contract_type internet_service_type  \\\n",
       "customer_id                                                              \n",
       "4083-BFNYK         3591.25    No        One year           Fiber optic   \n",
       "5804-LEPIM          139.05   Yes  Month-to-month           Fiber optic   \n",
       "4895-TMWIR          214.75   Yes  Month-to-month                  None   \n",
       "1342-JPNKI          834.10   Yes  Month-to-month           Fiber optic   \n",
       "3397-AVTKU         2548.55    No        Two year                   DSL   \n",
       "\n",
       "                          payment_type  \n",
       "customer_id                             \n",
       "4083-BFNYK     Credit card (automatic)  \n",
       "5804-LEPIM            Electronic check  \n",
       "4895-TMWIR                Mailed check  \n",
       "1342-JPNKI   Bank transfer (automatic)  \n",
       "3397-AVTKU            Electronic check  "
      ]
     },
     "execution_count": 14,
     "metadata": {},
     "output_type": "execute_result"
    }
   ],
   "source": [
    "train.head()"
   ]
  },
  {
   "cell_type": "code",
   "execution_count": 15,
   "id": "fdb97bd2-3986-4188-8a84-09b32525e6c2",
   "metadata": {
    "tags": []
   },
   "outputs": [
    {
     "data": {
      "text/plain": [
       "<bound method DataFrame.info of              gender  senior_citizen partner dependents  tenure phone_service  \\\n",
       "customer_id                                                                    \n",
       "4083-BFNYK   Female               1     Yes         No      38           Yes   \n",
       "5804-LEPIM   Female               1      No         No       2           Yes   \n",
       "4895-TMWIR     Male               1     Yes         No      11           Yes   \n",
       "1342-JPNKI     Male               0      No         No      10           Yes   \n",
       "3397-AVTKU     Male               0      No         No      43           Yes   \n",
       "...             ...             ...     ...        ...     ...           ...   \n",
       "1915-IOFGU   Female               0      No         No       1           Yes   \n",
       "7025-WCBNE     Male               1      No         No      47           Yes   \n",
       "9788-HNGUT     Male               0     Yes         No      72           Yes   \n",
       "5229-PRWKT     Male               0      No         No       8           Yes   \n",
       "7562-UXTPG   Female               0      No         No      13           Yes   \n",
       "\n",
       "            multiple_lines      online_security        online_backup  \\\n",
       "customer_id                                                            \n",
       "4083-BFNYK             Yes                  Yes                  Yes   \n",
       "5804-LEPIM              No                   No                   No   \n",
       "4895-TMWIR              No  No internet service  No internet service   \n",
       "1342-JPNKI             Yes                   No                   No   \n",
       "3397-AVTKU              No                   No                  Yes   \n",
       "...                    ...                  ...                  ...   \n",
       "1915-IOFGU              No                   No                   No   \n",
       "7025-WCBNE             Yes                   No                  Yes   \n",
       "9788-HNGUT             Yes                  Yes                  Yes   \n",
       "5229-PRWKT             Yes                   No                   No   \n",
       "7562-UXTPG              No                   No                   No   \n",
       "\n",
       "               device_protection         tech_support         streaming_tv  \\\n",
       "customer_id                                                                  \n",
       "4083-BFNYK                    No                   No                   No   \n",
       "5804-LEPIM                    No                   No                   No   \n",
       "4895-TMWIR   No internet service  No internet service  No internet service   \n",
       "1342-JPNKI                    No                   No                  Yes   \n",
       "3397-AVTKU                    No                   No                   No   \n",
       "...                          ...                  ...                  ...   \n",
       "1915-IOFGU                    No                   No                   No   \n",
       "7025-WCBNE                    No                  Yes                   No   \n",
       "9788-HNGUT                   Yes                  Yes                  Yes   \n",
       "5229-PRWKT                    No                   No                   No   \n",
       "7562-UXTPG                    No                   No                   No   \n",
       "\n",
       "                streaming_movies paperless_billing  monthly_charges  \\\n",
       "customer_id                                                           \n",
       "4083-BFNYK                   Yes                No            95.00   \n",
       "5804-LEPIM                    No               Yes            70.35   \n",
       "4895-TMWIR   No internet service                No            19.95   \n",
       "1342-JPNKI                    No               Yes            86.05   \n",
       "3397-AVTKU                   Yes               Yes            60.00   \n",
       "...                          ...               ...              ...   \n",
       "1915-IOFGU                    No                No            70.50   \n",
       "7025-WCBNE                    No                No            59.60   \n",
       "9788-HNGUT                   Yes               Yes           116.95   \n",
       "5229-PRWKT                   Yes               Yes            86.55   \n",
       "7562-UXTPG                    No               Yes            70.15   \n",
       "\n",
       "             total_charges churn   contract_type internet_service_type  \\\n",
       "customer_id                                                              \n",
       "4083-BFNYK         3591.25    No        One year           Fiber optic   \n",
       "5804-LEPIM          139.05   Yes  Month-to-month           Fiber optic   \n",
       "4895-TMWIR          214.75   Yes  Month-to-month                  None   \n",
       "1342-JPNKI          834.10   Yes  Month-to-month           Fiber optic   \n",
       "3397-AVTKU         2548.55    No        Two year                   DSL   \n",
       "...                    ...   ...             ...                   ...   \n",
       "1915-IOFGU           70.50   Yes  Month-to-month           Fiber optic   \n",
       "7025-WCBNE         2754.00    No        Two year                   DSL   \n",
       "9788-HNGUT         8594.40    No        Two year           Fiber optic   \n",
       "5229-PRWKT          649.65   Yes  Month-to-month           Fiber optic   \n",
       "7562-UXTPG          886.70    No  Month-to-month           Fiber optic   \n",
       "\n",
       "                          payment_type  \n",
       "customer_id                             \n",
       "4083-BFNYK     Credit card (automatic)  \n",
       "5804-LEPIM            Electronic check  \n",
       "4895-TMWIR                Mailed check  \n",
       "1342-JPNKI   Bank transfer (automatic)  \n",
       "3397-AVTKU            Electronic check  \n",
       "...                                ...  \n",
       "1915-IOFGU            Electronic check  \n",
       "7025-WCBNE   Bank transfer (automatic)  \n",
       "9788-HNGUT     Credit card (automatic)  \n",
       "5229-PRWKT            Electronic check  \n",
       "7562-UXTPG                Mailed check  \n",
       "\n",
       "[4225 rows x 20 columns]>"
      ]
     },
     "execution_count": 15,
     "metadata": {},
     "output_type": "execute_result"
    }
   ],
   "source": [
    "train.info"
   ]
  },
  {
   "cell_type": "markdown",
   "id": "9b276e8a-af81-4945-9bce-426e99d411ca",
   "metadata": {},
   "source": [
    "> Lets see how many customers are churning"
   ]
  },
  {
   "cell_type": "code",
   "execution_count": 16,
   "id": "cc310406-2e42-484d-9fa2-9add5747f5d1",
   "metadata": {
    "tags": []
   },
   "outputs": [
    {
     "data": {
      "text/plain": [
       "churn\n",
       "No     0.734675\n",
       "Yes    0.265325\n",
       "Name: proportion, dtype: float64"
      ]
     },
     "execution_count": 16,
     "metadata": {},
     "output_type": "execute_result"
    }
   ],
   "source": [
    "train.churn.value_counts(normalize=True)"
   ]
  },
  {
   "cell_type": "markdown",
   "id": "ab556b85-1721-4665-a861-d7e5090efc35",
   "metadata": {},
   "source": [
    "> We can see that 27% of customers have churned"
   ]
  },
  {
   "cell_type": "code",
   "execution_count": 17,
   "id": "81060c4f-0413-4341-9686-f30c5dcd9b80",
   "metadata": {
    "tags": []
   },
   "outputs": [],
   "source": [
    "def countplot_churn(train):\n",
    "    sns.countplot(data=train, x='churn', palette = 'prism');"
   ]
  },
  {
   "cell_type": "code",
   "execution_count": 18,
   "id": "9244847e-75cd-4b41-98b7-ae70a2b69862",
   "metadata": {
    "tags": []
   },
   "outputs": [
    {
     "data": {
      "image/png": "[encoded data removed]",
      "text/plain": [
       "<Figure size 640x480 with 1 Axes>"
      ]
     },
     "metadata": {},
     "output_type": "display_data"
    }
   ],
   "source": [
    "countplot_churn(train)"
   ]
  },
  {
   "cell_type": "markdown",
   "id": "f70157a2-f83d-4ae1-a1d6-ba0b377310f1",
   "metadata": {},
   "source": [
    "> Visualize to get a better view"
   ]
  },
  {
   "cell_type": "markdown",
   "id": "81dca28e-9ccb-4840-ad9f-e0ad671d8095",
   "metadata": {},
   "source": [
    "### Question 1 : Does being a senior citizen affect whether or not a customer churns?"
   ]
  },
  {
   "cell_type": "markdown",
   "id": "6d8347f8-9383-4a51-bdff-3ef819a93680",
   "metadata": {},
   "source": [
    "$H_o$ : There is NO relationship between being a senior citizen or not and a customer churning.\n",
    "\n",
    "$H_a$ : There is a relationship between someone being a senior citzien or not and a customer churning.\n"
   ]
  },
  {
   "cell_type": "code",
   "execution_count": 19,
   "id": "b8e5eb53-5db9-4401-8be7-a8e2f771a816",
   "metadata": {
    "tags": []
   },
   "outputs": [],
   "source": [
    "# before we start we have to set the confidence level or the alpha\n",
    "alpha = 0.05"
   ]
  },
  {
   "cell_type": "code",
   "execution_count": 20,
   "id": "2eae5d52-810a-4943-802e-13dbbf41f755",
   "metadata": {
    "tags": []
   },
   "outputs": [],
   "source": [
    "def barplot_senior_citizen(train):\n",
    "    sns.barplot(x = 'senior_citizen', y = 'churn', data = train, palette = 'prism');"
   ]
  },
  {
   "cell_type": "code",
   "execution_count": 21,
   "id": "1600137d-fa7b-48b2-9eca-c613fea2b4be",
   "metadata": {
    "tags": []
   },
   "outputs": [
    {
     "data": {
      "image/png": "[encoded data removed]",
      "text/plain": [
       "<Figure size 640x480 with 1 Axes>"
      ]
     },
     "metadata": {},
     "output_type": "display_data"
    }
   ],
   "source": [
    "barplot_senior_citizen(train)"
   ]
  },
  {
   "cell_type": "markdown",
   "id": "876af563-b83b-4eb5-8e5e-e86355c58f81",
   "metadata": {},
   "source": [
    "> As we can see, senior citizens have a higher churn rate than non senior citizens, so lets analyze that."
   ]
  },
  {
   "cell_type": "code",
   "execution_count": 22,
   "id": "fa834411-1ffa-4813-b894-bbba94759cdd",
   "metadata": {
    "tags": []
   },
   "outputs": [
    {
     "data": {
      "text/html": [
       "<div>\n",
       "<style scoped>\n",
       "    .dataframe tbody tr th:only-of-type {\n",
       "        vertical-align: middle;\n",
       "    }\n",
       "\n",
       "    .dataframe tbody tr th {\n",
       "        vertical-align: top;\n",
       "    }\n",
       "\n",
       "    .dataframe thead th {\n",
       "        text-align: right;\n",
       "    }\n",
       "</style>\n",
       "<table border=\"1\" class=\"dataframe\">\n",
       "  <thead>\n",
       "    <tr style=\"text-align: right;\">\n",
       "      <th>senior_citizen</th>\n",
       "      <th>0</th>\n",
       "      <th>1</th>\n",
       "    </tr>\n",
       "    <tr>\n",
       "      <th>churn</th>\n",
       "      <th></th>\n",
       "      <th></th>\n",
       "    </tr>\n",
       "  </thead>\n",
       "  <tbody>\n",
       "    <tr>\n",
       "      <th>No</th>\n",
       "      <td>2696</td>\n",
       "      <td>408</td>\n",
       "    </tr>\n",
       "    <tr>\n",
       "      <th>Yes</th>\n",
       "      <td>835</td>\n",
       "      <td>286</td>\n",
       "    </tr>\n",
       "  </tbody>\n",
       "</table>\n",
       "</div>"
      ],
      "text/plain": [
       "senior_citizen     0    1\n",
       "churn                    \n",
       "No              2696  408\n",
       "Yes              835  286"
      ]
     },
     "execution_count": 22,
     "metadata": {},
     "output_type": "execute_result"
    }
   ],
   "source": [
    "observed = pd.crosstab(train.churn, train.senior_citizen)\n",
    "observed"
   ]
  },
  {
   "cell_type": "markdown",
   "id": "18ded1e9-5061-4122-87e1-f2929011c9f8",
   "metadata": {},
   "source": [
    "> Chi2 is the test we want to use since we're working with 2 categorical variables"
   ]
  },
  {
   "cell_type": "code",
   "execution_count": 23,
   "id": "3e1d5aaf-54b3-4163-a05a-e214d167f2b7",
   "metadata": {
    "tags": []
   },
   "outputs": [],
   "source": [
    "# chi2 returns 4 variables\n",
    "chi2, p, dof, expected = stats.chi2_contingency(observed)"
   ]
  },
  {
   "cell_type": "code",
   "execution_count": 24,
   "id": "fba39ef0-44b7-4f56-a0df-b315b37592f1",
   "metadata": {
    "tags": []
   },
   "outputs": [
    {
     "data": {
      "text/plain": [
       "1.5271938515844278e-21"
      ]
     },
     "execution_count": 24,
     "metadata": {},
     "output_type": "execute_result"
    }
   ],
   "source": [
    "p"
   ]
  },
  {
   "cell_type": "code",
   "execution_count": 25,
   "id": "de1c417f-0523-4624-8ff1-17a5053e73fa",
   "metadata": {
    "tags": []
   },
   "outputs": [],
   "source": [
    "def chi2_senior_citizen(train):\n",
    "    '''\n",
    "    Performs a chi-squared test for independence between senior_ citizen and churn.\n",
    "    '''\n",
    "    observed = pd.crosstab(train.churn, train.senior_citizen)\n",
    "    alpha = 0.05\n",
    "    chi2, p, dof, expected = stats.chi2_contingency(observed)\n",
    "    print(f'p-value: {p}')\n",
    "    if p < alpha:\n",
    "        print('We can reject our null hypothesis and say that there is a relationship between being a senior citizen and churning')\n",
    "    else:\n",
    "        print('We fail to reject our null hypothesis and say that there is NO relationship between being a senior citizen and churning')\n"
   ]
  },
  {
   "cell_type": "code",
   "execution_count": 26,
   "id": "4c86b372-8126-48a4-8b44-b5bbaed54a81",
   "metadata": {
    "tags": []
   },
   "outputs": [
    {
     "name": "stdout",
     "output_type": "stream",
     "text": [
      "p-value: 1.5271938515844278e-21\n",
      "We can reject our null hypothesis and say that there is a relationship between being a senior citizen and churning\n"
     ]
    }
   ],
   "source": [
    "chi2_senior_citizen(train)"
   ]
  },
  {
   "cell_type": "markdown",
   "id": "475f2e29-f143-4051-a66d-f1f75e2e4b55",
   "metadata": {},
   "source": [
    "### Summarize "
   ]
  },
  {
   "cell_type": "markdown",
   "id": "ab71efcc-c7a1-4aa1-9f8b-e0c04e766ec8",
   "metadata": {
    "tags": []
   },
   "source": [
    "There is a relationship between being a senior citizen and churning."
   ]
  },
  {
   "cell_type": "markdown",
   "id": "cdfc7e78-ff0b-4de2-aa8b-f4bcdfd46ab9",
   "metadata": {},
   "source": [
    "### Question 2: Is there a relationship between being female and churn?"
   ]
  },
  {
   "cell_type": "code",
   "execution_count": 27,
   "id": "24e038c5-77bb-48ad-94d4-43dc7df74433",
   "metadata": {
    "tags": []
   },
   "outputs": [],
   "source": [
    "def countplot_gender(train):\n",
    "    sns.countplot(x=\"gender\", hue=\"churn\", data=train, palette = 'prism')"
   ]
  },
  {
   "cell_type": "code",
   "execution_count": 28,
   "id": "fd6e0666-b8c1-458d-87c8-5e152d92b001",
   "metadata": {
    "tags": []
   },
   "outputs": [
    {
     "data": {
      "image/png": "[encoded data removed]",
      "text/plain": [
       "<Figure size 640x480 with 1 Axes>"
      ]
     },
     "metadata": {},
     "output_type": "display_data"
    }
   ],
   "source": [
    "countplot_gender(train)"
   ]
  },
  {
   "cell_type": "markdown",
   "id": "00eb042f-c588-4e18-81e4-93d776c4aa47",
   "metadata": {},
   "source": [
    "$H_o$ : There is NO relationship between contract type and churn\n",
    "\n",
    "$H_a$: There is a relationship between contract type and churn"
   ]
  },
  {
   "cell_type": "code",
   "execution_count": 29,
   "id": "165764d3-c758-42ac-a928-3b733dfff0af",
   "metadata": {
    "tags": []
   },
   "outputs": [],
   "source": [
    "alpha = 0.05"
   ]
  },
  {
   "cell_type": "code",
   "execution_count": 30,
   "id": "00d6e73f-4695-4f9a-96fe-54a5d7813f54",
   "metadata": {
    "tags": []
   },
   "outputs": [
    {
     "data": {
      "text/html": [
       "<div>\n",
       "<style scoped>\n",
       "    .dataframe tbody tr th:only-of-type {\n",
       "        vertical-align: middle;\n",
       "    }\n",
       "\n",
       "    .dataframe tbody tr th {\n",
       "        vertical-align: top;\n",
       "    }\n",
       "\n",
       "    .dataframe thead th {\n",
       "        text-align: right;\n",
       "    }\n",
       "</style>\n",
       "<table border=\"1\" class=\"dataframe\">\n",
       "  <thead>\n",
       "    <tr style=\"text-align: right;\">\n",
       "      <th>churn</th>\n",
       "      <th>No</th>\n",
       "      <th>Yes</th>\n",
       "    </tr>\n",
       "    <tr>\n",
       "      <th>gender</th>\n",
       "      <th></th>\n",
       "      <th></th>\n",
       "    </tr>\n",
       "  </thead>\n",
       "  <tbody>\n",
       "    <tr>\n",
       "      <th>Female</th>\n",
       "      <td>1550</td>\n",
       "      <td>559</td>\n",
       "    </tr>\n",
       "    <tr>\n",
       "      <th>Male</th>\n",
       "      <td>1554</td>\n",
       "      <td>562</td>\n",
       "    </tr>\n",
       "  </tbody>\n",
       "</table>\n",
       "</div>"
      ],
      "text/plain": [
       "churn     No  Yes\n",
       "gender           \n",
       "Female  1550  559\n",
       "Male    1554  562"
      ]
     },
     "execution_count": 30,
     "metadata": {},
     "output_type": "execute_result"
    }
   ],
   "source": [
    "observed = pd.crosstab(train.gender, train.churn)\n",
    "observed"
   ]
  },
  {
   "cell_type": "code",
   "execution_count": 31,
   "id": "56777b2e-be9a-426c-bbc5-4401e5038c41",
   "metadata": {
    "tags": []
   },
   "outputs": [
    {
     "data": {
      "text/html": [
       "<div>\n",
       "<style scoped>\n",
       "    .dataframe tbody tr th:only-of-type {\n",
       "        vertical-align: middle;\n",
       "    }\n",
       "\n",
       "    .dataframe tbody tr th {\n",
       "        vertical-align: top;\n",
       "    }\n",
       "\n",
       "    .dataframe thead th {\n",
       "        text-align: right;\n",
       "    }\n",
       "</style>\n",
       "<table border=\"1\" class=\"dataframe\">\n",
       "  <thead>\n",
       "    <tr style=\"text-align: right;\">\n",
       "      <th>churn</th>\n",
       "      <th>No</th>\n",
       "      <th>Yes</th>\n",
       "    </tr>\n",
       "    <tr>\n",
       "      <th>gender</th>\n",
       "      <th></th>\n",
       "      <th></th>\n",
       "    </tr>\n",
       "  </thead>\n",
       "  <tbody>\n",
       "    <tr>\n",
       "      <th>Female</th>\n",
       "      <td>0.734945</td>\n",
       "      <td>0.265055</td>\n",
       "    </tr>\n",
       "    <tr>\n",
       "      <th>Male</th>\n",
       "      <td>0.734405</td>\n",
       "      <td>0.265595</td>\n",
       "    </tr>\n",
       "  </tbody>\n",
       "</table>\n",
       "</div>"
      ],
      "text/plain": [
       "churn         No       Yes\n",
       "gender                    \n",
       "Female  0.734945  0.265055\n",
       "Male    0.734405  0.265595"
      ]
     },
     "execution_count": 31,
     "metadata": {},
     "output_type": "execute_result"
    }
   ],
   "source": [
    "pd.crosstab(train.gender, train.churn, normalize='index')"
   ]
  },
  {
   "cell_type": "markdown",
   "id": "931a5ad1-bba0-4caf-accc-30126185a509",
   "metadata": {},
   "source": [
    "> Another chi2 test since they're categorical values"
   ]
  },
  {
   "cell_type": "code",
   "execution_count": 32,
   "id": "22a80da8-08bd-49c4-b22c-667b709a55ca",
   "metadata": {
    "tags": []
   },
   "outputs": [],
   "source": [
    "def chi2_gender(train):\n",
    "    observed = pd.crosstab(train.gender, train.churn)\n",
    "    alpha = 0.05\n",
    "    chi2, p, dof, expected = stats.chi2_contingency(observed)\n",
    "    print(f'p-value: {p}')\n",
    "    if p < alpha:\n",
    "        print('We can reject our null hypothesis and say that there is a relationship between being a female and churn')\n",
    "    else:\n",
    "        print('We fail to reject our null hypothesis and say that there is NO relationship between being a female and churn')"
   ]
  },
  {
   "cell_type": "code",
   "execution_count": 33,
   "id": "1c09d52d-0977-4366-83a8-7926a0c859ee",
   "metadata": {
    "tags": []
   },
   "outputs": [
    {
     "name": "stdout",
     "output_type": "stream",
     "text": [
      "p-value: 0.996031931504371\n",
      "We fail to reject our null hypothesis and say that there is NO relationship between being a female and churn\n"
     ]
    }
   ],
   "source": [
    "chi2_gender(train)"
   ]
  },
  {
   "cell_type": "markdown",
   "id": "5b31b08e-90c7-4fd8-93b7-04155ffdff5c",
   "metadata": {
    "tags": []
   },
   "source": [
    "### Summarize"
   ]
  },
  {
   "cell_type": "markdown",
   "id": "cf98627f-6b9e-45e9-8d90-6ebd28a3c5cd",
   "metadata": {},
   "source": [
    "There is no relationship between being a female and churn."
   ]
  },
  {
   "cell_type": "markdown",
   "id": "4194b059-82ed-49bf-91f9-279bca9fd692",
   "metadata": {},
   "source": [
    "## Question 3: Does monthly charges affect churn?"
   ]
  },
  {
   "cell_type": "markdown",
   "id": "4b350ce7-8203-4208-98e9-b9f480f7ff8b",
   "metadata": {},
   "source": [
    "My null and alternative hypothesis\n",
    "\n",
    "$H_o$ : There is NO relationship between monthly charges and churn.\n",
    "\n",
    "$H_a$: There IS a relationship between monthly charges and churn."
   ]
  },
  {
   "cell_type": "code",
   "execution_count": 34,
   "id": "e1e01cd1-7f14-40e3-b15d-f1ecc576da33",
   "metadata": {
    "tags": []
   },
   "outputs": [],
   "source": [
    "# set the alpha\n",
    "alpha = 0.05"
   ]
  },
  {
   "cell_type": "code",
   "execution_count": 35,
   "id": "f5671a6d-0bf0-4214-93d3-fd7c7aa7026f",
   "metadata": {
    "tags": []
   },
   "outputs": [],
   "source": [
    "# Visualize\n",
    "\n",
    "def boxplot_monthly_charges(train):\n",
    "    sns.boxplot(data=train, y='monthly_charges', x='churn', palette = 'prism')\n",
    "    plt.title('Do customers that churn pay more per month?')\n",
    "    plt.show()"
   ]
  },
  {
   "cell_type": "code",
   "execution_count": 36,
   "id": "a1954dd8-6f09-48f8-a7af-078442d482b9",
   "metadata": {
    "tags": []
   },
   "outputs": [
    {
     "data": {
      "image/png": "[encoded data removed]",
      "text/plain": [
       "<Figure size 640x480 with 1 Axes>"
      ]
     },
     "metadata": {},
     "output_type": "display_data"
    }
   ],
   "source": [
    "boxplot_monthly_charges(train)"
   ]
  },
  {
   "cell_type": "markdown",
   "id": "bd1a90f1-3046-41ff-a3ef-9b7934866fd8",
   "metadata": {
    "tags": []
   },
   "source": [
    "> The median monthly charge is higher for customers that churned compared to the customers that have not churned."
   ]
  },
  {
   "cell_type": "markdown",
   "id": "fcd8d050-6519-4be7-95cf-67db86ac4db2",
   "metadata": {},
   "source": [
    "# Stats test time\n",
    "\n",
    "$H_o$ : There is NO relationship between monthly charges and churn\n",
    "\n",
    "$H_a$ : There IS a relationship between monthly charges and churn"
   ]
  },
  {
   "cell_type": "code",
   "execution_count": 37,
   "id": "8ee9b5a2-c36a-4746-95e4-5c3fdf13022e",
   "metadata": {
    "tags": []
   },
   "outputs": [],
   "source": [
    "churn = train[train.churn == 'Yes'].monthly_charges"
   ]
  },
  {
   "cell_type": "code",
   "execution_count": 38,
   "id": "0b6ceeb7-4628-4cb1-9ba7-d4d2339d33af",
   "metadata": {
    "tags": []
   },
   "outputs": [],
   "source": [
    "no_churn = train[train.churn == 'No'].monthly_charges"
   ]
  },
  {
   "cell_type": "code",
   "execution_count": 39,
   "id": "11472539-3c58-45e9-8e80-4ce2d78dd28f",
   "metadata": {
    "tags": []
   },
   "outputs": [],
   "source": [
    "# using a two sample t-test\n",
    "t, p = stats.ttest_ind(churn, no_churn)"
   ]
  },
  {
   "cell_type": "code",
   "execution_count": 40,
   "id": "5b0b334d-4afa-4359-8c52-66dc9341f176",
   "metadata": {
    "tags": []
   },
   "outputs": [
    {
     "data": {
      "text/plain": [
       "5.279235952338065e-34"
      ]
     },
     "execution_count": 40,
     "metadata": {},
     "output_type": "execute_result"
    }
   ],
   "source": [
    "p"
   ]
  },
  {
   "cell_type": "code",
   "execution_count": 41,
   "id": "862caaba-e402-4f1b-b930-b7ea47d9421e",
   "metadata": {
    "tags": []
   },
   "outputs": [
    {
     "name": "stdout",
     "output_type": "stream",
     "text": [
      "We reject the null hypothesis\n"
     ]
    }
   ],
   "source": [
    "if p < .05:\n",
    "    print(\"We reject the null hypothesis\")\n",
    "else:\n",
    "    print(\"We fail to reject the null hypothesis\")"
   ]
  },
  {
   "cell_type": "code",
   "execution_count": 42,
   "id": "8a445344-27a9-4b0f-be16-2c57512d11f2",
   "metadata": {
    "tags": []
   },
   "outputs": [],
   "source": [
    "def ttest_monthly_charges(train):\n",
    "    churn = train[train.churn == 'Yes'].monthly_charges\n",
    "    no_churn = train[train.churn == 'No'].monthly_charges\n",
    "    t, p = stats.ttest_ind(churn, no_churn)\n",
    "    print(f'p-value: {p}')\n",
    "    if p < .05:\n",
    "        print(\"We reject the null hypothesis\")\n",
    "    else:\n",
    "        print(\"We fail to reject the null hypothesis\")"
   ]
  },
  {
   "cell_type": "code",
   "execution_count": 43,
   "id": "3798832e-8016-4a49-8f78-1a5d2c40b213",
   "metadata": {
    "tags": []
   },
   "outputs": [
    {
     "name": "stdout",
     "output_type": "stream",
     "text": [
      "p-value: 5.279235952338065e-34\n",
      "We reject the null hypothesis\n"
     ]
    }
   ],
   "source": [
    "ttest_monthly_charges(train)"
   ]
  },
  {
   "cell_type": "markdown",
   "id": "c1180fe8-1c44-4cec-8ef9-0654a92e7d06",
   "metadata": {},
   "source": [
    "### Summarize "
   ]
  },
  {
   "cell_type": "markdown",
   "id": "c76bfc36-d991-4445-baed-eaac01b46c26",
   "metadata": {},
   "source": [
    "We can conclude that monthly charges does affect churn."
   ]
  },
  {
   "cell_type": "markdown",
   "id": "136d2a88-cc98-4f51-81b8-422038fbe32a",
   "metadata": {},
   "source": [
    "### Question 4: Does having dependents affect churn?"
   ]
  },
  {
   "cell_type": "markdown",
   "id": "28d0897e-2241-48c1-9773-6af0371dd33d",
   "metadata": {},
   "source": [
    "My null and alternative hypothesis\n",
    "\n",
    "$H_o$ : There is NO relationship between having dependents and churn.\n",
    "\n",
    "$H_a$: There IS a relationship between dependents and churn."
   ]
  },
  {
   "cell_type": "code",
   "execution_count": 44,
   "id": "52d2d13e-52eb-4380-ab74-5b39cdd47fcf",
   "metadata": {
    "tags": []
   },
   "outputs": [],
   "source": [
    "alpha = 0.05"
   ]
  },
  {
   "cell_type": "code",
   "execution_count": 45,
   "id": "8180e74d-d444-4877-99aa-9f7fcb3ebabd",
   "metadata": {
    "tags": []
   },
   "outputs": [],
   "source": [
    "def countplot_dependents(train):\n",
    "    sns.countplot(data=train, x='dependents', hue='churn', palette = 'prism')\n",
    "    plt.title('Does having dependents affect churn')\n",
    "    plt.show();"
   ]
  },
  {
   "cell_type": "code",
   "execution_count": 46,
   "id": "2e838a26-674d-4ac8-af66-f6c26881126e",
   "metadata": {
    "tags": []
   },
   "outputs": [
    {
     "data": {
      "image/png": "[encoded data removed]",
      "text/plain": [
       "<Figure size 640x480 with 1 Axes>"
      ]
     },
     "metadata": {},
     "output_type": "display_data"
    }
   ],
   "source": [
    "countplot_dependents(train)"
   ]
  },
  {
   "cell_type": "code",
   "execution_count": 47,
   "id": "4803ed6c-20eb-4b46-a6fa-d1d2f8db2930",
   "metadata": {
    "tags": []
   },
   "outputs": [
    {
     "data": {
      "text/html": [
       "<div>\n",
       "<style scoped>\n",
       "    .dataframe tbody tr th:only-of-type {\n",
       "        vertical-align: middle;\n",
       "    }\n",
       "\n",
       "    .dataframe tbody tr th {\n",
       "        vertical-align: top;\n",
       "    }\n",
       "\n",
       "    .dataframe thead th {\n",
       "        text-align: right;\n",
       "    }\n",
       "</style>\n",
       "<table border=\"1\" class=\"dataframe\">\n",
       "  <thead>\n",
       "    <tr style=\"text-align: right;\">\n",
       "      <th>churn</th>\n",
       "      <th>No</th>\n",
       "      <th>Yes</th>\n",
       "    </tr>\n",
       "    <tr>\n",
       "      <th>dependents</th>\n",
       "      <th></th>\n",
       "      <th></th>\n",
       "    </tr>\n",
       "  </thead>\n",
       "  <tbody>\n",
       "    <tr>\n",
       "      <th>No</th>\n",
       "      <td>2042</td>\n",
       "      <td>919</td>\n",
       "    </tr>\n",
       "    <tr>\n",
       "      <th>Yes</th>\n",
       "      <td>1062</td>\n",
       "      <td>202</td>\n",
       "    </tr>\n",
       "  </tbody>\n",
       "</table>\n",
       "</div>"
      ],
      "text/plain": [
       "churn         No  Yes\n",
       "dependents           \n",
       "No          2042  919\n",
       "Yes         1062  202"
      ]
     },
     "execution_count": 47,
     "metadata": {},
     "output_type": "execute_result"
    }
   ],
   "source": [
    "observed = pd.crosstab(train.dependents, train.churn)\n",
    "observed"
   ]
  },
  {
   "cell_type": "code",
   "execution_count": 48,
   "id": "75740d60-94fb-413d-bba0-32c9eb7e0929",
   "metadata": {
    "tags": []
   },
   "outputs": [],
   "source": [
    "chi2, p, dof, expected = stats.chi2_contingency(observed)"
   ]
  },
  {
   "cell_type": "code",
   "execution_count": 49,
   "id": "45fac50d-52c9-447a-b7ad-baaad77844ef",
   "metadata": {
    "tags": []
   },
   "outputs": [],
   "source": [
    "def chi2_dependents(train):\n",
    "    observed = pd.crosstab(train.contract_type, train.churn)\n",
    "    alpha = 0.05\n",
    "    chi2, p, dof, expected = stats.chi2_contingency(observed)\n",
    "    print(f'p-value: {p}')\n",
    "    if p < alpha:\n",
    "        print('We can reject our null hypothesis and say that there is a relationship between dependents and churn')\n",
    "    else:\n",
    "        print('We fail to reject our null hypothesis and say that there is NO relationship between dependents and churn')"
   ]
  },
  {
   "cell_type": "code",
   "execution_count": 50,
   "id": "aa624890-4bf6-4d76-aa1f-e40c2bd4f346",
   "metadata": {
    "tags": []
   },
   "outputs": [
    {
     "name": "stdout",
     "output_type": "stream",
     "text": [
      "p-value: 8.298049251133243e-156\n",
      "We can reject our null hypothesis and say that there is a relationship between dependents and churn\n"
     ]
    }
   ],
   "source": [
    "chi2_dependents(train)"
   ]
  },
  {
   "cell_type": "markdown",
   "id": "e9fc9627-9c5e-4c2c-b150-6334e8600331",
   "metadata": {
    "tags": []
   },
   "source": [
    "#### Moving forward"
   ]
  },
  {
   "cell_type": "markdown",
   "id": "b8add68f-f42a-4d08-9990-5b2a60c197ee",
   "metadata": {
    "tags": []
   },
   "source": [
    "> The features I will be moving forward with are senior citizens, monthly contracts, and dependents. "
   ]
  },
  {
   "cell_type": "markdown",
   "id": "fa3de29a-47bc-452b-a493-a4f2b830b197",
   "metadata": {},
   "source": [
    "### Modeling"
   ]
  },
  {
   "cell_type": "code",
   "execution_count": 51,
   "id": "65d9560c-d999-4822-b775-bb28f557743d",
   "metadata": {
    "tags": []
   },
   "outputs": [
    {
     "data": {
      "text/plain": [
       "churn\n",
       "No     0.734675\n",
       "Yes    0.265325\n",
       "Name: proportion, dtype: float64"
      ]
     },
     "execution_count": 51,
     "metadata": {},
     "output_type": "execute_result"
    }
   ],
   "source": [
    "# Get the baseline\n",
    "train.churn.value_counts(normalize=True)"
   ]
  },
  {
   "cell_type": "markdown",
   "id": "24e9b923-57e2-4304-a16c-f673e85d2c43",
   "metadata": {},
   "source": [
    "> baseline accuracy is 73%"
   ]
  },
  {
   "cell_type": "code",
   "execution_count": 52,
   "id": "ce94f51f-65e7-4469-9541-17763d00452b",
   "metadata": {
    "tags": []
   },
   "outputs": [],
   "source": [
    "### Time to encode\n",
    "\n",
    "train_encoded, validate_encoded, test_encoded = prepare.preprocess_telco(train, validate, test)"
   ]
  },
  {
   "cell_type": "code",
   "execution_count": 53,
   "id": "e8ea0f9b-30da-4131-b0b4-d281daa09b77",
   "metadata": {
    "tags": []
   },
   "outputs": [
    {
     "data": {
      "text/html": [
       "<div>\n",
       "<style scoped>\n",
       "    .dataframe tbody tr th:only-of-type {\n",
       "        vertical-align: middle;\n",
       "    }\n",
       "\n",
       "    .dataframe tbody tr th {\n",
       "        vertical-align: top;\n",
       "    }\n",
       "\n",
       "    .dataframe thead th {\n",
       "        text-align: right;\n",
       "    }\n",
       "</style>\n",
       "<table border=\"1\" class=\"dataframe\">\n",
       "  <thead>\n",
       "    <tr style=\"text-align: right;\">\n",
       "      <th></th>\n",
       "      <th>senior_citizen</th>\n",
       "      <th>tenure</th>\n",
       "      <th>monthly_charges</th>\n",
       "      <th>total_charges</th>\n",
       "      <th>gender_Male</th>\n",
       "      <th>partner_Yes</th>\n",
       "      <th>dependents_Yes</th>\n",
       "      <th>phone_service_Yes</th>\n",
       "      <th>multiple_lines_No phone service</th>\n",
       "      <th>multiple_lines_Yes</th>\n",
       "      <th>...</th>\n",
       "      <th>streaming_movies_Yes</th>\n",
       "      <th>paperless_billing_Yes</th>\n",
       "      <th>churn_Yes</th>\n",
       "      <th>contract_type_One year</th>\n",
       "      <th>contract_type_Two year</th>\n",
       "      <th>internet_service_type_Fiber optic</th>\n",
       "      <th>internet_service_type_None</th>\n",
       "      <th>payment_type_Credit card (automatic)</th>\n",
       "      <th>payment_type_Electronic check</th>\n",
       "      <th>payment_type_Mailed check</th>\n",
       "    </tr>\n",
       "    <tr>\n",
       "      <th>customer_id</th>\n",
       "      <th></th>\n",
       "      <th></th>\n",
       "      <th></th>\n",
       "      <th></th>\n",
       "      <th></th>\n",
       "      <th></th>\n",
       "      <th></th>\n",
       "      <th></th>\n",
       "      <th></th>\n",
       "      <th></th>\n",
       "      <th></th>\n",
       "      <th></th>\n",
       "      <th></th>\n",
       "      <th></th>\n",
       "      <th></th>\n",
       "      <th></th>\n",
       "      <th></th>\n",
       "      <th></th>\n",
       "      <th></th>\n",
       "      <th></th>\n",
       "      <th></th>\n",
       "    </tr>\n",
       "  </thead>\n",
       "  <tbody>\n",
       "    <tr>\n",
       "      <th>4083-BFNYK</th>\n",
       "      <td>1</td>\n",
       "      <td>38</td>\n",
       "      <td>95.00</td>\n",
       "      <td>3591.25</td>\n",
       "      <td>0</td>\n",
       "      <td>1</td>\n",
       "      <td>0</td>\n",
       "      <td>1</td>\n",
       "      <td>0</td>\n",
       "      <td>1</td>\n",
       "      <td>...</td>\n",
       "      <td>1</td>\n",
       "      <td>0</td>\n",
       "      <td>0</td>\n",
       "      <td>1</td>\n",
       "      <td>0</td>\n",
       "      <td>1</td>\n",
       "      <td>0</td>\n",
       "      <td>1</td>\n",
       "      <td>0</td>\n",
       "      <td>0</td>\n",
       "    </tr>\n",
       "    <tr>\n",
       "      <th>5804-LEPIM</th>\n",
       "      <td>1</td>\n",
       "      <td>2</td>\n",
       "      <td>70.35</td>\n",
       "      <td>139.05</td>\n",
       "      <td>0</td>\n",
       "      <td>0</td>\n",
       "      <td>0</td>\n",
       "      <td>1</td>\n",
       "      <td>0</td>\n",
       "      <td>0</td>\n",
       "      <td>...</td>\n",
       "      <td>0</td>\n",
       "      <td>1</td>\n",
       "      <td>1</td>\n",
       "      <td>0</td>\n",
       "      <td>0</td>\n",
       "      <td>1</td>\n",
       "      <td>0</td>\n",
       "      <td>0</td>\n",
       "      <td>1</td>\n",
       "      <td>0</td>\n",
       "    </tr>\n",
       "    <tr>\n",
       "      <th>4895-TMWIR</th>\n",
       "      <td>1</td>\n",
       "      <td>11</td>\n",
       "      <td>19.95</td>\n",
       "      <td>214.75</td>\n",
       "      <td>1</td>\n",
       "      <td>1</td>\n",
       "      <td>0</td>\n",
       "      <td>1</td>\n",
       "      <td>0</td>\n",
       "      <td>0</td>\n",
       "      <td>...</td>\n",
       "      <td>0</td>\n",
       "      <td>0</td>\n",
       "      <td>1</td>\n",
       "      <td>0</td>\n",
       "      <td>0</td>\n",
       "      <td>0</td>\n",
       "      <td>1</td>\n",
       "      <td>0</td>\n",
       "      <td>0</td>\n",
       "      <td>1</td>\n",
       "    </tr>\n",
       "    <tr>\n",
       "      <th>1342-JPNKI</th>\n",
       "      <td>0</td>\n",
       "      <td>10</td>\n",
       "      <td>86.05</td>\n",
       "      <td>834.10</td>\n",
       "      <td>1</td>\n",
       "      <td>0</td>\n",
       "      <td>0</td>\n",
       "      <td>1</td>\n",
       "      <td>0</td>\n",
       "      <td>1</td>\n",
       "      <td>...</td>\n",
       "      <td>0</td>\n",
       "      <td>1</td>\n",
       "      <td>1</td>\n",
       "      <td>0</td>\n",
       "      <td>0</td>\n",
       "      <td>1</td>\n",
       "      <td>0</td>\n",
       "      <td>0</td>\n",
       "      <td>0</td>\n",
       "      <td>0</td>\n",
       "    </tr>\n",
       "    <tr>\n",
       "      <th>3397-AVTKU</th>\n",
       "      <td>0</td>\n",
       "      <td>43</td>\n",
       "      <td>60.00</td>\n",
       "      <td>2548.55</td>\n",
       "      <td>1</td>\n",
       "      <td>0</td>\n",
       "      <td>0</td>\n",
       "      <td>1</td>\n",
       "      <td>0</td>\n",
       "      <td>0</td>\n",
       "      <td>...</td>\n",
       "      <td>1</td>\n",
       "      <td>1</td>\n",
       "      <td>0</td>\n",
       "      <td>0</td>\n",
       "      <td>1</td>\n",
       "      <td>0</td>\n",
       "      <td>0</td>\n",
       "      <td>0</td>\n",
       "      <td>1</td>\n",
       "      <td>0</td>\n",
       "    </tr>\n",
       "  </tbody>\n",
       "</table>\n",
       "<p>5 rows × 31 columns</p>\n",
       "</div>"
      ],
      "text/plain": [
       "             senior_citizen  tenure  monthly_charges  total_charges  \\\n",
       "customer_id                                                           \n",
       "4083-BFNYK                1      38            95.00        3591.25   \n",
       "5804-LEPIM                1       2            70.35         139.05   \n",
       "4895-TMWIR                1      11            19.95         214.75   \n",
       "1342-JPNKI                0      10            86.05         834.10   \n",
       "3397-AVTKU                0      43            60.00        2548.55   \n",
       "\n",
       "             gender_Male  partner_Yes  dependents_Yes  phone_service_Yes  \\\n",
       "customer_id                                                                \n",
       "4083-BFNYK             0            1               0                  1   \n",
       "5804-LEPIM             0            0               0                  1   \n",
       "4895-TMWIR             1            1               0                  1   \n",
       "1342-JPNKI             1            0               0                  1   \n",
       "3397-AVTKU             1            0               0                  1   \n",
       "\n",
       "             multiple_lines_No phone service  multiple_lines_Yes  ...  \\\n",
       "customer_id                                                       ...   \n",
       "4083-BFNYK                                 0                   1  ...   \n",
       "5804-LEPIM                                 0                   0  ...   \n",
       "4895-TMWIR                                 0                   0  ...   \n",
       "1342-JPNKI                                 0                   1  ...   \n",
       "3397-AVTKU                                 0                   0  ...   \n",
       "\n",
       "             streaming_movies_Yes  paperless_billing_Yes  churn_Yes  \\\n",
       "customer_id                                                           \n",
       "4083-BFNYK                      1                      0          0   \n",
       "5804-LEPIM                      0                      1          1   \n",
       "4895-TMWIR                      0                      0          1   \n",
       "1342-JPNKI                      0                      1          1   \n",
       "3397-AVTKU                      1                      1          0   \n",
       "\n",
       "             contract_type_One year  contract_type_Two year  \\\n",
       "customer_id                                                   \n",
       "4083-BFNYK                        1                       0   \n",
       "5804-LEPIM                        0                       0   \n",
       "4895-TMWIR                        0                       0   \n",
       "1342-JPNKI                        0                       0   \n",
       "3397-AVTKU                        0                       1   \n",
       "\n",
       "             internet_service_type_Fiber optic  internet_service_type_None  \\\n",
       "customer_id                                                                  \n",
       "4083-BFNYK                                   1                           0   \n",
       "5804-LEPIM                                   1                           0   \n",
       "4895-TMWIR                                   0                           1   \n",
       "1342-JPNKI                                   1                           0   \n",
       "3397-AVTKU                                   0                           0   \n",
       "\n",
       "             payment_type_Credit card (automatic)  \\\n",
       "customer_id                                         \n",
       "4083-BFNYK                                      1   \n",
       "5804-LEPIM                                      0   \n",
       "4895-TMWIR                                      0   \n",
       "1342-JPNKI                                      0   \n",
       "3397-AVTKU                                      0   \n",
       "\n",
       "             payment_type_Electronic check  payment_type_Mailed check  \n",
       "customer_id                                                            \n",
       "4083-BFNYK                               0                          0  \n",
       "5804-LEPIM                               1                          0  \n",
       "4895-TMWIR                               0                          1  \n",
       "1342-JPNKI                               0                          0  \n",
       "3397-AVTKU                               1                          0  \n",
       "\n",
       "[5 rows x 31 columns]"
      ]
     },
     "execution_count": 53,
     "metadata": {},
     "output_type": "execute_result"
    }
   ],
   "source": [
    "train_encoded.head()"
   ]
  },
  {
   "cell_type": "markdown",
   "id": "d9eef2e0-34b5-472f-b099-e174ac6450a5",
   "metadata": {},
   "source": [
    "##### Define X and y"
   ]
  },
  {
   "cell_type": "code",
   "execution_count": 54,
   "id": "d33d3ddc-61d8-46d2-b3ef-262c148de799",
   "metadata": {
    "tags": []
   },
   "outputs": [],
   "source": [
    "# Determine X (also means determine the features)\n",
    "\n",
    "X_train = train_encoded.drop(columns='churn_Yes')\n",
    "X_validate = validate_encoded.drop(columns='churn_Yes')\n",
    "X_test = test_encoded.drop(columns='churn_Yes')"
   ]
  },
  {
   "cell_type": "code",
   "execution_count": 55,
   "id": "6aa23f79-024b-4cbc-a2ff-cdf9014b4f20",
   "metadata": {
    "tags": []
   },
   "outputs": [],
   "source": [
    "# Determine y (also mean determine the target variable)\n",
    "\n",
    "y_train = train_encoded.churn_Yes\n",
    "y_validate = validate_encoded.churn_Yes\n",
    "y_test = test_encoded.churn_Yes"
   ]
  },
  {
   "cell_type": "markdown",
   "id": "6d15e17b-98d9-472c-adff-be4b6b5116ab",
   "metadata": {
    "tags": []
   },
   "source": [
    "### Let's start with Logistic Regression"
   ]
  },
  {
   "cell_type": "code",
   "execution_count": 56,
   "id": "fcdce84c-25c7-4eac-9342-ded818f5b483",
   "metadata": {
    "tags": []
   },
   "outputs": [
    {
     "data": {
      "text/html": [
       "<div>\n",
       "<style scoped>\n",
       "    .dataframe tbody tr th:only-of-type {\n",
       "        vertical-align: middle;\n",
       "    }\n",
       "\n",
       "    .dataframe tbody tr th {\n",
       "        vertical-align: top;\n",
       "    }\n",
       "\n",
       "    .dataframe thead th {\n",
       "        text-align: right;\n",
       "    }\n",
       "</style>\n",
       "<table border=\"1\" class=\"dataframe\">\n",
       "  <thead>\n",
       "    <tr style=\"text-align: right;\">\n",
       "      <th></th>\n",
       "      <th>senior_citizen</th>\n",
       "      <th>monthly_charges</th>\n",
       "      <th>dependents_Yes</th>\n",
       "    </tr>\n",
       "    <tr>\n",
       "      <th>customer_id</th>\n",
       "      <th></th>\n",
       "      <th></th>\n",
       "      <th></th>\n",
       "    </tr>\n",
       "  </thead>\n",
       "  <tbody>\n",
       "    <tr>\n",
       "      <th>4083-BFNYK</th>\n",
       "      <td>1</td>\n",
       "      <td>95.00</td>\n",
       "      <td>0</td>\n",
       "    </tr>\n",
       "    <tr>\n",
       "      <th>5804-LEPIM</th>\n",
       "      <td>1</td>\n",
       "      <td>70.35</td>\n",
       "      <td>0</td>\n",
       "    </tr>\n",
       "    <tr>\n",
       "      <th>4895-TMWIR</th>\n",
       "      <td>1</td>\n",
       "      <td>19.95</td>\n",
       "      <td>0</td>\n",
       "    </tr>\n",
       "    <tr>\n",
       "      <th>1342-JPNKI</th>\n",
       "      <td>0</td>\n",
       "      <td>86.05</td>\n",
       "      <td>0</td>\n",
       "    </tr>\n",
       "    <tr>\n",
       "      <th>3397-AVTKU</th>\n",
       "      <td>0</td>\n",
       "      <td>60.00</td>\n",
       "      <td>0</td>\n",
       "    </tr>\n",
       "  </tbody>\n",
       "</table>\n",
       "</div>"
      ],
      "text/plain": [
       "             senior_citizen  monthly_charges  dependents_Yes\n",
       "customer_id                                                 \n",
       "4083-BFNYK                1            95.00               0\n",
       "5804-LEPIM                1            70.35               0\n",
       "4895-TMWIR                1            19.95               0\n",
       "1342-JPNKI                0            86.05               0\n",
       "3397-AVTKU                0            60.00               0"
      ]
     },
     "execution_count": 56,
     "metadata": {},
     "output_type": "execute_result"
    }
   ],
   "source": [
    "# The features that are going to be modeled\n",
    "\n",
    "features = ['senior_citizen', 'monthly_charges', 'dependents_Yes']\n",
    "X_train[features].head()"
   ]
  },
  {
   "cell_type": "code",
   "execution_count": 57,
   "id": "af1c7667-5be9-485b-8845-2db3beb1001f",
   "metadata": {
    "tags": []
   },
   "outputs": [
    {
     "data": {
      "text/html": [
       "<style>#sk-container-id-1 {color: black;}#sk-container-id-1 pre{padding: 0;}#sk-container-id-1 div.sk-toggleable {background-color: white;}#sk-container-id-1 label.sk-toggleable__label {cursor: pointer;display: block;width: 100%;margin-bottom: 0;padding: 0.3em;box-sizing: border-box;text-align: center;}#sk-container-id-1 label.sk-toggleable__label-arrow:before {content: \"▸\";float: left;margin-right: 0.25em;color: #696969;}#sk-container-id-1 label.sk-toggleable__label-arrow:hover:before {color: black;}#sk-container-id-1 div.sk-estimator:hover label.sk-toggleable__label-arrow:before {color: black;}#sk-container-id-1 div.sk-toggleable__content {max-height: 0;max-width: 0;overflow: hidden;text-align: left;background-color: #f0f8ff;}#sk-container-id-1 div.sk-toggleable__content pre {margin: 0.2em;color: black;border-radius: 0.25em;background-color: #f0f8ff;}#sk-container-id-1 input.sk-toggleable__control:checked~div.sk-toggleable__content {max-height: 200px;max-width: 100%;overflow: auto;}#sk-container-id-1 input.sk-toggleable__control:checked~label.sk-toggleable__label-arrow:before {content: \"▾\";}#sk-container-id-1 div.sk-estimator input.sk-toggleable__control:checked~label.sk-toggleable__label {background-color: #d4ebff;}#sk-container-id-1 div.sk-label input.sk-toggleable__control:checked~label.sk-toggleable__label {background-color: #d4ebff;}#sk-container-id-1 input.sk-hidden--visually {border: 0;clip: rect(1px 1px 1px 1px);clip: rect(1px, 1px, 1px, 1px);height: 1px;margin: -1px;overflow: hidden;padding: 0;position: absolute;width: 1px;}#sk-container-id-1 div.sk-estimator {font-family: monospace;background-color: #f0f8ff;border: 1px dotted black;border-radius: 0.25em;box-sizing: border-box;margin-bottom: 0.5em;}#sk-container-id-1 div.sk-estimator:hover {background-color: #d4ebff;}#sk-container-id-1 div.sk-parallel-item::after {content: \"\";width: 100%;border-bottom: 1px solid gray;flex-grow: 1;}#sk-container-id-1 div.sk-label:hover label.sk-toggleable__label {background-color: #d4ebff;}#sk-container-id-1 div.sk-serial::before {content: \"\";position: absolute;border-left: 1px solid gray;box-sizing: border-box;top: 0;bottom: 0;left: 50%;z-index: 0;}#sk-container-id-1 div.sk-serial {display: flex;flex-direction: column;align-items: center;background-color: white;padding-right: 0.2em;padding-left: 0.2em;position: relative;}#sk-container-id-1 div.sk-item {position: relative;z-index: 1;}#sk-container-id-1 div.sk-parallel {display: flex;align-items: stretch;justify-content: center;background-color: white;position: relative;}#sk-container-id-1 div.sk-item::before, #sk-container-id-1 div.sk-parallel-item::before {content: \"\";position: absolute;border-left: 1px solid gray;box-sizing: border-box;top: 0;bottom: 0;left: 50%;z-index: -1;}#sk-container-id-1 div.sk-parallel-item {display: flex;flex-direction: column;z-index: 1;position: relative;background-color: white;}#sk-container-id-1 div.sk-parallel-item:first-child::after {align-self: flex-end;width: 50%;}#sk-container-id-1 div.sk-parallel-item:last-child::after {align-self: flex-start;width: 50%;}#sk-container-id-1 div.sk-parallel-item:only-child::after {width: 0;}#sk-container-id-1 div.sk-dashed-wrapped {border: 1px dashed gray;margin: 0 0.4em 0.5em 0.4em;box-sizing: border-box;padding-bottom: 0.4em;background-color: white;}#sk-container-id-1 div.sk-label label {font-family: monospace;font-weight: bold;display: inline-block;line-height: 1.2em;}#sk-container-id-1 div.sk-label-container {text-align: center;}#sk-container-id-1 div.sk-container {/* jupyter's `normalize.less` sets `[hidden] { display: none; }` but bootstrap.min.css set `[hidden] { display: none !important; }` so we also need the `!important` here to be able to override the default hidden behavior on the sphinx rendered scikit-learn.org. See: https://github.com/scikit-learn/scikit-learn/issues/21755 */display: inline-block !important;position: relative;}#sk-container-id-1 div.sk-text-repr-fallback {display: none;}</style><div id=\"sk-container-id-1\" class=\"sk-top-container\"><div class=\"sk-text-repr-fallback\"><pre>LogisticRegression()</pre><b>In a Jupyter environment, please rerun this cell to show the HTML representation or trust the notebook. <br />On GitHub, the HTML representation is unable to render, please try loading this page with nbviewer.org.</b></div><div class=\"sk-container\" hidden><div class=\"sk-item\"><div class=\"sk-estimator sk-toggleable\"><input class=\"sk-toggleable__control sk-hidden--visually\" id=\"sk-estimator-id-1\" type=\"checkbox\" checked><label for=\"sk-estimator-id-1\" class=\"sk-toggleable__label sk-toggleable__label-arrow\">LogisticRegression</label><div class=\"sk-toggleable__content\"><pre>LogisticRegression()</pre></div></div></div></div></div>"
      ],
      "text/plain": [
       "LogisticRegression()"
      ]
     },
     "execution_count": 57,
     "metadata": {},
     "output_type": "execute_result"
    }
   ],
   "source": [
    "# Make and fit the model\n",
    "\n",
    "logr = LogisticRegression()\n",
    "\n",
    "logr.fit(X_train[features], y_train)"
   ]
  },
  {
   "cell_type": "code",
   "execution_count": 58,
   "id": "ad7eeeaa-2b8e-4034-b727-a4f0315baae2",
   "metadata": {
    "tags": []
   },
   "outputs": [
    {
     "data": {
      "text/plain": [
       "0.7256804733727811"
      ]
     },
     "execution_count": 58,
     "metadata": {},
     "output_type": "execute_result"
    }
   ],
   "source": [
    "# Calculate and return the accuracy score of the Logistic Regression \n",
    "\n",
    "logr.score(X_train[features], y_train)"
   ]
  },
  {
   "cell_type": "markdown",
   "id": "b7effcf1-e229-4cc1-8a3e-8ad0cd4d4589",
   "metadata": {},
   "source": [
    "> Since the model's accuracy score is close to our baseline, we will not use this model."
   ]
  },
  {
   "cell_type": "markdown",
   "id": "d2a60f16-5357-4e3a-b5e9-a3003e55a88a",
   "metadata": {},
   "source": [
    "### Random Forest"
   ]
  },
  {
   "cell_type": "code",
   "execution_count": 91,
   "id": "ce2e83e2-a01d-4d34-910f-93f9a98d2501",
   "metadata": {
    "tags": []
   },
   "outputs": [
    {
     "name": "stdout",
     "output_type": "stream",
     "text": [
      "min_leaf_samples = 1, max_depth = 20, accuracy train = 0.998, val = 0.789\n",
      "min_leaf_samples = 2, max_depth = 19, accuracy train = 0.928, val = 0.801\n",
      "min_leaf_samples = 3, max_depth = 18, accuracy train = 0.89, val = 0.801\n",
      "min_leaf_samples = 4, max_depth = 17, accuracy train = 0.868, val = 0.806\n",
      "min_leaf_samples = 5, max_depth = 16, accuracy train = 0.859, val = 0.808\n",
      "min_leaf_samples = 6, max_depth = 15, accuracy train = 0.849, val = 0.809\n",
      "min_leaf_samples = 7, max_depth = 14, accuracy train = 0.843, val = 0.801\n",
      "min_leaf_samples = 8, max_depth = 13, accuracy train = 0.839, val = 0.801\n",
      "min_leaf_samples = 9, max_depth = 12, accuracy train = 0.835, val = 0.803\n",
      "min_leaf_samples = 10, max_depth = 11, accuracy train = 0.83, val = 0.804\n",
      "min_leaf_samples = 11, max_depth = 10, accuracy train = 0.827, val = 0.804\n",
      "min_leaf_samples = 12, max_depth = 9, accuracy train = 0.823, val = 0.808\n",
      "min_leaf_samples = 13, max_depth = 8, accuracy train = 0.817, val = 0.806\n",
      "min_leaf_samples = 14, max_depth = 7, accuracy train = 0.81, val = 0.801\n",
      "min_leaf_samples = 15, max_depth = 6, accuracy train = 0.805, val = 0.801\n",
      "min_leaf_samples = 16, max_depth = 5, accuracy train = 0.8, val = 0.796\n",
      "min_leaf_samples = 17, max_depth = 4, accuracy train = 0.796, val = 0.792\n",
      "min_leaf_samples = 18, max_depth = 3, accuracy train = 0.782, val = 0.777\n",
      "min_leaf_samples = 19, max_depth = 2, accuracy train = 0.745, val = 0.742\n",
      "min_leaf_samples = 20, max_depth = 1, accuracy train = 0.735, val = 0.735\n"
     ]
    }
   ],
   "source": [
    "# initializes an empty list named stats. Creates a for-loop that iterates 10 times each time changing max depth and min leaf samples. Then appends to the list and prints out results.\n",
    "stats = []\n",
    "\n",
    "for x in range(1,21):\n",
    "    rf = RandomForestClassifier(min_samples_leaf=x, max_depth=21-x, random_state=123)\n",
    "\n",
    "    rf.fit(X_train, y_train)\n",
    "\n",
    "    y_pred = rf.predict(X_train)\n",
    "\n",
    "    acc = rf.score(X_train, y_train)\n",
    "    acc_val = rf.score(X_validate, y_validate)\n",
    "    \n",
    "    stats.append([x,21-x,round(acc,2),round(acc_val,2) ]) \n",
    "    \n",
    "    print(f'min_leaf_samples = {x}, max_depth = {21-x}, accuracy train = {round(acc,3)}, val = {round(acc_val,3)}')"
   ]
  },
  {
   "cell_type": "code",
   "execution_count": 92,
   "id": "a1ca9556-7ab1-4663-813a-09ea3bb79342",
   "metadata": {
    "tags": []
   },
   "outputs": [
    {
     "data": {
      "text/html": [
       "<div>\n",
       "<style scoped>\n",
       "    .dataframe tbody tr th:only-of-type {\n",
       "        vertical-align: middle;\n",
       "    }\n",
       "\n",
       "    .dataframe tbody tr th {\n",
       "        vertical-align: top;\n",
       "    }\n",
       "\n",
       "    .dataframe thead th {\n",
       "        text-align: right;\n",
       "    }\n",
       "</style>\n",
       "<table border=\"1\" class=\"dataframe\">\n",
       "  <thead>\n",
       "    <tr style=\"text-align: right;\">\n",
       "      <th></th>\n",
       "      <th>min_leaf</th>\n",
       "      <th>max_depth</th>\n",
       "      <th>train_acc</th>\n",
       "      <th>val_acc</th>\n",
       "    </tr>\n",
       "  </thead>\n",
       "  <tbody>\n",
       "    <tr>\n",
       "      <th>0</th>\n",
       "      <td>1</td>\n",
       "      <td>20</td>\n",
       "      <td>1.00</td>\n",
       "      <td>0.79</td>\n",
       "    </tr>\n",
       "    <tr>\n",
       "      <th>1</th>\n",
       "      <td>2</td>\n",
       "      <td>19</td>\n",
       "      <td>0.93</td>\n",
       "      <td>0.80</td>\n",
       "    </tr>\n",
       "    <tr>\n",
       "      <th>2</th>\n",
       "      <td>3</td>\n",
       "      <td>18</td>\n",
       "      <td>0.89</td>\n",
       "      <td>0.80</td>\n",
       "    </tr>\n",
       "    <tr>\n",
       "      <th>3</th>\n",
       "      <td>4</td>\n",
       "      <td>17</td>\n",
       "      <td>0.87</td>\n",
       "      <td>0.81</td>\n",
       "    </tr>\n",
       "    <tr>\n",
       "      <th>4</th>\n",
       "      <td>5</td>\n",
       "      <td>16</td>\n",
       "      <td>0.86</td>\n",
       "      <td>0.81</td>\n",
       "    </tr>\n",
       "    <tr>\n",
       "      <th>5</th>\n",
       "      <td>6</td>\n",
       "      <td>15</td>\n",
       "      <td>0.85</td>\n",
       "      <td>0.81</td>\n",
       "    </tr>\n",
       "    <tr>\n",
       "      <th>6</th>\n",
       "      <td>7</td>\n",
       "      <td>14</td>\n",
       "      <td>0.84</td>\n",
       "      <td>0.80</td>\n",
       "    </tr>\n",
       "    <tr>\n",
       "      <th>7</th>\n",
       "      <td>8</td>\n",
       "      <td>13</td>\n",
       "      <td>0.84</td>\n",
       "      <td>0.80</td>\n",
       "    </tr>\n",
       "    <tr>\n",
       "      <th>8</th>\n",
       "      <td>9</td>\n",
       "      <td>12</td>\n",
       "      <td>0.83</td>\n",
       "      <td>0.80</td>\n",
       "    </tr>\n",
       "    <tr>\n",
       "      <th>9</th>\n",
       "      <td>10</td>\n",
       "      <td>11</td>\n",
       "      <td>0.83</td>\n",
       "      <td>0.80</td>\n",
       "    </tr>\n",
       "    <tr>\n",
       "      <th>10</th>\n",
       "      <td>11</td>\n",
       "      <td>10</td>\n",
       "      <td>0.83</td>\n",
       "      <td>0.80</td>\n",
       "    </tr>\n",
       "    <tr>\n",
       "      <th>11</th>\n",
       "      <td>12</td>\n",
       "      <td>9</td>\n",
       "      <td>0.82</td>\n",
       "      <td>0.81</td>\n",
       "    </tr>\n",
       "    <tr>\n",
       "      <th>12</th>\n",
       "      <td>13</td>\n",
       "      <td>8</td>\n",
       "      <td>0.82</td>\n",
       "      <td>0.81</td>\n",
       "    </tr>\n",
       "    <tr>\n",
       "      <th>13</th>\n",
       "      <td>14</td>\n",
       "      <td>7</td>\n",
       "      <td>0.81</td>\n",
       "      <td>0.80</td>\n",
       "    </tr>\n",
       "    <tr>\n",
       "      <th>14</th>\n",
       "      <td>15</td>\n",
       "      <td>6</td>\n",
       "      <td>0.81</td>\n",
       "      <td>0.80</td>\n",
       "    </tr>\n",
       "    <tr>\n",
       "      <th>15</th>\n",
       "      <td>16</td>\n",
       "      <td>5</td>\n",
       "      <td>0.80</td>\n",
       "      <td>0.80</td>\n",
       "    </tr>\n",
       "    <tr>\n",
       "      <th>16</th>\n",
       "      <td>17</td>\n",
       "      <td>4</td>\n",
       "      <td>0.80</td>\n",
       "      <td>0.79</td>\n",
       "    </tr>\n",
       "    <tr>\n",
       "      <th>17</th>\n",
       "      <td>18</td>\n",
       "      <td>3</td>\n",
       "      <td>0.78</td>\n",
       "      <td>0.78</td>\n",
       "    </tr>\n",
       "    <tr>\n",
       "      <th>18</th>\n",
       "      <td>19</td>\n",
       "      <td>2</td>\n",
       "      <td>0.74</td>\n",
       "      <td>0.74</td>\n",
       "    </tr>\n",
       "    <tr>\n",
       "      <th>19</th>\n",
       "      <td>20</td>\n",
       "      <td>1</td>\n",
       "      <td>0.73</td>\n",
       "      <td>0.73</td>\n",
       "    </tr>\n",
       "  </tbody>\n",
       "</table>\n",
       "</div>"
      ],
      "text/plain": [
       "    min_leaf  max_depth  train_acc  val_acc\n",
       "0          1         20       1.00     0.79\n",
       "1          2         19       0.93     0.80\n",
       "2          3         18       0.89     0.80\n",
       "3          4         17       0.87     0.81\n",
       "4          5         16       0.86     0.81\n",
       "5          6         15       0.85     0.81\n",
       "6          7         14       0.84     0.80\n",
       "7          8         13       0.84     0.80\n",
       "8          9         12       0.83     0.80\n",
       "9         10         11       0.83     0.80\n",
       "10        11         10       0.83     0.80\n",
       "11        12          9       0.82     0.81\n",
       "12        13          8       0.82     0.81\n",
       "13        14          7       0.81     0.80\n",
       "14        15          6       0.81     0.80\n",
       "15        16          5       0.80     0.80\n",
       "16        17          4       0.80     0.79\n",
       "17        18          3       0.78     0.78\n",
       "18        19          2       0.74     0.74\n",
       "19        20          1       0.73     0.73"
      ]
     },
     "execution_count": 92,
     "metadata": {},
     "output_type": "execute_result"
    }
   ],
   "source": [
    "stats_df = pd.DataFrame(stats, columns = ['min_leaf', 'max_depth', 'train_acc', 'val_acc'])\n",
    "stats_df                                       "
   ]
  },
  {
   "cell_type": "code",
   "execution_count": 93,
   "id": "5220fbeb-e83e-473d-85bd-748cdb5a0f03",
   "metadata": {
    "tags": []
   },
   "outputs": [
    {
     "data": {
      "text/html": [
       "<div>\n",
       "<style scoped>\n",
       "    .dataframe tbody tr th:only-of-type {\n",
       "        vertical-align: middle;\n",
       "    }\n",
       "\n",
       "    .dataframe tbody tr th {\n",
       "        vertical-align: top;\n",
       "    }\n",
       "\n",
       "    .dataframe thead th {\n",
       "        text-align: right;\n",
       "    }\n",
       "</style>\n",
       "<table border=\"1\" class=\"dataframe\">\n",
       "  <thead>\n",
       "    <tr style=\"text-align: right;\">\n",
       "      <th></th>\n",
       "      <th>min_leaf</th>\n",
       "      <th>max_depth</th>\n",
       "      <th>train_acc</th>\n",
       "      <th>val_acc</th>\n",
       "    </tr>\n",
       "  </thead>\n",
       "  <tbody>\n",
       "    <tr>\n",
       "      <th>3</th>\n",
       "      <td>4</td>\n",
       "      <td>17</td>\n",
       "      <td>0.87</td>\n",
       "      <td>0.81</td>\n",
       "    </tr>\n",
       "    <tr>\n",
       "      <th>4</th>\n",
       "      <td>5</td>\n",
       "      <td>16</td>\n",
       "      <td>0.86</td>\n",
       "      <td>0.81</td>\n",
       "    </tr>\n",
       "    <tr>\n",
       "      <th>5</th>\n",
       "      <td>6</td>\n",
       "      <td>15</td>\n",
       "      <td>0.85</td>\n",
       "      <td>0.81</td>\n",
       "    </tr>\n",
       "    <tr>\n",
       "      <th>11</th>\n",
       "      <td>12</td>\n",
       "      <td>9</td>\n",
       "      <td>0.82</td>\n",
       "      <td>0.81</td>\n",
       "    </tr>\n",
       "    <tr>\n",
       "      <th>12</th>\n",
       "      <td>13</td>\n",
       "      <td>8</td>\n",
       "      <td>0.82</td>\n",
       "      <td>0.81</td>\n",
       "    </tr>\n",
       "    <tr>\n",
       "      <th>10</th>\n",
       "      <td>11</td>\n",
       "      <td>10</td>\n",
       "      <td>0.83</td>\n",
       "      <td>0.80</td>\n",
       "    </tr>\n",
       "    <tr>\n",
       "      <th>2</th>\n",
       "      <td>3</td>\n",
       "      <td>18</td>\n",
       "      <td>0.89</td>\n",
       "      <td>0.80</td>\n",
       "    </tr>\n",
       "    <tr>\n",
       "      <th>6</th>\n",
       "      <td>7</td>\n",
       "      <td>14</td>\n",
       "      <td>0.84</td>\n",
       "      <td>0.80</td>\n",
       "    </tr>\n",
       "    <tr>\n",
       "      <th>7</th>\n",
       "      <td>8</td>\n",
       "      <td>13</td>\n",
       "      <td>0.84</td>\n",
       "      <td>0.80</td>\n",
       "    </tr>\n",
       "    <tr>\n",
       "      <th>8</th>\n",
       "      <td>9</td>\n",
       "      <td>12</td>\n",
       "      <td>0.83</td>\n",
       "      <td>0.80</td>\n",
       "    </tr>\n",
       "    <tr>\n",
       "      <th>9</th>\n",
       "      <td>10</td>\n",
       "      <td>11</td>\n",
       "      <td>0.83</td>\n",
       "      <td>0.80</td>\n",
       "    </tr>\n",
       "    <tr>\n",
       "      <th>1</th>\n",
       "      <td>2</td>\n",
       "      <td>19</td>\n",
       "      <td>0.93</td>\n",
       "      <td>0.80</td>\n",
       "    </tr>\n",
       "    <tr>\n",
       "      <th>13</th>\n",
       "      <td>14</td>\n",
       "      <td>7</td>\n",
       "      <td>0.81</td>\n",
       "      <td>0.80</td>\n",
       "    </tr>\n",
       "    <tr>\n",
       "      <th>14</th>\n",
       "      <td>15</td>\n",
       "      <td>6</td>\n",
       "      <td>0.81</td>\n",
       "      <td>0.80</td>\n",
       "    </tr>\n",
       "    <tr>\n",
       "      <th>15</th>\n",
       "      <td>16</td>\n",
       "      <td>5</td>\n",
       "      <td>0.80</td>\n",
       "      <td>0.80</td>\n",
       "    </tr>\n",
       "    <tr>\n",
       "      <th>16</th>\n",
       "      <td>17</td>\n",
       "      <td>4</td>\n",
       "      <td>0.80</td>\n",
       "      <td>0.79</td>\n",
       "    </tr>\n",
       "    <tr>\n",
       "      <th>0</th>\n",
       "      <td>1</td>\n",
       "      <td>20</td>\n",
       "      <td>1.00</td>\n",
       "      <td>0.79</td>\n",
       "    </tr>\n",
       "    <tr>\n",
       "      <th>17</th>\n",
       "      <td>18</td>\n",
       "      <td>3</td>\n",
       "      <td>0.78</td>\n",
       "      <td>0.78</td>\n",
       "    </tr>\n",
       "    <tr>\n",
       "      <th>18</th>\n",
       "      <td>19</td>\n",
       "      <td>2</td>\n",
       "      <td>0.74</td>\n",
       "      <td>0.74</td>\n",
       "    </tr>\n",
       "    <tr>\n",
       "      <th>19</th>\n",
       "      <td>20</td>\n",
       "      <td>1</td>\n",
       "      <td>0.73</td>\n",
       "      <td>0.73</td>\n",
       "    </tr>\n",
       "  </tbody>\n",
       "</table>\n",
       "</div>"
      ],
      "text/plain": [
       "    min_leaf  max_depth  train_acc  val_acc\n",
       "3          4         17       0.87     0.81\n",
       "4          5         16       0.86     0.81\n",
       "5          6         15       0.85     0.81\n",
       "11        12          9       0.82     0.81\n",
       "12        13          8       0.82     0.81\n",
       "10        11         10       0.83     0.80\n",
       "2          3         18       0.89     0.80\n",
       "6          7         14       0.84     0.80\n",
       "7          8         13       0.84     0.80\n",
       "8          9         12       0.83     0.80\n",
       "9         10         11       0.83     0.80\n",
       "1          2         19       0.93     0.80\n",
       "13        14          7       0.81     0.80\n",
       "14        15          6       0.81     0.80\n",
       "15        16          5       0.80     0.80\n",
       "16        17          4       0.80     0.79\n",
       "0          1         20       1.00     0.79\n",
       "17        18          3       0.78     0.78\n",
       "18        19          2       0.74     0.74\n",
       "19        20          1       0.73     0.73"
      ]
     },
     "execution_count": 93,
     "metadata": {},
     "output_type": "execute_result"
    }
   ],
   "source": [
    "stats_df.sort_values('val_acc', ascending=False)"
   ]
  },
  {
   "cell_type": "markdown",
   "id": "9f3259d3-abec-491a-98f4-2d9b9572fb09",
   "metadata": {
    "tags": []
   },
   "source": [
    "> Choosing to go with min_leaf of 6 with a max_depth of 15 to be conservative of not being overfit"
   ]
  },
  {
   "cell_type": "markdown",
   "id": "82d00e1b-5ad0-4cc4-9fa2-e477964d857c",
   "metadata": {},
   "source": [
    "### Decision Tree"
   ]
  },
  {
   "cell_type": "code",
   "execution_count": 95,
   "id": "aaeca8cf-d95c-480a-a7be-90f1c66ecf8a",
   "metadata": {
    "tags": []
   },
   "outputs": [
    {
     "name": "stdout",
     "output_type": "stream",
     "text": [
      "max depth of 1, the accuracy train = 0.7359, val = 0.7253\n",
      "max depth of 2, the accuracy train = 0.7837, val = 0.7878\n",
      "max depth of 3, the accuracy train = 0.7837, val = 0.7878\n",
      "max depth of 4, the accuracy train = 0.7927, val = 0.7771\n",
      "max depth of 5, the accuracy train = 0.8024, val = 0.7921\n",
      "max depth of 6, the accuracy train = 0.8107, val = 0.7885\n",
      "max depth of 7, the accuracy train = 0.826, val = 0.7857\n",
      "max depth of 8, the accuracy train = 0.8402, val = 0.7899\n",
      "max depth of 9, the accuracy train = 0.8604, val = 0.7828\n",
      "max depth of 10, the accuracy train = 0.8847, val = 0.7622\n",
      "max depth of 11, the accuracy train = 0.9044, val = 0.7573\n",
      "max depth of 12, the accuracy train = 0.9236, val = 0.753\n",
      "max depth of 13, the accuracy train = 0.9413, val = 0.7516\n",
      "max depth of 14, the accuracy train = 0.9529, val = 0.7566\n",
      "max depth of 15, the accuracy train = 0.965, val = 0.7445\n",
      "max depth of 16, the accuracy train = 0.9725, val = 0.7331\n",
      "max depth of 17, the accuracy train = 0.9768, val = 0.7346\n",
      "max depth of 18, the accuracy train = 0.982, val = 0.7374\n",
      "max depth of 19, the accuracy train = 0.9849, val = 0.7459\n",
      "max depth of 20, the accuracy train = 0.987, val = 0.7402\n"
     ]
    }
   ],
   "source": [
    "# creates a for loop iterating 20 times with a different max depth each iteration.\n",
    "for x in range(1,21):\n",
    "    #create the decision tree object\n",
    "    tree = DecisionTreeClassifier(max_depth=x)\n",
    "    \n",
    "    #fit the object only on TRAIN DATA!\n",
    "    tree.fit(X_train, y_train)\n",
    "    \n",
    "    #calculate the accuracy for train and validate\n",
    "    acc = tree.score(X_train, y_train)\n",
    "    acc_v = tree.score(X_validate, y_validate)\n",
    "    \n",
    "    print(f'max depth of {x}, the accuracy train = {round(acc,4)}, val = {round(acc_v,4)}')"
   ]
  },
  {
   "cell_type": "markdown",
   "id": "21d63a50-27b2-4272-b501-1c7b03732305",
   "metadata": {
    "tags": []
   },
   "source": [
    "> Choosing to go with max depth of 3 to be conservative of not being overfit"
   ]
  },
  {
   "cell_type": "markdown",
   "id": "d078fbc1-9723-4812-994b-1310c9a938aa",
   "metadata": {},
   "source": [
    "### Evaluation"
   ]
  },
  {
   "cell_type": "markdown",
   "id": "e3ef00c9-4e06-44eb-a6d9-b95cd784995b",
   "metadata": {},
   "source": [
    "* After checking the accuracies of the the models, Random Forest was the best one\n",
    "\n",
    "* Random Forest will be used as our final model for the test data evaluation"
   ]
  },
  {
   "cell_type": "code",
   "execution_count": 98,
   "id": "819ae197-be80-40dd-8f0f-01239b3ccff9",
   "metadata": {
    "tags": []
   },
   "outputs": [
    {
     "name": "stdout",
     "output_type": "stream",
     "text": [
      "min_leaf_samples = 6, max_depth = 15, accuracy test = 0.803\n"
     ]
    }
   ],
   "source": [
    "# creates the random forest object\n",
    "rf = RandomForestClassifier(min_samples_leaf=6, max_depth=15, random_state=123)\n",
    "\n",
    "# fits the object only on train data\n",
    "rf.fit(X_train, y_train)\n",
    "\n",
    "# saves the predictions of X_test to a variable y_pred\n",
    "y_pred = rf.predict(X_test)\n",
    "\n",
    "# calculates the accuracy for test\n",
    "acc_test = rf.score(X_test, y_test)\n",
    "\n",
    "print(f'min_leaf_samples = 6, max_depth = 15, accuracy test = {round(acc_test,3)}')"
   ]
  },
  {
   "cell_type": "markdown",
   "id": "2717dfaf-3a44-413b-9675-ff9b306df076",
   "metadata": {},
   "source": [
    "The final model's score is 80%, which is higher than the baseline."
   ]
  },
  {
   "cell_type": "markdown",
   "id": "8aba99ee-535d-4d21-a11e-4f886c9bfc36",
   "metadata": {
    "tags": []
   },
   "source": [
    "### Conclusion"
   ]
  },
  {
   "cell_type": "markdown",
   "id": "b9503ffc-0c63-4706-ba5b-3d2e4f06d2c2",
   "metadata": {},
   "source": [
    "#### Recommendations"
   ]
  },
  {
   "cell_type": "markdown",
   "id": "4a6b2dba-fb58-4727-b547-b1820c4eb501",
   "metadata": {},
   "source": [
    "> For customers who are have high monthly charges, I would recommened providing targeted retention offers, such as discounts or additional services, to incentivize them to stay.\n",
    "\n",
    "> For customers who do not have dependents, maybe creating customized offers or promotions that align with the lifestyle of individuals without dependents will encourage them to stay.\n",
    "\n",
    "> For customers who are senior citizens, Providing personalized and patient customer support that caters to the specific needs of senior citizens could help reduce the churn of customers who are senior citizens."
   ]
  },
  {
   "cell_type": "markdown",
   "id": "73d983be-6448-4512-8689-28e38e3df560",
   "metadata": {},
   "source": [
    "### Next Steps"
   ]
  },
  {
   "cell_type": "markdown",
   "id": "bf8ba2c2-e8e3-42ff-8895-7c6c35d17acf",
   "metadata": {},
   "source": [
    "* With more time, I could look deeper into monthly charges and check to see what exactly is causing their high charges.\n",
    "\n",
    "* Come back to the model and update it with any new findings."
   ]
  },
  {
   "cell_type": "code",
   "execution_count": 101,
   "id": "36c9deb9-b92f-4b76-8556-41a98f766d4a",
   "metadata": {},
   "outputs": [
    {
     "data": {
      "text/html": [
       "<div>\n",
       "<style scoped>\n",
       "    .dataframe tbody tr th:only-of-type {\n",
       "        vertical-align: middle;\n",
       "    }\n",
       "\n",
       "    .dataframe tbody tr th {\n",
       "        vertical-align: top;\n",
       "    }\n",
       "\n",
       "    .dataframe thead th {\n",
       "        text-align: right;\n",
       "    }\n",
       "</style>\n",
       "<table border=\"1\" class=\"dataframe\">\n",
       "  <thead>\n",
       "    <tr style=\"text-align: right;\">\n",
       "      <th></th>\n",
       "      <th>gender</th>\n",
       "      <th>senior_citizen</th>\n",
       "      <th>partner</th>\n",
       "      <th>dependents</th>\n",
       "      <th>tenure</th>\n",
       "      <th>phone_service</th>\n",
       "      <th>multiple_lines</th>\n",
       "      <th>online_security</th>\n",
       "      <th>online_backup</th>\n",
       "      <th>device_protection</th>\n",
       "      <th>tech_support</th>\n",
       "      <th>streaming_tv</th>\n",
       "      <th>streaming_movies</th>\n",
       "      <th>paperless_billing</th>\n",
       "      <th>monthly_charges</th>\n",
       "      <th>total_charges</th>\n",
       "      <th>churn</th>\n",
       "      <th>contract_type</th>\n",
       "      <th>internet_service_type</th>\n",
       "      <th>payment_type</th>\n",
       "    </tr>\n",
       "    <tr>\n",
       "      <th>customer_id</th>\n",
       "      <th></th>\n",
       "      <th></th>\n",
       "      <th></th>\n",
       "      <th></th>\n",
       "      <th></th>\n",
       "      <th></th>\n",
       "      <th></th>\n",
       "      <th></th>\n",
       "      <th></th>\n",
       "      <th></th>\n",
       "      <th></th>\n",
       "      <th></th>\n",
       "      <th></th>\n",
       "      <th></th>\n",
       "      <th></th>\n",
       "      <th></th>\n",
       "      <th></th>\n",
       "      <th></th>\n",
       "      <th></th>\n",
       "      <th></th>\n",
       "    </tr>\n",
       "  </thead>\n",
       "  <tbody>\n",
       "    <tr>\n",
       "      <th>6941-KXRRV</th>\n",
       "      <td>Female</td>\n",
       "      <td>1</td>\n",
       "      <td>Yes</td>\n",
       "      <td>No</td>\n",
       "      <td>48</td>\n",
       "      <td>Yes</td>\n",
       "      <td>No</td>\n",
       "      <td>No</td>\n",
       "      <td>Yes</td>\n",
       "      <td>No</td>\n",
       "      <td>No</td>\n",
       "      <td>No</td>\n",
       "      <td>Yes</td>\n",
       "      <td>Yes</td>\n",
       "      <td>58.95</td>\n",
       "      <td>2789.70</td>\n",
       "      <td>No</td>\n",
       "      <td>One year</td>\n",
       "      <td>DSL</td>\n",
       "      <td>Bank transfer (automatic)</td>\n",
       "    </tr>\n",
       "    <tr>\n",
       "      <th>0206-OYVOC</th>\n",
       "      <td>Female</td>\n",
       "      <td>0</td>\n",
       "      <td>Yes</td>\n",
       "      <td>Yes</td>\n",
       "      <td>46</td>\n",
       "      <td>Yes</td>\n",
       "      <td>No</td>\n",
       "      <td>No internet service</td>\n",
       "      <td>No internet service</td>\n",
       "      <td>No internet service</td>\n",
       "      <td>No internet service</td>\n",
       "      <td>No internet service</td>\n",
       "      <td>No internet service</td>\n",
       "      <td>Yes</td>\n",
       "      <td>19.25</td>\n",
       "      <td>864.20</td>\n",
       "      <td>No</td>\n",
       "      <td>Two year</td>\n",
       "      <td>None</td>\n",
       "      <td>Mailed check</td>\n",
       "    </tr>\n",
       "    <tr>\n",
       "      <th>7442-YGZFK</th>\n",
       "      <td>Male</td>\n",
       "      <td>0</td>\n",
       "      <td>No</td>\n",
       "      <td>No</td>\n",
       "      <td>1</td>\n",
       "      <td>Yes</td>\n",
       "      <td>Yes</td>\n",
       "      <td>No</td>\n",
       "      <td>No</td>\n",
       "      <td>No</td>\n",
       "      <td>No</td>\n",
       "      <td>No</td>\n",
       "      <td>No</td>\n",
       "      <td>Yes</td>\n",
       "      <td>49.80</td>\n",
       "      <td>49.80</td>\n",
       "      <td>No</td>\n",
       "      <td>Month-to-month</td>\n",
       "      <td>DSL</td>\n",
       "      <td>Credit card (automatic)</td>\n",
       "    </tr>\n",
       "    <tr>\n",
       "      <th>9018-PCIOK</th>\n",
       "      <td>Female</td>\n",
       "      <td>0</td>\n",
       "      <td>No</td>\n",
       "      <td>No</td>\n",
       "      <td>55</td>\n",
       "      <td>Yes</td>\n",
       "      <td>No</td>\n",
       "      <td>No</td>\n",
       "      <td>Yes</td>\n",
       "      <td>Yes</td>\n",
       "      <td>No</td>\n",
       "      <td>No</td>\n",
       "      <td>Yes</td>\n",
       "      <td>Yes</td>\n",
       "      <td>64.75</td>\n",
       "      <td>3617.10</td>\n",
       "      <td>No</td>\n",
       "      <td>Two year</td>\n",
       "      <td>DSL</td>\n",
       "      <td>Mailed check</td>\n",
       "    </tr>\n",
       "    <tr>\n",
       "      <th>1591-MQJTP</th>\n",
       "      <td>Male</td>\n",
       "      <td>1</td>\n",
       "      <td>Yes</td>\n",
       "      <td>No</td>\n",
       "      <td>51</td>\n",
       "      <td>Yes</td>\n",
       "      <td>Yes</td>\n",
       "      <td>Yes</td>\n",
       "      <td>No</td>\n",
       "      <td>Yes</td>\n",
       "      <td>No</td>\n",
       "      <td>No</td>\n",
       "      <td>Yes</td>\n",
       "      <td>Yes</td>\n",
       "      <td>93.65</td>\n",
       "      <td>4839.15</td>\n",
       "      <td>No</td>\n",
       "      <td>One year</td>\n",
       "      <td>Fiber optic</td>\n",
       "      <td>Bank transfer (automatic)</td>\n",
       "    </tr>\n",
       "  </tbody>\n",
       "</table>\n",
       "</div>"
      ],
      "text/plain": [
       "             gender  senior_citizen partner dependents  tenure phone_service  \\\n",
       "customer_id                                                                    \n",
       "6941-KXRRV   Female               1     Yes         No      48           Yes   \n",
       "0206-OYVOC   Female               0     Yes        Yes      46           Yes   \n",
       "7442-YGZFK     Male               0      No         No       1           Yes   \n",
       "9018-PCIOK   Female               0      No         No      55           Yes   \n",
       "1591-MQJTP     Male               1     Yes         No      51           Yes   \n",
       "\n",
       "            multiple_lines      online_security        online_backup  \\\n",
       "customer_id                                                            \n",
       "6941-KXRRV              No                   No                  Yes   \n",
       "0206-OYVOC              No  No internet service  No internet service   \n",
       "7442-YGZFK             Yes                   No                   No   \n",
       "9018-PCIOK              No                   No                  Yes   \n",
       "1591-MQJTP             Yes                  Yes                   No   \n",
       "\n",
       "               device_protection         tech_support         streaming_tv  \\\n",
       "customer_id                                                                  \n",
       "6941-KXRRV                    No                   No                   No   \n",
       "0206-OYVOC   No internet service  No internet service  No internet service   \n",
       "7442-YGZFK                    No                   No                   No   \n",
       "9018-PCIOK                   Yes                   No                   No   \n",
       "1591-MQJTP                   Yes                   No                   No   \n",
       "\n",
       "                streaming_movies paperless_billing  monthly_charges  \\\n",
       "customer_id                                                           \n",
       "6941-KXRRV                   Yes               Yes            58.95   \n",
       "0206-OYVOC   No internet service               Yes            19.25   \n",
       "7442-YGZFK                    No               Yes            49.80   \n",
       "9018-PCIOK                   Yes               Yes            64.75   \n",
       "1591-MQJTP                   Yes               Yes            93.65   \n",
       "\n",
       "             total_charges churn   contract_type internet_service_type  \\\n",
       "customer_id                                                              \n",
       "6941-KXRRV         2789.70    No        One year                   DSL   \n",
       "0206-OYVOC          864.20    No        Two year                  None   \n",
       "7442-YGZFK           49.80    No  Month-to-month                   DSL   \n",
       "9018-PCIOK         3617.10    No        Two year                   DSL   \n",
       "1591-MQJTP         4839.15    No        One year           Fiber optic   \n",
       "\n",
       "                          payment_type  \n",
       "customer_id                             \n",
       "6941-KXRRV   Bank transfer (automatic)  \n",
       "0206-OYVOC                Mailed check  \n",
       "7442-YGZFK     Credit card (automatic)  \n",
       "9018-PCIOK                Mailed check  \n",
       "1591-MQJTP   Bank transfer (automatic)  "
      ]
     },
     "execution_count": 101,
     "metadata": {},
     "output_type": "execute_result"
    }
   ],
   "source": [
    "test.head()"
   ]
  },
  {
   "cell_type": "code",
   "execution_count": 107,
   "id": "1c86472f-bb24-4edd-a339-d3ab54e8be11",
   "metadata": {
    "tags": []
   },
   "outputs": [],
   "source": [
    "test = test.reset_index()"
   ]
  },
  {
   "cell_type": "code",
   "execution_count": 108,
   "id": "b9c2d3eb-a3f4-4250-b988-b6164b74e064",
   "metadata": {
    "tags": []
   },
   "outputs": [
    {
     "data": {
      "text/html": [
       "<div>\n",
       "<style scoped>\n",
       "    .dataframe tbody tr th:only-of-type {\n",
       "        vertical-align: middle;\n",
       "    }\n",
       "\n",
       "    .dataframe tbody tr th {\n",
       "        vertical-align: top;\n",
       "    }\n",
       "\n",
       "    .dataframe thead th {\n",
       "        text-align: right;\n",
       "    }\n",
       "</style>\n",
       "<table border=\"1\" class=\"dataframe\">\n",
       "  <thead>\n",
       "    <tr style=\"text-align: right;\">\n",
       "      <th></th>\n",
       "      <th>customer_id</th>\n",
       "      <th>gender</th>\n",
       "      <th>senior_citizen</th>\n",
       "      <th>partner</th>\n",
       "      <th>dependents</th>\n",
       "      <th>tenure</th>\n",
       "      <th>phone_service</th>\n",
       "      <th>multiple_lines</th>\n",
       "      <th>online_security</th>\n",
       "      <th>online_backup</th>\n",
       "      <th>...</th>\n",
       "      <th>tech_support</th>\n",
       "      <th>streaming_tv</th>\n",
       "      <th>streaming_movies</th>\n",
       "      <th>paperless_billing</th>\n",
       "      <th>monthly_charges</th>\n",
       "      <th>total_charges</th>\n",
       "      <th>churn</th>\n",
       "      <th>contract_type</th>\n",
       "      <th>internet_service_type</th>\n",
       "      <th>payment_type</th>\n",
       "    </tr>\n",
       "  </thead>\n",
       "  <tbody>\n",
       "    <tr>\n",
       "      <th>0</th>\n",
       "      <td>6941-KXRRV</td>\n",
       "      <td>Female</td>\n",
       "      <td>1</td>\n",
       "      <td>Yes</td>\n",
       "      <td>No</td>\n",
       "      <td>48</td>\n",
       "      <td>Yes</td>\n",
       "      <td>No</td>\n",
       "      <td>No</td>\n",
       "      <td>Yes</td>\n",
       "      <td>...</td>\n",
       "      <td>No</td>\n",
       "      <td>No</td>\n",
       "      <td>Yes</td>\n",
       "      <td>Yes</td>\n",
       "      <td>58.95</td>\n",
       "      <td>2789.7</td>\n",
       "      <td>No</td>\n",
       "      <td>One year</td>\n",
       "      <td>DSL</td>\n",
       "      <td>Bank transfer (automatic)</td>\n",
       "    </tr>\n",
       "  </tbody>\n",
       "</table>\n",
       "<p>1 rows × 21 columns</p>\n",
       "</div>"
      ],
      "text/plain": [
       "  customer_id  gender  senior_citizen partner dependents  tenure  \\\n",
       "0  6941-KXRRV  Female               1     Yes         No      48   \n",
       "\n",
       "  phone_service multiple_lines online_security online_backup  ...  \\\n",
       "0           Yes             No              No           Yes  ...   \n",
       "\n",
       "  tech_support streaming_tv streaming_movies paperless_billing  \\\n",
       "0           No           No              Yes               Yes   \n",
       "\n",
       "  monthly_charges  total_charges  churn contract_type internet_service_type  \\\n",
       "0           58.95         2789.7     No      One year                   DSL   \n",
       "\n",
       "                payment_type  \n",
       "0  Bank transfer (automatic)  \n",
       "\n",
       "[1 rows x 21 columns]"
      ]
     },
     "execution_count": 108,
     "metadata": {},
     "output_type": "execute_result"
    }
   ],
   "source": [
    "test.head(1)"
   ]
  },
  {
   "cell_type": "code",
   "execution_count": 110,
   "id": "916f5ffd-9ee1-46e2-902e-9f36479bfec4",
   "metadata": {
    "tags": []
   },
   "outputs": [
    {
     "name": "stdout",
     "output_type": "stream",
     "text": [
      "Export complete.\n"
     ]
    }
   ],
   "source": [
    "# Make predictions on the test set\n",
    "test_prob = rf.predict_proba(X_test)\n",
    "test_pred = rf.predict(X_test)\n",
    "\n",
    "# Round the probabilities to 2 decimal places\n",
    "rounded_test_prob = np.round(test_prob[:, 1], 2)\n",
    "\n",
    "# Create a DataFrame with predictions\n",
    "pred_df = pd.DataFrame({\n",
    "    'customer_id': test['customer_id'],\n",
    "    'probability_of_churn': rounded_test_prob,  # Assuming 1 is the index for the positive class\n",
    "    'prediction_of_churn': test_pred\n",
    "})\n",
    "\n",
    "# Save the predictions to a CSV file\n",
    "pred_df.to_csv('predictions.csv', index=False)\n",
    "print('Export complete.')"
   ]
  },
  {
   "cell_type": "code",
   "execution_count": null,
   "id": "33fc9d81-3df3-43a0-9103-4fe79fc5f588",
   "metadata": {},
   "outputs": [],
   "source": []
  }
 ],
 "metadata": {
  "kernelspec": {
   "display_name": "Python 3 (ipykernel)",
   "language": "python",
   "name": "python3"
  },
  "language_info": {
   "codemirror_mode": {
    "name": "ipython",
    "version": 3
   },
   "file_extension": ".py",
   "mimetype": "text/x-python",
   "name": "python",
   "nbconvert_exporter": "python",
   "pygments_lexer": "ipython3",
   "version": "3.11.5"
  }
 },
 "nbformat": 4,
 "nbformat_minor": 5
}
